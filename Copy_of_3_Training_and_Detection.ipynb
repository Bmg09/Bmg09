{
  "cells": [
    {
      "cell_type": "markdown",
      "metadata": {
        "id": "view-in-github",
        "colab_type": "text"
      },
      "source": [
        "<a href=\"https://colab.research.google.com/github/Bmg09/Bmg09/blob/main/Copy_of_3_Training_and_Detection.ipynb\" target=\"_parent\"><img src=\"https://colab.research.google.com/assets/colab-badge.svg\" alt=\"Open In Colab\"/></a>"
      ]
    },
    {
      "cell_type": "markdown",
      "metadata": {
        "id": "QUANWN3rpfC9"
      },
      "source": [
        "# 0. Setup Paths"
      ]
    },
    {
      "cell_type": "code",
      "execution_count": 57,
      "metadata": {
        "id": "146BB11JpfDA"
      },
      "outputs": [],
      "source": [
        "import os"
      ]
    },
    {
      "cell_type": "code",
      "execution_count": 58,
      "metadata": {
        "id": "42hJEdo_pfDB"
      },
      "outputs": [],
      "source": [
        "CUSTOM_MODEL_NAME = 'my_ssd_mobilenet_v2' \n",
        "PRETRAINED_MODEL_NAME = 'ssd_mobilenet_v2_fpnlite_640x640_coco17_tpu-8'\n",
        "PRETRAINED_MODEL_URL = 'http://download.tensorflow.org/models/object_detection/tf2/20200711/ssd_mobilenet_v2_fpnlite_640x640_coco17_tpu-8.tar.gz'\n",
        "TF_RECORD_SCRIPT_NAME = 'generate_tfrecord.py'\n",
        "LABEL_MAP_NAME = 'label_map.pbtxt'"
      ]
    },
    {
      "cell_type": "code",
      "execution_count": 59,
      "metadata": {
        "id": "hbPhYVy_pfDB"
      },
      "outputs": [],
      "source": [
        "paths = {\n",
        "    'WORKSPACE_PATH': os.path.join('Tensorflow', 'workspace'),\n",
        "    'SCRIPTS_PATH': os.path.join('Tensorflow','scripts'),\n",
        "    'APIMODEL_PATH': os.path.join('Tensorflow','models'),\n",
        "    'ANNOTATION_PATH': os.path.join('Tensorflow', 'workspace','annotations'),\n",
        "    'IMAGE_PATH': os.path.join('Tensorflow', 'workspace','images'),\n",
        "    'MODEL_PATH': os.path.join('Tensorflow', 'workspace','models'),\n",
        "    'PRETRAINED_MODEL_PATH': os.path.join('Tensorflow', 'workspace','pre-trained-models'),\n",
        "    'CHECKPOINT_PATH': os.path.join('Tensorflow', 'workspace','models',CUSTOM_MODEL_NAME), \n",
        "    'OUTPUT_PATH': os.path.join('Tensorflow', 'workspace','models',CUSTOM_MODEL_NAME, 'export'), \n",
        "    'TFJS_PATH':os.path.join('Tensorflow', 'workspace','models',CUSTOM_MODEL_NAME, 'tfjsexport'), \n",
        "    'TFLITE_PATH':os.path.join('Tensorflow', 'workspace','models',CUSTOM_MODEL_NAME, 'tfliteexport'), \n",
        "    'PROTOC_PATH':os.path.join('Tensorflow','protoc')\n",
        " }"
      ]
    },
    {
      "cell_type": "code",
      "execution_count": 60,
      "metadata": {
        "id": "LwhWZMI0pfDC"
      },
      "outputs": [],
      "source": [
        "files = {\n",
        "    'PIPELINE_CONFIG':os.path.join('Tensorflow', 'workspace','models', CUSTOM_MODEL_NAME, 'pipeline.config'),\n",
        "    'TF_RECORD_SCRIPT': os.path.join(paths['SCRIPTS_PATH'], TF_RECORD_SCRIPT_NAME), \n",
        "    'LABELMAP': os.path.join(paths['ANNOTATION_PATH'], LABEL_MAP_NAME)\n",
        "}"
      ]
    },
    {
      "cell_type": "code",
      "execution_count": 61,
      "metadata": {
        "id": "HR-TfDGrpfDC"
      },
      "outputs": [],
      "source": [
        "for path in paths.values():\n",
        "    if not os.path.exists(path):\n",
        "        if os.name == 'posix':\n",
        "            !mkdir -p {path}\n",
        "        if os.name == 'nt':\n",
        "            !mkdir {path}"
      ]
    },
    {
      "cell_type": "markdown",
      "metadata": {
        "id": "OLU-rs_ipfDE"
      },
      "source": [
        "# 1. Download TF Models Pretrained Models from Tensorflow Model Zoo and Install TFOD"
      ]
    },
    {
      "cell_type": "code",
      "execution_count": null,
      "metadata": {
        "id": "FHmDNh_a4fYb"
      },
      "outputs": [],
      "source": [
        "# https://www.tensorflow.org/install/source_windows"
      ]
    },
    {
      "cell_type": "code",
      "execution_count": 63,
      "metadata": {
        "id": "K-Cmz2edpfDE",
        "scrolled": true
      },
      "outputs": [],
      "source": [
        "if os.name=='nt':\n",
        "    !pip install wget\n",
        "    import wget"
      ]
    },
    {
      "cell_type": "code",
      "execution_count": 62,
      "metadata": {
        "id": "iA1DIq5OpfDE"
      },
      "outputs": [],
      "source": [
        "if not os.path.exists(os.path.join(paths['APIMODEL_PATH'], 'research', 'object_detection')):\n",
        "    !git clone https://github.com/tensorflow/models {paths['APIMODEL_PATH']}"
      ]
    },
    {
      "cell_type": "code",
      "execution_count": 7,
      "metadata": {
        "colab": {
          "base_uri": "https://localhost:8080/"
        },
        "id": "rJjMHbnDs3Tv",
        "outputId": "948b3552-f28a-4b45-df41-91cf900fcd7f"
      },
      "outputs": [
        {
          "output_type": "stream",
          "name": "stdout",
          "text": [
            "Reading package lists... Done\n",
            "Building dependency tree       \n",
            "Reading state information... Done\n",
            "protobuf-compiler is already the newest version (3.0.0-9.1ubuntu1).\n",
            "The following package was automatically installed and is no longer required:\n",
            "  libnvidia-common-460\n",
            "Use 'apt autoremove' to remove it.\n",
            "0 upgraded, 0 newly installed, 0 to remove and 19 not upgraded.\n",
            "Looking in indexes: https://pypi.org/simple, https://us-python.pkg.dev/colab-wheels/public/simple/\n",
            "Processing /content/Tensorflow/models/research\n",
            "\u001b[33m  DEPRECATION: A future pip version will change local packages to be built in-place without first copying to a temporary directory. We recommend you use --use-feature=in-tree-build to test your packages with this new behavior before it becomes the default.\n",
            "   pip 21.3 will remove support for this functionality. You can find discussion regarding this at https://github.com/pypa/pip/issues/7555.\u001b[0m\n",
            "Requirement already satisfied: avro-python3 in /usr/local/lib/python3.7/dist-packages (from object-detection==0.1) (1.10.2)\n",
            "Requirement already satisfied: apache-beam in /usr/local/lib/python3.7/dist-packages (from object-detection==0.1) (2.41.0)\n",
            "Requirement already satisfied: pillow in /usr/local/lib/python3.7/dist-packages (from object-detection==0.1) (7.1.2)\n",
            "Requirement already satisfied: lxml in /usr/local/lib/python3.7/dist-packages (from object-detection==0.1) (4.9.1)\n",
            "Requirement already satisfied: matplotlib in /usr/local/lib/python3.7/dist-packages (from object-detection==0.1) (3.2.2)\n",
            "Requirement already satisfied: Cython in /usr/local/lib/python3.7/dist-packages (from object-detection==0.1) (0.29.32)\n",
            "Requirement already satisfied: contextlib2 in /usr/local/lib/python3.7/dist-packages (from object-detection==0.1) (0.5.5)\n",
            "Requirement already satisfied: tf-slim in /usr/local/lib/python3.7/dist-packages (from object-detection==0.1) (1.1.0)\n",
            "Requirement already satisfied: six in /usr/local/lib/python3.7/dist-packages (from object-detection==0.1) (1.15.0)\n",
            "Requirement already satisfied: pycocotools in /usr/local/lib/python3.7/dist-packages (from object-detection==0.1) (2.0.4)\n",
            "Requirement already satisfied: lvis in /usr/local/lib/python3.7/dist-packages (from object-detection==0.1) (0.5.3)\n",
            "Requirement already satisfied: scipy in /usr/local/lib/python3.7/dist-packages (from object-detection==0.1) (1.7.3)\n",
            "Requirement already satisfied: pandas in /usr/local/lib/python3.7/dist-packages (from object-detection==0.1) (1.3.5)\n",
            "Requirement already satisfied: tf-models-official>=2.5.1 in /usr/local/lib/python3.7/dist-packages (from object-detection==0.1) (2.9.2)\n",
            "Requirement already satisfied: tensorflow_io in /usr/local/lib/python3.7/dist-packages (from object-detection==0.1) (0.26.0)\n",
            "Requirement already satisfied: keras in /usr/local/lib/python3.7/dist-packages (from object-detection==0.1) (2.8.0)\n",
            "Requirement already satisfied: pyparsing==2.4.7 in /usr/local/lib/python3.7/dist-packages (from object-detection==0.1) (2.4.7)\n",
            "Requirement already satisfied: tensorflow-text~=2.9.0 in /usr/local/lib/python3.7/dist-packages (from tf-models-official>=2.5.1->object-detection==0.1) (2.9.0)\n",
            "Requirement already satisfied: py-cpuinfo>=3.3.0 in /usr/local/lib/python3.7/dist-packages (from tf-models-official>=2.5.1->object-detection==0.1) (8.0.0)\n",
            "Requirement already satisfied: sentencepiece in /usr/local/lib/python3.7/dist-packages (from tf-models-official>=2.5.1->object-detection==0.1) (0.1.97)\n",
            "Requirement already satisfied: opencv-python-headless in /usr/local/lib/python3.7/dist-packages (from tf-models-official>=2.5.1->object-detection==0.1) (4.6.0.66)\n",
            "Requirement already satisfied: seqeval in /usr/local/lib/python3.7/dist-packages (from tf-models-official>=2.5.1->object-detection==0.1) (1.2.2)\n",
            "Requirement already satisfied: pyyaml<6.0,>=5.1 in /usr/local/lib/python3.7/dist-packages (from tf-models-official>=2.5.1->object-detection==0.1) (5.4.1)\n",
            "Requirement already satisfied: tensorflow-model-optimization>=0.4.1 in /usr/local/lib/python3.7/dist-packages (from tf-models-official>=2.5.1->object-detection==0.1) (0.7.3)\n",
            "Requirement already satisfied: psutil>=5.4.3 in /usr/local/lib/python3.7/dist-packages (from tf-models-official>=2.5.1->object-detection==0.1) (5.4.8)\n",
            "Requirement already satisfied: gin-config in /usr/local/lib/python3.7/dist-packages (from tf-models-official>=2.5.1->object-detection==0.1) (0.5.0)\n",
            "Requirement already satisfied: tensorflow-hub>=0.6.0 in /usr/local/lib/python3.7/dist-packages (from tf-models-official>=2.5.1->object-detection==0.1) (0.12.0)\n",
            "Requirement already satisfied: sacrebleu in /usr/local/lib/python3.7/dist-packages (from tf-models-official>=2.5.1->object-detection==0.1) (2.2.0)\n",
            "Requirement already satisfied: tensorflow-addons in /usr/local/lib/python3.7/dist-packages (from tf-models-official>=2.5.1->object-detection==0.1) (0.17.1)\n",
            "Requirement already satisfied: oauth2client in /usr/local/lib/python3.7/dist-packages (from tf-models-official>=2.5.1->object-detection==0.1) (4.1.3)\n",
            "Requirement already satisfied: google-api-python-client>=1.6.7 in /usr/local/lib/python3.7/dist-packages (from tf-models-official>=2.5.1->object-detection==0.1) (1.12.11)\n",
            "Requirement already satisfied: kaggle>=1.3.9 in /usr/local/lib/python3.7/dist-packages (from tf-models-official>=2.5.1->object-detection==0.1) (1.5.12)\n",
            "Requirement already satisfied: numpy>=1.20 in /usr/local/lib/python3.7/dist-packages (from tf-models-official>=2.5.1->object-detection==0.1) (1.21.6)\n",
            "Collecting tensorflow~=2.9.0\n",
            "  Using cached tensorflow-2.9.2-cp37-cp37m-manylinux_2_17_x86_64.manylinux2014_x86_64.whl (511.8 MB)\n",
            "Requirement already satisfied: tensorflow-datasets in /usr/local/lib/python3.7/dist-packages (from tf-models-official>=2.5.1->object-detection==0.1) (4.6.0)\n",
            "Requirement already satisfied: uritemplate<4dev,>=3.0.0 in /usr/local/lib/python3.7/dist-packages (from google-api-python-client>=1.6.7->tf-models-official>=2.5.1->object-detection==0.1) (3.0.1)\n",
            "Requirement already satisfied: google-auth-httplib2>=0.0.3 in /usr/local/lib/python3.7/dist-packages (from google-api-python-client>=1.6.7->tf-models-official>=2.5.1->object-detection==0.1) (0.0.4)\n",
            "Requirement already satisfied: google-auth<3dev,>=1.16.0 in /usr/local/lib/python3.7/dist-packages (from google-api-python-client>=1.6.7->tf-models-official>=2.5.1->object-detection==0.1) (1.35.0)\n",
            "Requirement already satisfied: httplib2<1dev,>=0.15.0 in /usr/local/lib/python3.7/dist-packages (from google-api-python-client>=1.6.7->tf-models-official>=2.5.1->object-detection==0.1) (0.17.4)\n",
            "Requirement already satisfied: google-api-core<3dev,>=1.21.0 in /usr/local/lib/python3.7/dist-packages (from google-api-python-client>=1.6.7->tf-models-official>=2.5.1->object-detection==0.1) (1.31.6)\n",
            "Requirement already satisfied: packaging>=14.3 in /usr/local/lib/python3.7/dist-packages (from google-api-core<3dev,>=1.21.0->google-api-python-client>=1.6.7->tf-models-official>=2.5.1->object-detection==0.1) (21.3)\n",
            "Requirement already satisfied: requests<3.0.0dev,>=2.18.0 in /usr/local/lib/python3.7/dist-packages (from google-api-core<3dev,>=1.21.0->google-api-python-client>=1.6.7->tf-models-official>=2.5.1->object-detection==0.1) (2.28.1)\n",
            "Requirement already satisfied: pytz in /usr/local/lib/python3.7/dist-packages (from google-api-core<3dev,>=1.21.0->google-api-python-client>=1.6.7->tf-models-official>=2.5.1->object-detection==0.1) (2022.2.1)\n",
            "Requirement already satisfied: googleapis-common-protos<2.0dev,>=1.6.0 in /usr/local/lib/python3.7/dist-packages (from google-api-core<3dev,>=1.21.0->google-api-python-client>=1.6.7->tf-models-official>=2.5.1->object-detection==0.1) (1.56.4)\n",
            "Requirement already satisfied: setuptools>=40.3.0 in /usr/local/lib/python3.7/dist-packages (from google-api-core<3dev,>=1.21.0->google-api-python-client>=1.6.7->tf-models-official>=2.5.1->object-detection==0.1) (57.4.0)\n",
            "Requirement already satisfied: protobuf<4.0.0dev,>=3.12.0 in /usr/local/lib/python3.7/dist-packages (from google-api-core<3dev,>=1.21.0->google-api-python-client>=1.6.7->tf-models-official>=2.5.1->object-detection==0.1) (3.19.4)\n",
            "Requirement already satisfied: rsa<5,>=3.1.4 in /usr/local/lib/python3.7/dist-packages (from google-auth<3dev,>=1.16.0->google-api-python-client>=1.6.7->tf-models-official>=2.5.1->object-detection==0.1) (4.9)\n",
            "Requirement already satisfied: cachetools<5.0,>=2.0.0 in /usr/local/lib/python3.7/dist-packages (from google-auth<3dev,>=1.16.0->google-api-python-client>=1.6.7->tf-models-official>=2.5.1->object-detection==0.1) (4.2.4)\n",
            "Requirement already satisfied: pyasn1-modules>=0.2.1 in /usr/local/lib/python3.7/dist-packages (from google-auth<3dev,>=1.16.0->google-api-python-client>=1.6.7->tf-models-official>=2.5.1->object-detection==0.1) (0.2.8)\n",
            "Requirement already satisfied: urllib3 in /usr/local/lib/python3.7/dist-packages (from kaggle>=1.3.9->tf-models-official>=2.5.1->object-detection==0.1) (1.24.3)\n",
            "Requirement already satisfied: python-slugify in /usr/local/lib/python3.7/dist-packages (from kaggle>=1.3.9->tf-models-official>=2.5.1->object-detection==0.1) (6.1.2)\n",
            "Requirement already satisfied: tqdm in /usr/local/lib/python3.7/dist-packages (from kaggle>=1.3.9->tf-models-official>=2.5.1->object-detection==0.1) (4.64.0)\n",
            "Requirement already satisfied: certifi in /usr/local/lib/python3.7/dist-packages (from kaggle>=1.3.9->tf-models-official>=2.5.1->object-detection==0.1) (2022.6.15)\n",
            "Requirement already satisfied: python-dateutil in /usr/local/lib/python3.7/dist-packages (from kaggle>=1.3.9->tf-models-official>=2.5.1->object-detection==0.1) (2.8.2)\n",
            "Requirement already satisfied: pyasn1<0.5.0,>=0.4.6 in /usr/local/lib/python3.7/dist-packages (from pyasn1-modules>=0.2.1->google-auth<3dev,>=1.16.0->google-api-python-client>=1.6.7->tf-models-official>=2.5.1->object-detection==0.1) (0.4.8)\n",
            "Requirement already satisfied: idna<4,>=2.5 in /usr/local/lib/python3.7/dist-packages (from requests<3.0.0dev,>=2.18.0->google-api-core<3dev,>=1.21.0->google-api-python-client>=1.6.7->tf-models-official>=2.5.1->object-detection==0.1) (2.10)\n",
            "Requirement already satisfied: charset-normalizer<3,>=2 in /usr/local/lib/python3.7/dist-packages (from requests<3.0.0dev,>=2.18.0->google-api-core<3dev,>=1.21.0->google-api-python-client>=1.6.7->tf-models-official>=2.5.1->object-detection==0.1) (2.1.1)\n",
            "Requirement already satisfied: absl-py>=1.0.0 in /usr/local/lib/python3.7/dist-packages (from tensorflow~=2.9.0->tf-models-official>=2.5.1->object-detection==0.1) (1.2.0)\n",
            "Requirement already satisfied: keras-preprocessing>=1.1.1 in /usr/local/lib/python3.7/dist-packages (from tensorflow~=2.9.0->tf-models-official>=2.5.1->object-detection==0.1) (1.1.2)\n",
            "Collecting tensorboard<2.10,>=2.9\n",
            "  Using cached tensorboard-2.9.1-py3-none-any.whl (5.8 MB)\n",
            "Requirement already satisfied: tensorflow-io-gcs-filesystem>=0.23.1 in /usr/local/lib/python3.7/dist-packages (from tensorflow~=2.9.0->tf-models-official>=2.5.1->object-detection==0.1) (0.26.0)\n",
            "Requirement already satisfied: google-pasta>=0.1.1 in /usr/local/lib/python3.7/dist-packages (from tensorflow~=2.9.0->tf-models-official>=2.5.1->object-detection==0.1) (0.2.0)\n",
            "Requirement already satisfied: wrapt>=1.11.0 in /usr/local/lib/python3.7/dist-packages (from tensorflow~=2.9.0->tf-models-official>=2.5.1->object-detection==0.1) (1.14.1)\n",
            "Requirement already satisfied: termcolor>=1.1.0 in /usr/local/lib/python3.7/dist-packages (from tensorflow~=2.9.0->tf-models-official>=2.5.1->object-detection==0.1) (1.1.0)\n",
            "Requirement already satisfied: libclang>=13.0.0 in /usr/local/lib/python3.7/dist-packages (from tensorflow~=2.9.0->tf-models-official>=2.5.1->object-detection==0.1) (14.0.6)\n",
            "Requirement already satisfied: gast<=0.4.0,>=0.2.1 in /usr/local/lib/python3.7/dist-packages (from tensorflow~=2.9.0->tf-models-official>=2.5.1->object-detection==0.1) (0.4.0)\n",
            "Requirement already satisfied: typing-extensions>=3.6.6 in /usr/local/lib/python3.7/dist-packages (from tensorflow~=2.9.0->tf-models-official>=2.5.1->object-detection==0.1) (4.1.1)\n",
            "Requirement already satisfied: flatbuffers<2,>=1.12 in /usr/local/lib/python3.7/dist-packages (from tensorflow~=2.9.0->tf-models-official>=2.5.1->object-detection==0.1) (1.12)\n",
            "Requirement already satisfied: tensorflow-estimator<2.10.0,>=2.9.0rc0 in /usr/local/lib/python3.7/dist-packages (from tensorflow~=2.9.0->tf-models-official>=2.5.1->object-detection==0.1) (2.9.0)\n",
            "Requirement already satisfied: grpcio<2.0,>=1.24.3 in /usr/local/lib/python3.7/dist-packages (from tensorflow~=2.9.0->tf-models-official>=2.5.1->object-detection==0.1) (1.47.0)\n",
            "Collecting keras\n",
            "  Using cached keras-2.9.0-py2.py3-none-any.whl (1.6 MB)\n",
            "Requirement already satisfied: astunparse>=1.6.0 in /usr/local/lib/python3.7/dist-packages (from tensorflow~=2.9.0->tf-models-official>=2.5.1->object-detection==0.1) (1.6.3)\n",
            "Requirement already satisfied: h5py>=2.9.0 in /usr/local/lib/python3.7/dist-packages (from tensorflow~=2.9.0->tf-models-official>=2.5.1->object-detection==0.1) (3.1.0)\n",
            "Requirement already satisfied: opt-einsum>=2.3.2 in /usr/local/lib/python3.7/dist-packages (from tensorflow~=2.9.0->tf-models-official>=2.5.1->object-detection==0.1) (3.3.0)\n",
            "Requirement already satisfied: wheel<1.0,>=0.23.0 in /usr/local/lib/python3.7/dist-packages (from astunparse>=1.6.0->tensorflow~=2.9.0->tf-models-official>=2.5.1->object-detection==0.1) (0.37.1)\n",
            "Requirement already satisfied: cached-property in /usr/local/lib/python3.7/dist-packages (from h5py>=2.9.0->tensorflow~=2.9.0->tf-models-official>=2.5.1->object-detection==0.1) (1.5.2)\n",
            "Requirement already satisfied: google-auth-oauthlib<0.5,>=0.4.1 in /usr/local/lib/python3.7/dist-packages (from tensorboard<2.10,>=2.9->tensorflow~=2.9.0->tf-models-official>=2.5.1->object-detection==0.1) (0.4.6)\n",
            "Requirement already satisfied: tensorboard-data-server<0.7.0,>=0.6.0 in /usr/local/lib/python3.7/dist-packages (from tensorboard<2.10,>=2.9->tensorflow~=2.9.0->tf-models-official>=2.5.1->object-detection==0.1) (0.6.1)\n",
            "Requirement already satisfied: tensorboard-plugin-wit>=1.6.0 in /usr/local/lib/python3.7/dist-packages (from tensorboard<2.10,>=2.9->tensorflow~=2.9.0->tf-models-official>=2.5.1->object-detection==0.1) (1.8.1)\n",
            "Requirement already satisfied: werkzeug>=1.0.1 in /usr/local/lib/python3.7/dist-packages (from tensorboard<2.10,>=2.9->tensorflow~=2.9.0->tf-models-official>=2.5.1->object-detection==0.1) (1.0.1)\n",
            "Requirement already satisfied: markdown>=2.6.8 in /usr/local/lib/python3.7/dist-packages (from tensorboard<2.10,>=2.9->tensorflow~=2.9.0->tf-models-official>=2.5.1->object-detection==0.1) (3.4.1)\n",
            "Requirement already satisfied: requests-oauthlib>=0.7.0 in /usr/local/lib/python3.7/dist-packages (from google-auth-oauthlib<0.5,>=0.4.1->tensorboard<2.10,>=2.9->tensorflow~=2.9.0->tf-models-official>=2.5.1->object-detection==0.1) (1.3.1)\n",
            "Requirement already satisfied: importlib-metadata>=4.4 in /usr/local/lib/python3.7/dist-packages (from markdown>=2.6.8->tensorboard<2.10,>=2.9->tensorflow~=2.9.0->tf-models-official>=2.5.1->object-detection==0.1) (4.12.0)\n",
            "Requirement already satisfied: zipp>=0.5 in /usr/local/lib/python3.7/dist-packages (from importlib-metadata>=4.4->markdown>=2.6.8->tensorboard<2.10,>=2.9->tensorflow~=2.9.0->tf-models-official>=2.5.1->object-detection==0.1) (3.8.1)\n",
            "Requirement already satisfied: oauthlib>=3.0.0 in /usr/local/lib/python3.7/dist-packages (from requests-oauthlib>=0.7.0->google-auth-oauthlib<0.5,>=0.4.1->tensorboard<2.10,>=2.9->tensorflow~=2.9.0->tf-models-official>=2.5.1->object-detection==0.1) (3.2.0)\n",
            "Requirement already satisfied: dm-tree~=0.1.1 in /usr/local/lib/python3.7/dist-packages (from tensorflow-model-optimization>=0.4.1->tf-models-official>=2.5.1->object-detection==0.1) (0.1.7)\n",
            "Requirement already satisfied: orjson<4.0 in /usr/local/lib/python3.7/dist-packages (from apache-beam->object-detection==0.1) (3.8.0)\n",
            "Requirement already satisfied: dill<0.3.2,>=0.3.1.1 in /usr/local/lib/python3.7/dist-packages (from apache-beam->object-detection==0.1) (0.3.1.1)\n",
            "Requirement already satisfied: fastavro<2,>=0.23.6 in /usr/local/lib/python3.7/dist-packages (from apache-beam->object-detection==0.1) (1.6.0)\n",
            "Requirement already satisfied: crcmod<2.0,>=1.7 in /usr/local/lib/python3.7/dist-packages (from apache-beam->object-detection==0.1) (1.7)\n",
            "Requirement already satisfied: pymongo<4.0.0,>=3.8.0 in /usr/local/lib/python3.7/dist-packages (from apache-beam->object-detection==0.1) (3.12.3)\n",
            "Requirement already satisfied: pyarrow<8.0.0,>=0.15.1 in /usr/local/lib/python3.7/dist-packages (from apache-beam->object-detection==0.1) (6.0.1)\n",
            "Requirement already satisfied: hdfs<3.0.0,>=2.1.0 in /usr/local/lib/python3.7/dist-packages (from apache-beam->object-detection==0.1) (2.7.0)\n",
            "Requirement already satisfied: cloudpickle<3,>=2.1.0 in /usr/local/lib/python3.7/dist-packages (from apache-beam->object-detection==0.1) (2.2.0)\n",
            "Requirement already satisfied: proto-plus<2,>=1.7.1 in /usr/local/lib/python3.7/dist-packages (from apache-beam->object-detection==0.1) (1.22.1)\n",
            "Requirement already satisfied: pydot<2,>=1.2.0 in /usr/local/lib/python3.7/dist-packages (from apache-beam->object-detection==0.1) (1.3.0)\n",
            "Requirement already satisfied: docopt in /usr/local/lib/python3.7/dist-packages (from hdfs<3.0.0,>=2.1.0->apache-beam->object-detection==0.1) (0.6.2)\n",
            "Requirement already satisfied: opencv-python>=4.1.0.25 in /usr/local/lib/python3.7/dist-packages (from lvis->object-detection==0.1) (4.6.0.66)\n",
            "Requirement already satisfied: kiwisolver>=1.1.0 in /usr/local/lib/python3.7/dist-packages (from lvis->object-detection==0.1) (1.4.4)\n",
            "Requirement already satisfied: cycler>=0.10.0 in /usr/local/lib/python3.7/dist-packages (from lvis->object-detection==0.1) (0.11.0)\n",
            "Requirement already satisfied: text-unidecode>=1.3 in /usr/local/lib/python3.7/dist-packages (from python-slugify->kaggle>=1.3.9->tf-models-official>=2.5.1->object-detection==0.1) (1.3)\n",
            "Requirement already satisfied: colorama in /usr/local/lib/python3.7/dist-packages (from sacrebleu->tf-models-official>=2.5.1->object-detection==0.1) (0.4.5)\n",
            "Requirement already satisfied: portalocker in /usr/local/lib/python3.7/dist-packages (from sacrebleu->tf-models-official>=2.5.1->object-detection==0.1) (2.5.1)\n",
            "Requirement already satisfied: regex in /usr/local/lib/python3.7/dist-packages (from sacrebleu->tf-models-official>=2.5.1->object-detection==0.1) (2022.6.2)\n",
            "Requirement already satisfied: tabulate>=0.8.9 in /usr/local/lib/python3.7/dist-packages (from sacrebleu->tf-models-official>=2.5.1->object-detection==0.1) (0.8.10)\n",
            "Requirement already satisfied: scikit-learn>=0.21.3 in /usr/local/lib/python3.7/dist-packages (from seqeval->tf-models-official>=2.5.1->object-detection==0.1) (1.0.2)\n",
            "Requirement already satisfied: threadpoolctl>=2.0.0 in /usr/local/lib/python3.7/dist-packages (from scikit-learn>=0.21.3->seqeval->tf-models-official>=2.5.1->object-detection==0.1) (3.1.0)\n",
            "Requirement already satisfied: joblib>=0.11 in /usr/local/lib/python3.7/dist-packages (from scikit-learn>=0.21.3->seqeval->tf-models-official>=2.5.1->object-detection==0.1) (1.1.0)\n",
            "Requirement already satisfied: typeguard>=2.7 in /usr/local/lib/python3.7/dist-packages (from tensorflow-addons->tf-models-official>=2.5.1->object-detection==0.1) (2.7.1)\n",
            "Requirement already satisfied: tensorflow-metadata in /usr/local/lib/python3.7/dist-packages (from tensorflow-datasets->tf-models-official>=2.5.1->object-detection==0.1) (1.10.0)\n",
            "Requirement already satisfied: toml in /usr/local/lib/python3.7/dist-packages (from tensorflow-datasets->tf-models-official>=2.5.1->object-detection==0.1) (0.10.2)\n",
            "Requirement already satisfied: promise in /usr/local/lib/python3.7/dist-packages (from tensorflow-datasets->tf-models-official>=2.5.1->object-detection==0.1) (2.3)\n",
            "Requirement already satisfied: etils[epath] in /usr/local/lib/python3.7/dist-packages (from tensorflow-datasets->tf-models-official>=2.5.1->object-detection==0.1) (0.7.1)\n",
            "Requirement already satisfied: importlib-resources in /usr/local/lib/python3.7/dist-packages (from tensorflow-datasets->tf-models-official>=2.5.1->object-detection==0.1) (5.9.0)\n",
            "Building wheels for collected packages: object-detection\n",
            "  Building wheel for object-detection (setup.py) ... \u001b[?25l\u001b[?25hdone\n",
            "  Created wheel for object-detection: filename=object_detection-0.1-py3-none-any.whl size=1695161 sha256=81bb969263735ef7a67efad414930389f1ed8a31c747e5e82f7c33226452f7e3\n",
            "  Stored in directory: /tmp/pip-ephem-wheel-cache-3qz6hrl1/wheels/a9/26/bf/1cb2313ed4855917889b97658bf0a19999e3588e47867bdaee\n",
            "Successfully built object-detection\n",
            "Installing collected packages: tensorboard, keras, tensorflow, object-detection\n",
            "  Attempting uninstall: tensorboard\n",
            "    Found existing installation: tensorboard 2.8.0\n",
            "    Uninstalling tensorboard-2.8.0:\n",
            "      Successfully uninstalled tensorboard-2.8.0\n",
            "  Attempting uninstall: keras\n",
            "    Found existing installation: keras 2.8.0\n",
            "    Uninstalling keras-2.8.0:\n",
            "      Successfully uninstalled keras-2.8.0\n",
            "  Attempting uninstall: tensorflow\n",
            "    Found existing installation: tensorflow 2.8.0+zzzcolab20220506162203\n",
            "    Uninstalling tensorflow-2.8.0+zzzcolab20220506162203:\n",
            "      Successfully uninstalled tensorflow-2.8.0+zzzcolab20220506162203\n",
            "  Attempting uninstall: object-detection\n",
            "    Found existing installation: object-detection 0.1\n",
            "    Uninstalling object-detection-0.1:\n",
            "      Successfully uninstalled object-detection-0.1\n",
            "Successfully installed keras-2.9.0 object-detection-0.1 tensorboard-2.9.1 tensorflow-2.9.2\n"
          ]
        }
      ],
      "source": [
        "# Install Tensorflow Object Detection \n",
        "if os.name=='posix':  \n",
        "    !apt-get install protobuf-compiler\n",
        "    !cd Tensorflow/models/research && protoc object_detection/protos/*.proto --python_out=. && cp object_detection/packages/tf2/setup.py . && python -m pip install . \n",
        "    \n",
        "if os.name=='nt':\n",
        "    url=\"https://github.com/protocolbuffers/protobuf/releases/download/v3.15.6/protoc-3.15.6-win64.zip\"\n",
        "    wget.download(url)\n",
        "    !move protoc-3.15.6-win64.zip {paths['PROTOC_PATH']}\n",
        "    !cd {paths['PROTOC_PATH']} && tar -xf protoc-3.15.6-win64.zip\n",
        "    os.environ['PATH'] += os.pathsep + os.path.abspath(os.path.join(paths['PROTOC_PATH'], 'bin'))   \n",
        "    !cd Tensorflow/models/research && protoc object_detection/protos/*.proto --python_out=. && copy object_detection\\\\packages\\\\tf2\\\\setup.py setup.py && python setup.py build && python setup.py install\n",
        "    !cd Tensorflow/models/research/slim && pip install -e . "
      ]
    },
    {
      "cell_type": "code",
      "execution_count": 11,
      "metadata": {
        "colab": {
          "base_uri": "https://localhost:8080/"
        },
        "id": "a1BcW8uH4fYg",
        "outputId": "5c08de67-757c-4150-f114-677c627b9f82",
        "scrolled": true
      },
      "outputs": [
        {
          "output_type": "stream",
          "name": "stdout",
          "text": [
            "Running tests under Python 3.7.13: /usr/bin/python3\n",
            "[ RUN      ] ModelBuilderTF2Test.test_create_center_net_deepmac\n",
            "2022-09-08 18:42:55.851766: W tensorflow/core/common_runtime/gpu/gpu_bfc_allocator.cc:39] Overriding allow_growth setting because the TF_FORCE_GPU_ALLOW_GROWTH environment variable is set. Original config value was 0.\n",
            "W0908 18:42:56.199644 140663258044288 model_builder.py:1102] Building experimental DeepMAC meta-arch. Some features may be omitted.\n",
            "INFO:tensorflow:time(__main__.ModelBuilderTF2Test.test_create_center_net_deepmac): 2.09s\n",
            "I0908 18:42:56.444038 140663258044288 test_util.py:2374] time(__main__.ModelBuilderTF2Test.test_create_center_net_deepmac): 2.09s\n",
            "[       OK ] ModelBuilderTF2Test.test_create_center_net_deepmac\n",
            "[ RUN      ] ModelBuilderTF2Test.test_create_center_net_model0 (customize_head_params=True)\n",
            "INFO:tensorflow:time(__main__.ModelBuilderTF2Test.test_create_center_net_model0 (customize_head_params=True)): 0.5s\n",
            "I0908 18:42:56.947102 140663258044288 test_util.py:2374] time(__main__.ModelBuilderTF2Test.test_create_center_net_model0 (customize_head_params=True)): 0.5s\n",
            "[       OK ] ModelBuilderTF2Test.test_create_center_net_model0 (customize_head_params=True)\n",
            "[ RUN      ] ModelBuilderTF2Test.test_create_center_net_model1 (customize_head_params=False)\n",
            "INFO:tensorflow:time(__main__.ModelBuilderTF2Test.test_create_center_net_model1 (customize_head_params=False)): 0.25s\n",
            "I0908 18:42:57.196665 140663258044288 test_util.py:2374] time(__main__.ModelBuilderTF2Test.test_create_center_net_model1 (customize_head_params=False)): 0.25s\n",
            "[       OK ] ModelBuilderTF2Test.test_create_center_net_model1 (customize_head_params=False)\n",
            "[ RUN      ] ModelBuilderTF2Test.test_create_center_net_model_from_keypoints\n",
            "INFO:tensorflow:time(__main__.ModelBuilderTF2Test.test_create_center_net_model_from_keypoints): 0.23s\n",
            "I0908 18:42:57.426896 140663258044288 test_util.py:2374] time(__main__.ModelBuilderTF2Test.test_create_center_net_model_from_keypoints): 0.23s\n",
            "[       OK ] ModelBuilderTF2Test.test_create_center_net_model_from_keypoints\n",
            "[ RUN      ] ModelBuilderTF2Test.test_create_center_net_model_mobilenet\n",
            "INFO:tensorflow:time(__main__.ModelBuilderTF2Test.test_create_center_net_model_mobilenet): 1.91s\n",
            "I0908 18:42:59.336018 140663258044288 test_util.py:2374] time(__main__.ModelBuilderTF2Test.test_create_center_net_model_mobilenet): 1.91s\n",
            "[       OK ] ModelBuilderTF2Test.test_create_center_net_model_mobilenet\n",
            "[ RUN      ] ModelBuilderTF2Test.test_create_experimental_model\n",
            "INFO:tensorflow:time(__main__.ModelBuilderTF2Test.test_create_experimental_model): 0.0s\n",
            "I0908 18:42:59.336958 140663258044288 test_util.py:2374] time(__main__.ModelBuilderTF2Test.test_create_experimental_model): 0.0s\n",
            "[       OK ] ModelBuilderTF2Test.test_create_experimental_model\n",
            "[ RUN      ] ModelBuilderTF2Test.test_create_faster_rcnn_from_config_with_crop_feature0 (True)\n",
            "INFO:tensorflow:time(__main__.ModelBuilderTF2Test.test_create_faster_rcnn_from_config_with_crop_feature0 (True)): 0.02s\n",
            "I0908 18:42:59.361851 140663258044288 test_util.py:2374] time(__main__.ModelBuilderTF2Test.test_create_faster_rcnn_from_config_with_crop_feature0 (True)): 0.02s\n",
            "[       OK ] ModelBuilderTF2Test.test_create_faster_rcnn_from_config_with_crop_feature0 (True)\n",
            "[ RUN      ] ModelBuilderTF2Test.test_create_faster_rcnn_from_config_with_crop_feature1 (False)\n",
            "INFO:tensorflow:time(__main__.ModelBuilderTF2Test.test_create_faster_rcnn_from_config_with_crop_feature1 (False)): 0.01s\n",
            "I0908 18:42:59.375597 140663258044288 test_util.py:2374] time(__main__.ModelBuilderTF2Test.test_create_faster_rcnn_from_config_with_crop_feature1 (False)): 0.01s\n",
            "[       OK ] ModelBuilderTF2Test.test_create_faster_rcnn_from_config_with_crop_feature1 (False)\n",
            "[ RUN      ] ModelBuilderTF2Test.test_create_faster_rcnn_model_from_config_with_example_miner\n",
            "INFO:tensorflow:time(__main__.ModelBuilderTF2Test.test_create_faster_rcnn_model_from_config_with_example_miner): 0.02s\n",
            "I0908 18:42:59.391517 140663258044288 test_util.py:2374] time(__main__.ModelBuilderTF2Test.test_create_faster_rcnn_model_from_config_with_example_miner): 0.02s\n",
            "[       OK ] ModelBuilderTF2Test.test_create_faster_rcnn_model_from_config_with_example_miner\n",
            "[ RUN      ] ModelBuilderTF2Test.test_create_faster_rcnn_models_from_config_faster_rcnn_with_matmul\n",
            "INFO:tensorflow:time(__main__.ModelBuilderTF2Test.test_create_faster_rcnn_models_from_config_faster_rcnn_with_matmul): 0.09s\n",
            "I0908 18:42:59.483887 140663258044288 test_util.py:2374] time(__main__.ModelBuilderTF2Test.test_create_faster_rcnn_models_from_config_faster_rcnn_with_matmul): 0.09s\n",
            "[       OK ] ModelBuilderTF2Test.test_create_faster_rcnn_models_from_config_faster_rcnn_with_matmul\n",
            "[ RUN      ] ModelBuilderTF2Test.test_create_faster_rcnn_models_from_config_faster_rcnn_without_matmul\n",
            "INFO:tensorflow:time(__main__.ModelBuilderTF2Test.test_create_faster_rcnn_models_from_config_faster_rcnn_without_matmul): 0.08s\n",
            "I0908 18:42:59.568150 140663258044288 test_util.py:2374] time(__main__.ModelBuilderTF2Test.test_create_faster_rcnn_models_from_config_faster_rcnn_without_matmul): 0.08s\n",
            "[       OK ] ModelBuilderTF2Test.test_create_faster_rcnn_models_from_config_faster_rcnn_without_matmul\n",
            "[ RUN      ] ModelBuilderTF2Test.test_create_faster_rcnn_models_from_config_mask_rcnn_with_matmul\n",
            "INFO:tensorflow:time(__main__.ModelBuilderTF2Test.test_create_faster_rcnn_models_from_config_mask_rcnn_with_matmul): 0.1s\n",
            "I0908 18:42:59.664642 140663258044288 test_util.py:2374] time(__main__.ModelBuilderTF2Test.test_create_faster_rcnn_models_from_config_mask_rcnn_with_matmul): 0.1s\n",
            "[       OK ] ModelBuilderTF2Test.test_create_faster_rcnn_models_from_config_mask_rcnn_with_matmul\n",
            "[ RUN      ] ModelBuilderTF2Test.test_create_faster_rcnn_models_from_config_mask_rcnn_without_matmul\n",
            "INFO:tensorflow:time(__main__.ModelBuilderTF2Test.test_create_faster_rcnn_models_from_config_mask_rcnn_without_matmul): 0.09s\n",
            "I0908 18:42:59.754830 140663258044288 test_util.py:2374] time(__main__.ModelBuilderTF2Test.test_create_faster_rcnn_models_from_config_mask_rcnn_without_matmul): 0.09s\n",
            "[       OK ] ModelBuilderTF2Test.test_create_faster_rcnn_models_from_config_mask_rcnn_without_matmul\n",
            "[ RUN      ] ModelBuilderTF2Test.test_create_rfcn_model_from_config\n",
            "INFO:tensorflow:time(__main__.ModelBuilderTF2Test.test_create_rfcn_model_from_config): 0.09s\n",
            "I0908 18:42:59.845505 140663258044288 test_util.py:2374] time(__main__.ModelBuilderTF2Test.test_create_rfcn_model_from_config): 0.09s\n",
            "[       OK ] ModelBuilderTF2Test.test_create_rfcn_model_from_config\n",
            "[ RUN      ] ModelBuilderTF2Test.test_create_ssd_fpn_model_from_config\n",
            "INFO:tensorflow:time(__main__.ModelBuilderTF2Test.test_create_ssd_fpn_model_from_config): 0.03s\n",
            "I0908 18:42:59.872089 140663258044288 test_util.py:2374] time(__main__.ModelBuilderTF2Test.test_create_ssd_fpn_model_from_config): 0.03s\n",
            "[       OK ] ModelBuilderTF2Test.test_create_ssd_fpn_model_from_config\n",
            "[ RUN      ] ModelBuilderTF2Test.test_create_ssd_models_from_config\n",
            "I0908 18:43:00.059726 140663258044288 ssd_efficientnet_bifpn_feature_extractor.py:146] EfficientDet EfficientNet backbone version: efficientnet-b0\n",
            "I0908 18:43:00.059916 140663258044288 ssd_efficientnet_bifpn_feature_extractor.py:147] EfficientDet BiFPN num filters: 64\n",
            "I0908 18:43:00.060005 140663258044288 ssd_efficientnet_bifpn_feature_extractor.py:149] EfficientDet BiFPN num iterations: 3\n",
            "I0908 18:43:00.062623 140663258044288 efficientnet_model.py:143] round_filter input=32 output=32\n",
            "I0908 18:43:00.079866 140663258044288 efficientnet_model.py:143] round_filter input=32 output=32\n",
            "I0908 18:43:00.080004 140663258044288 efficientnet_model.py:143] round_filter input=16 output=16\n",
            "I0908 18:43:00.142946 140663258044288 efficientnet_model.py:143] round_filter input=16 output=16\n",
            "I0908 18:43:00.143078 140663258044288 efficientnet_model.py:143] round_filter input=24 output=24\n",
            "I0908 18:43:00.296991 140663258044288 efficientnet_model.py:143] round_filter input=24 output=24\n",
            "I0908 18:43:00.297128 140663258044288 efficientnet_model.py:143] round_filter input=40 output=40\n",
            "I0908 18:43:00.439901 140663258044288 efficientnet_model.py:143] round_filter input=40 output=40\n",
            "I0908 18:43:00.440037 140663258044288 efficientnet_model.py:143] round_filter input=80 output=80\n",
            "I0908 18:43:00.805258 140663258044288 efficientnet_model.py:143] round_filter input=80 output=80\n",
            "I0908 18:43:00.805418 140663258044288 efficientnet_model.py:143] round_filter input=112 output=112\n",
            "I0908 18:43:01.018730 140663258044288 efficientnet_model.py:143] round_filter input=112 output=112\n",
            "I0908 18:43:01.018918 140663258044288 efficientnet_model.py:143] round_filter input=192 output=192\n",
            "I0908 18:43:01.325281 140663258044288 efficientnet_model.py:143] round_filter input=192 output=192\n",
            "I0908 18:43:01.325444 140663258044288 efficientnet_model.py:143] round_filter input=320 output=320\n",
            "I0908 18:43:01.392576 140663258044288 efficientnet_model.py:143] round_filter input=1280 output=1280\n",
            "I0908 18:43:01.420454 140663258044288 efficientnet_model.py:453] Building model efficientnet with params ModelConfig(width_coefficient=1.0, depth_coefficient=1.0, resolution=224, dropout_rate=0.2, blocks=(BlockConfig(input_filters=32, output_filters=16, kernel_size=3, num_repeat=1, expand_ratio=1, strides=(1, 1), se_ratio=0.25, id_skip=True, fused_conv=False, conv_type='depthwise'), BlockConfig(input_filters=16, output_filters=24, kernel_size=3, num_repeat=2, expand_ratio=6, strides=(2, 2), se_ratio=0.25, id_skip=True, fused_conv=False, conv_type='depthwise'), BlockConfig(input_filters=24, output_filters=40, kernel_size=5, num_repeat=2, expand_ratio=6, strides=(2, 2), se_ratio=0.25, id_skip=True, fused_conv=False, conv_type='depthwise'), BlockConfig(input_filters=40, output_filters=80, kernel_size=3, num_repeat=3, expand_ratio=6, strides=(2, 2), se_ratio=0.25, id_skip=True, fused_conv=False, conv_type='depthwise'), BlockConfig(input_filters=80, output_filters=112, kernel_size=5, num_repeat=3, expand_ratio=6, strides=(1, 1), se_ratio=0.25, id_skip=True, fused_conv=False, conv_type='depthwise'), BlockConfig(input_filters=112, output_filters=192, kernel_size=5, num_repeat=4, expand_ratio=6, strides=(2, 2), se_ratio=0.25, id_skip=True, fused_conv=False, conv_type='depthwise'), BlockConfig(input_filters=192, output_filters=320, kernel_size=3, num_repeat=1, expand_ratio=6, strides=(1, 1), se_ratio=0.25, id_skip=True, fused_conv=False, conv_type='depthwise')), stem_base_filters=32, top_base_filters=1280, activation='simple_swish', batch_norm='default', bn_momentum=0.99, bn_epsilon=0.001, weight_decay=5e-06, drop_connect_rate=0.2, depth_divisor=8, min_depth=None, use_se=True, input_channels=3, num_classes=1000, model_name='efficientnet', rescale_input=False, data_format='channels_last', dtype='float32')\n",
            "I0908 18:43:01.470806 140663258044288 ssd_efficientnet_bifpn_feature_extractor.py:146] EfficientDet EfficientNet backbone version: efficientnet-b1\n",
            "I0908 18:43:01.470924 140663258044288 ssd_efficientnet_bifpn_feature_extractor.py:147] EfficientDet BiFPN num filters: 88\n",
            "I0908 18:43:01.470993 140663258044288 ssd_efficientnet_bifpn_feature_extractor.py:149] EfficientDet BiFPN num iterations: 4\n",
            "I0908 18:43:01.472423 140663258044288 efficientnet_model.py:143] round_filter input=32 output=32\n",
            "I0908 18:43:01.487044 140663258044288 efficientnet_model.py:143] round_filter input=32 output=32\n",
            "I0908 18:43:01.487171 140663258044288 efficientnet_model.py:143] round_filter input=16 output=16\n",
            "I0908 18:43:01.602266 140663258044288 efficientnet_model.py:143] round_filter input=16 output=16\n",
            "I0908 18:43:01.602388 140663258044288 efficientnet_model.py:143] round_filter input=24 output=24\n",
            "I0908 18:43:01.813128 140663258044288 efficientnet_model.py:143] round_filter input=24 output=24\n",
            "I0908 18:43:01.813263 140663258044288 efficientnet_model.py:143] round_filter input=40 output=40\n",
            "I0908 18:43:02.029672 140663258044288 efficientnet_model.py:143] round_filter input=40 output=40\n",
            "I0908 18:43:02.029846 140663258044288 efficientnet_model.py:143] round_filter input=80 output=80\n",
            "I0908 18:43:02.332946 140663258044288 efficientnet_model.py:143] round_filter input=80 output=80\n",
            "I0908 18:43:02.333120 140663258044288 efficientnet_model.py:143] round_filter input=112 output=112\n",
            "I0908 18:43:02.625681 140663258044288 efficientnet_model.py:143] round_filter input=112 output=112\n",
            "I0908 18:43:02.625881 140663258044288 efficientnet_model.py:143] round_filter input=192 output=192\n",
            "I0908 18:43:02.990834 140663258044288 efficientnet_model.py:143] round_filter input=192 output=192\n",
            "I0908 18:43:02.991000 140663258044288 efficientnet_model.py:143] round_filter input=320 output=320\n",
            "I0908 18:43:03.132565 140663258044288 efficientnet_model.py:143] round_filter input=1280 output=1280\n",
            "I0908 18:43:03.161201 140663258044288 efficientnet_model.py:453] Building model efficientnet with params ModelConfig(width_coefficient=1.0, depth_coefficient=1.1, resolution=240, dropout_rate=0.2, blocks=(BlockConfig(input_filters=32, output_filters=16, kernel_size=3, num_repeat=1, expand_ratio=1, strides=(1, 1), se_ratio=0.25, id_skip=True, fused_conv=False, conv_type='depthwise'), BlockConfig(input_filters=16, output_filters=24, kernel_size=3, num_repeat=2, expand_ratio=6, strides=(2, 2), se_ratio=0.25, id_skip=True, fused_conv=False, conv_type='depthwise'), BlockConfig(input_filters=24, output_filters=40, kernel_size=5, num_repeat=2, expand_ratio=6, strides=(2, 2), se_ratio=0.25, id_skip=True, fused_conv=False, conv_type='depthwise'), BlockConfig(input_filters=40, output_filters=80, kernel_size=3, num_repeat=3, expand_ratio=6, strides=(2, 2), se_ratio=0.25, id_skip=True, fused_conv=False, conv_type='depthwise'), BlockConfig(input_filters=80, output_filters=112, kernel_size=5, num_repeat=3, expand_ratio=6, strides=(1, 1), se_ratio=0.25, id_skip=True, fused_conv=False, conv_type='depthwise'), BlockConfig(input_filters=112, output_filters=192, kernel_size=5, num_repeat=4, expand_ratio=6, strides=(2, 2), se_ratio=0.25, id_skip=True, fused_conv=False, conv_type='depthwise'), BlockConfig(input_filters=192, output_filters=320, kernel_size=3, num_repeat=1, expand_ratio=6, strides=(1, 1), se_ratio=0.25, id_skip=True, fused_conv=False, conv_type='depthwise')), stem_base_filters=32, top_base_filters=1280, activation='simple_swish', batch_norm='default', bn_momentum=0.99, bn_epsilon=0.001, weight_decay=5e-06, drop_connect_rate=0.2, depth_divisor=8, min_depth=None, use_se=True, input_channels=3, num_classes=1000, model_name='efficientnet', rescale_input=False, data_format='channels_last', dtype='float32')\n",
            "I0908 18:43:03.221312 140663258044288 ssd_efficientnet_bifpn_feature_extractor.py:146] EfficientDet EfficientNet backbone version: efficientnet-b2\n",
            "I0908 18:43:03.221442 140663258044288 ssd_efficientnet_bifpn_feature_extractor.py:147] EfficientDet BiFPN num filters: 112\n",
            "I0908 18:43:03.221515 140663258044288 ssd_efficientnet_bifpn_feature_extractor.py:149] EfficientDet BiFPN num iterations: 5\n",
            "I0908 18:43:03.222979 140663258044288 efficientnet_model.py:143] round_filter input=32 output=32\n",
            "I0908 18:43:03.237470 140663258044288 efficientnet_model.py:143] round_filter input=32 output=32\n",
            "I0908 18:43:03.237579 140663258044288 efficientnet_model.py:143] round_filter input=16 output=16\n",
            "I0908 18:43:03.354266 140663258044288 efficientnet_model.py:143] round_filter input=16 output=16\n",
            "I0908 18:43:03.354387 140663258044288 efficientnet_model.py:143] round_filter input=24 output=24\n",
            "I0908 18:43:03.560880 140663258044288 efficientnet_model.py:143] round_filter input=24 output=24\n",
            "I0908 18:43:03.561053 140663258044288 efficientnet_model.py:143] round_filter input=40 output=48\n",
            "I0908 18:43:03.773253 140663258044288 efficientnet_model.py:143] round_filter input=40 output=48\n",
            "I0908 18:43:03.773402 140663258044288 efficientnet_model.py:143] round_filter input=80 output=88\n",
            "I0908 18:43:04.055972 140663258044288 efficientnet_model.py:143] round_filter input=80 output=88\n",
            "I0908 18:43:04.056166 140663258044288 efficientnet_model.py:143] round_filter input=112 output=120\n",
            "I0908 18:43:04.350638 140663258044288 efficientnet_model.py:143] round_filter input=112 output=120\n",
            "I0908 18:43:04.350809 140663258044288 efficientnet_model.py:143] round_filter input=192 output=208\n",
            "I0908 18:43:04.890068 140663258044288 efficientnet_model.py:143] round_filter input=192 output=208\n",
            "I0908 18:43:04.890266 140663258044288 efficientnet_model.py:143] round_filter input=320 output=352\n",
            "I0908 18:43:05.033520 140663258044288 efficientnet_model.py:143] round_filter input=1280 output=1408\n",
            "I0908 18:43:05.061025 140663258044288 efficientnet_model.py:453] Building model efficientnet with params ModelConfig(width_coefficient=1.1, depth_coefficient=1.2, resolution=260, dropout_rate=0.3, blocks=(BlockConfig(input_filters=32, output_filters=16, kernel_size=3, num_repeat=1, expand_ratio=1, strides=(1, 1), se_ratio=0.25, id_skip=True, fused_conv=False, conv_type='depthwise'), BlockConfig(input_filters=16, output_filters=24, kernel_size=3, num_repeat=2, expand_ratio=6, strides=(2, 2), se_ratio=0.25, id_skip=True, fused_conv=False, conv_type='depthwise'), BlockConfig(input_filters=24, output_filters=40, kernel_size=5, num_repeat=2, expand_ratio=6, strides=(2, 2), se_ratio=0.25, id_skip=True, fused_conv=False, conv_type='depthwise'), BlockConfig(input_filters=40, output_filters=80, kernel_size=3, num_repeat=3, expand_ratio=6, strides=(2, 2), se_ratio=0.25, id_skip=True, fused_conv=False, conv_type='depthwise'), BlockConfig(input_filters=80, output_filters=112, kernel_size=5, num_repeat=3, expand_ratio=6, strides=(1, 1), se_ratio=0.25, id_skip=True, fused_conv=False, conv_type='depthwise'), BlockConfig(input_filters=112, output_filters=192, kernel_size=5, num_repeat=4, expand_ratio=6, strides=(2, 2), se_ratio=0.25, id_skip=True, fused_conv=False, conv_type='depthwise'), BlockConfig(input_filters=192, output_filters=320, kernel_size=3, num_repeat=1, expand_ratio=6, strides=(1, 1), se_ratio=0.25, id_skip=True, fused_conv=False, conv_type='depthwise')), stem_base_filters=32, top_base_filters=1280, activation='simple_swish', batch_norm='default', bn_momentum=0.99, bn_epsilon=0.001, weight_decay=5e-06, drop_connect_rate=0.2, depth_divisor=8, min_depth=None, use_se=True, input_channels=3, num_classes=1000, model_name='efficientnet', rescale_input=False, data_format='channels_last', dtype='float32')\n",
            "I0908 18:43:05.115961 140663258044288 ssd_efficientnet_bifpn_feature_extractor.py:146] EfficientDet EfficientNet backbone version: efficientnet-b3\n",
            "I0908 18:43:05.116107 140663258044288 ssd_efficientnet_bifpn_feature_extractor.py:147] EfficientDet BiFPN num filters: 160\n",
            "I0908 18:43:05.116197 140663258044288 ssd_efficientnet_bifpn_feature_extractor.py:149] EfficientDet BiFPN num iterations: 6\n",
            "I0908 18:43:05.117640 140663258044288 efficientnet_model.py:143] round_filter input=32 output=40\n",
            "I0908 18:43:05.131530 140663258044288 efficientnet_model.py:143] round_filter input=32 output=40\n",
            "I0908 18:43:05.131635 140663258044288 efficientnet_model.py:143] round_filter input=16 output=24\n",
            "I0908 18:43:05.243556 140663258044288 efficientnet_model.py:143] round_filter input=16 output=24\n",
            "I0908 18:43:05.243678 140663258044288 efficientnet_model.py:143] round_filter input=24 output=32\n",
            "I0908 18:43:05.475644 140663258044288 efficientnet_model.py:143] round_filter input=24 output=32\n",
            "I0908 18:43:05.475817 140663258044288 efficientnet_model.py:143] round_filter input=40 output=48\n",
            "I0908 18:43:05.689834 140663258044288 efficientnet_model.py:143] round_filter input=40 output=48\n",
            "I0908 18:43:05.689976 140663258044288 efficientnet_model.py:143] round_filter input=80 output=96\n",
            "I0908 18:43:06.051344 140663258044288 efficientnet_model.py:143] round_filter input=80 output=96\n",
            "I0908 18:43:06.051503 140663258044288 efficientnet_model.py:143] round_filter input=112 output=136\n",
            "I0908 18:43:06.407266 140663258044288 efficientnet_model.py:143] round_filter input=112 output=136\n",
            "I0908 18:43:06.407423 140663258044288 efficientnet_model.py:143] round_filter input=192 output=232\n",
            "I0908 18:43:06.831586 140663258044288 efficientnet_model.py:143] round_filter input=192 output=232\n",
            "I0908 18:43:06.831759 140663258044288 efficientnet_model.py:143] round_filter input=320 output=384\n",
            "I0908 18:43:06.968370 140663258044288 efficientnet_model.py:143] round_filter input=1280 output=1536\n",
            "I0908 18:43:06.999033 140663258044288 efficientnet_model.py:453] Building model efficientnet with params ModelConfig(width_coefficient=1.2, depth_coefficient=1.4, resolution=300, dropout_rate=0.3, blocks=(BlockConfig(input_filters=32, output_filters=16, kernel_size=3, num_repeat=1, expand_ratio=1, strides=(1, 1), se_ratio=0.25, id_skip=True, fused_conv=False, conv_type='depthwise'), BlockConfig(input_filters=16, output_filters=24, kernel_size=3, num_repeat=2, expand_ratio=6, strides=(2, 2), se_ratio=0.25, id_skip=True, fused_conv=False, conv_type='depthwise'), BlockConfig(input_filters=24, output_filters=40, kernel_size=5, num_repeat=2, expand_ratio=6, strides=(2, 2), se_ratio=0.25, id_skip=True, fused_conv=False, conv_type='depthwise'), BlockConfig(input_filters=40, output_filters=80, kernel_size=3, num_repeat=3, expand_ratio=6, strides=(2, 2), se_ratio=0.25, id_skip=True, fused_conv=False, conv_type='depthwise'), BlockConfig(input_filters=80, output_filters=112, kernel_size=5, num_repeat=3, expand_ratio=6, strides=(1, 1), se_ratio=0.25, id_skip=True, fused_conv=False, conv_type='depthwise'), BlockConfig(input_filters=112, output_filters=192, kernel_size=5, num_repeat=4, expand_ratio=6, strides=(2, 2), se_ratio=0.25, id_skip=True, fused_conv=False, conv_type='depthwise'), BlockConfig(input_filters=192, output_filters=320, kernel_size=3, num_repeat=1, expand_ratio=6, strides=(1, 1), se_ratio=0.25, id_skip=True, fused_conv=False, conv_type='depthwise')), stem_base_filters=32, top_base_filters=1280, activation='simple_swish', batch_norm='default', bn_momentum=0.99, bn_epsilon=0.001, weight_decay=5e-06, drop_connect_rate=0.2, depth_divisor=8, min_depth=None, use_se=True, input_channels=3, num_classes=1000, model_name='efficientnet', rescale_input=False, data_format='channels_last', dtype='float32')\n",
            "I0908 18:43:07.060860 140663258044288 ssd_efficientnet_bifpn_feature_extractor.py:146] EfficientDet EfficientNet backbone version: efficientnet-b4\n",
            "I0908 18:43:07.060998 140663258044288 ssd_efficientnet_bifpn_feature_extractor.py:147] EfficientDet BiFPN num filters: 224\n",
            "I0908 18:43:07.061065 140663258044288 ssd_efficientnet_bifpn_feature_extractor.py:149] EfficientDet BiFPN num iterations: 7\n",
            "I0908 18:43:07.062614 140663258044288 efficientnet_model.py:143] round_filter input=32 output=48\n",
            "I0908 18:43:07.078329 140663258044288 efficientnet_model.py:143] round_filter input=32 output=48\n",
            "I0908 18:43:07.078434 140663258044288 efficientnet_model.py:143] round_filter input=16 output=24\n",
            "I0908 18:43:07.194352 140663258044288 efficientnet_model.py:143] round_filter input=16 output=24\n",
            "I0908 18:43:07.194487 140663258044288 efficientnet_model.py:143] round_filter input=24 output=32\n",
            "I0908 18:43:07.492997 140663258044288 efficientnet_model.py:143] round_filter input=24 output=32\n",
            "I0908 18:43:07.493148 140663258044288 efficientnet_model.py:143] round_filter input=40 output=56\n",
            "I0908 18:43:07.779532 140663258044288 efficientnet_model.py:143] round_filter input=40 output=56\n",
            "I0908 18:43:07.779681 140663258044288 efficientnet_model.py:143] round_filter input=80 output=112\n",
            "I0908 18:43:08.217821 140663258044288 efficientnet_model.py:143] round_filter input=80 output=112\n",
            "I0908 18:43:08.217980 140663258044288 efficientnet_model.py:143] round_filter input=112 output=160\n",
            "I0908 18:43:08.650286 140663258044288 efficientnet_model.py:143] round_filter input=112 output=160\n",
            "I0908 18:43:08.650460 140663258044288 efficientnet_model.py:143] round_filter input=192 output=272\n",
            "I0908 18:43:09.228559 140663258044288 efficientnet_model.py:143] round_filter input=192 output=272\n",
            "I0908 18:43:09.228730 140663258044288 efficientnet_model.py:143] round_filter input=320 output=448\n",
            "I0908 18:43:09.368652 140663258044288 efficientnet_model.py:143] round_filter input=1280 output=1792\n",
            "I0908 18:43:09.398732 140663258044288 efficientnet_model.py:453] Building model efficientnet with params ModelConfig(width_coefficient=1.4, depth_coefficient=1.8, resolution=380, dropout_rate=0.4, blocks=(BlockConfig(input_filters=32, output_filters=16, kernel_size=3, num_repeat=1, expand_ratio=1, strides=(1, 1), se_ratio=0.25, id_skip=True, fused_conv=False, conv_type='depthwise'), BlockConfig(input_filters=16, output_filters=24, kernel_size=3, num_repeat=2, expand_ratio=6, strides=(2, 2), se_ratio=0.25, id_skip=True, fused_conv=False, conv_type='depthwise'), BlockConfig(input_filters=24, output_filters=40, kernel_size=5, num_repeat=2, expand_ratio=6, strides=(2, 2), se_ratio=0.25, id_skip=True, fused_conv=False, conv_type='depthwise'), BlockConfig(input_filters=40, output_filters=80, kernel_size=3, num_repeat=3, expand_ratio=6, strides=(2, 2), se_ratio=0.25, id_skip=True, fused_conv=False, conv_type='depthwise'), BlockConfig(input_filters=80, output_filters=112, kernel_size=5, num_repeat=3, expand_ratio=6, strides=(1, 1), se_ratio=0.25, id_skip=True, fused_conv=False, conv_type='depthwise'), BlockConfig(input_filters=112, output_filters=192, kernel_size=5, num_repeat=4, expand_ratio=6, strides=(2, 2), se_ratio=0.25, id_skip=True, fused_conv=False, conv_type='depthwise'), BlockConfig(input_filters=192, output_filters=320, kernel_size=3, num_repeat=1, expand_ratio=6, strides=(1, 1), se_ratio=0.25, id_skip=True, fused_conv=False, conv_type='depthwise')), stem_base_filters=32, top_base_filters=1280, activation='simple_swish', batch_norm='default', bn_momentum=0.99, bn_epsilon=0.001, weight_decay=5e-06, drop_connect_rate=0.2, depth_divisor=8, min_depth=None, use_se=True, input_channels=3, num_classes=1000, model_name='efficientnet', rescale_input=False, data_format='channels_last', dtype='float32')\n",
            "I0908 18:43:09.706454 140663258044288 ssd_efficientnet_bifpn_feature_extractor.py:146] EfficientDet EfficientNet backbone version: efficientnet-b5\n",
            "I0908 18:43:09.706620 140663258044288 ssd_efficientnet_bifpn_feature_extractor.py:147] EfficientDet BiFPN num filters: 288\n",
            "I0908 18:43:09.706711 140663258044288 ssd_efficientnet_bifpn_feature_extractor.py:149] EfficientDet BiFPN num iterations: 7\n",
            "I0908 18:43:09.708235 140663258044288 efficientnet_model.py:143] round_filter input=32 output=48\n",
            "I0908 18:43:09.722558 140663258044288 efficientnet_model.py:143] round_filter input=32 output=48\n",
            "I0908 18:43:09.722674 140663258044288 efficientnet_model.py:143] round_filter input=16 output=24\n",
            "I0908 18:43:09.901261 140663258044288 efficientnet_model.py:143] round_filter input=16 output=24\n",
            "I0908 18:43:09.901424 140663258044288 efficientnet_model.py:143] round_filter input=24 output=40\n",
            "I0908 18:43:10.256626 140663258044288 efficientnet_model.py:143] round_filter input=24 output=40\n",
            "I0908 18:43:10.256799 140663258044288 efficientnet_model.py:143] round_filter input=40 output=64\n",
            "I0908 18:43:10.617538 140663258044288 efficientnet_model.py:143] round_filter input=40 output=64\n",
            "I0908 18:43:10.617693 140663258044288 efficientnet_model.py:143] round_filter input=80 output=128\n",
            "I0908 18:43:11.118422 140663258044288 efficientnet_model.py:143] round_filter input=80 output=128\n",
            "I0908 18:43:11.118591 140663258044288 efficientnet_model.py:143] round_filter input=112 output=176\n",
            "I0908 18:43:11.611354 140663258044288 efficientnet_model.py:143] round_filter input=112 output=176\n",
            "I0908 18:43:11.611521 140663258044288 efficientnet_model.py:143] round_filter input=192 output=304\n",
            "I0908 18:43:12.266979 140663258044288 efficientnet_model.py:143] round_filter input=192 output=304\n",
            "I0908 18:43:12.267155 140663258044288 efficientnet_model.py:143] round_filter input=320 output=512\n",
            "I0908 18:43:12.491563 140663258044288 efficientnet_model.py:143] round_filter input=1280 output=2048\n",
            "I0908 18:43:12.521245 140663258044288 efficientnet_model.py:453] Building model efficientnet with params ModelConfig(width_coefficient=1.6, depth_coefficient=2.2, resolution=456, dropout_rate=0.4, blocks=(BlockConfig(input_filters=32, output_filters=16, kernel_size=3, num_repeat=1, expand_ratio=1, strides=(1, 1), se_ratio=0.25, id_skip=True, fused_conv=False, conv_type='depthwise'), BlockConfig(input_filters=16, output_filters=24, kernel_size=3, num_repeat=2, expand_ratio=6, strides=(2, 2), se_ratio=0.25, id_skip=True, fused_conv=False, conv_type='depthwise'), BlockConfig(input_filters=24, output_filters=40, kernel_size=5, num_repeat=2, expand_ratio=6, strides=(2, 2), se_ratio=0.25, id_skip=True, fused_conv=False, conv_type='depthwise'), BlockConfig(input_filters=40, output_filters=80, kernel_size=3, num_repeat=3, expand_ratio=6, strides=(2, 2), se_ratio=0.25, id_skip=True, fused_conv=False, conv_type='depthwise'), BlockConfig(input_filters=80, output_filters=112, kernel_size=5, num_repeat=3, expand_ratio=6, strides=(1, 1), se_ratio=0.25, id_skip=True, fused_conv=False, conv_type='depthwise'), BlockConfig(input_filters=112, output_filters=192, kernel_size=5, num_repeat=4, expand_ratio=6, strides=(2, 2), se_ratio=0.25, id_skip=True, fused_conv=False, conv_type='depthwise'), BlockConfig(input_filters=192, output_filters=320, kernel_size=3, num_repeat=1, expand_ratio=6, strides=(1, 1), se_ratio=0.25, id_skip=True, fused_conv=False, conv_type='depthwise')), stem_base_filters=32, top_base_filters=1280, activation='simple_swish', batch_norm='default', bn_momentum=0.99, bn_epsilon=0.001, weight_decay=5e-06, drop_connect_rate=0.2, depth_divisor=8, min_depth=None, use_se=True, input_channels=3, num_classes=1000, model_name='efficientnet', rescale_input=False, data_format='channels_last', dtype='float32')\n",
            "I0908 18:43:12.602631 140663258044288 ssd_efficientnet_bifpn_feature_extractor.py:146] EfficientDet EfficientNet backbone version: efficientnet-b6\n",
            "I0908 18:43:12.602789 140663258044288 ssd_efficientnet_bifpn_feature_extractor.py:147] EfficientDet BiFPN num filters: 384\n",
            "I0908 18:43:12.602865 140663258044288 ssd_efficientnet_bifpn_feature_extractor.py:149] EfficientDet BiFPN num iterations: 8\n",
            "I0908 18:43:12.604351 140663258044288 efficientnet_model.py:143] round_filter input=32 output=56\n",
            "I0908 18:43:12.620645 140663258044288 efficientnet_model.py:143] round_filter input=32 output=56\n",
            "I0908 18:43:12.620768 140663258044288 efficientnet_model.py:143] round_filter input=16 output=32\n",
            "I0908 18:43:12.793720 140663258044288 efficientnet_model.py:143] round_filter input=16 output=32\n",
            "I0908 18:43:12.793925 140663258044288 efficientnet_model.py:143] round_filter input=24 output=40\n",
            "I0908 18:43:13.220106 140663258044288 efficientnet_model.py:143] round_filter input=24 output=40\n",
            "I0908 18:43:13.220289 140663258044288 efficientnet_model.py:143] round_filter input=40 output=72\n",
            "I0908 18:43:13.659722 140663258044288 efficientnet_model.py:143] round_filter input=40 output=72\n",
            "I0908 18:43:13.659875 140663258044288 efficientnet_model.py:143] round_filter input=80 output=144\n",
            "I0908 18:43:14.229629 140663258044288 efficientnet_model.py:143] round_filter input=80 output=144\n",
            "I0908 18:43:14.229805 140663258044288 efficientnet_model.py:143] round_filter input=112 output=200\n",
            "I0908 18:43:15.073871 140663258044288 efficientnet_model.py:143] round_filter input=112 output=200\n",
            "I0908 18:43:15.074063 140663258044288 efficientnet_model.py:143] round_filter input=192 output=344\n",
            "I0908 18:43:15.878195 140663258044288 efficientnet_model.py:143] round_filter input=192 output=344\n",
            "I0908 18:43:15.878363 140663258044288 efficientnet_model.py:143] round_filter input=320 output=576\n",
            "I0908 18:43:16.093558 140663258044288 efficientnet_model.py:143] round_filter input=1280 output=2304\n",
            "I0908 18:43:16.119960 140663258044288 efficientnet_model.py:453] Building model efficientnet with params ModelConfig(width_coefficient=1.8, depth_coefficient=2.6, resolution=528, dropout_rate=0.5, blocks=(BlockConfig(input_filters=32, output_filters=16, kernel_size=3, num_repeat=1, expand_ratio=1, strides=(1, 1), se_ratio=0.25, id_skip=True, fused_conv=False, conv_type='depthwise'), BlockConfig(input_filters=16, output_filters=24, kernel_size=3, num_repeat=2, expand_ratio=6, strides=(2, 2), se_ratio=0.25, id_skip=True, fused_conv=False, conv_type='depthwise'), BlockConfig(input_filters=24, output_filters=40, kernel_size=5, num_repeat=2, expand_ratio=6, strides=(2, 2), se_ratio=0.25, id_skip=True, fused_conv=False, conv_type='depthwise'), BlockConfig(input_filters=40, output_filters=80, kernel_size=3, num_repeat=3, expand_ratio=6, strides=(2, 2), se_ratio=0.25, id_skip=True, fused_conv=False, conv_type='depthwise'), BlockConfig(input_filters=80, output_filters=112, kernel_size=5, num_repeat=3, expand_ratio=6, strides=(1, 1), se_ratio=0.25, id_skip=True, fused_conv=False, conv_type='depthwise'), BlockConfig(input_filters=112, output_filters=192, kernel_size=5, num_repeat=4, expand_ratio=6, strides=(2, 2), se_ratio=0.25, id_skip=True, fused_conv=False, conv_type='depthwise'), BlockConfig(input_filters=192, output_filters=320, kernel_size=3, num_repeat=1, expand_ratio=6, strides=(1, 1), se_ratio=0.25, id_skip=True, fused_conv=False, conv_type='depthwise')), stem_base_filters=32, top_base_filters=1280, activation='simple_swish', batch_norm='default', bn_momentum=0.99, bn_epsilon=0.001, weight_decay=5e-06, drop_connect_rate=0.2, depth_divisor=8, min_depth=None, use_se=True, input_channels=3, num_classes=1000, model_name='efficientnet', rescale_input=False, data_format='channels_last', dtype='float32')\n",
            "I0908 18:43:16.216023 140663258044288 ssd_efficientnet_bifpn_feature_extractor.py:146] EfficientDet EfficientNet backbone version: efficientnet-b7\n",
            "I0908 18:43:16.216170 140663258044288 ssd_efficientnet_bifpn_feature_extractor.py:147] EfficientDet BiFPN num filters: 384\n",
            "I0908 18:43:16.216248 140663258044288 ssd_efficientnet_bifpn_feature_extractor.py:149] EfficientDet BiFPN num iterations: 8\n",
            "I0908 18:43:16.217801 140663258044288 efficientnet_model.py:143] round_filter input=32 output=64\n",
            "I0908 18:43:16.232810 140663258044288 efficientnet_model.py:143] round_filter input=32 output=64\n",
            "I0908 18:43:16.232922 140663258044288 efficientnet_model.py:143] round_filter input=16 output=32\n",
            "I0908 18:43:16.462239 140663258044288 efficientnet_model.py:143] round_filter input=16 output=32\n",
            "I0908 18:43:16.462383 140663258044288 efficientnet_model.py:143] round_filter input=24 output=48\n",
            "I0908 18:43:16.980328 140663258044288 efficientnet_model.py:143] round_filter input=24 output=48\n",
            "I0908 18:43:16.980504 140663258044288 efficientnet_model.py:143] round_filter input=40 output=80\n",
            "I0908 18:43:17.488466 140663258044288 efficientnet_model.py:143] round_filter input=40 output=80\n",
            "I0908 18:43:17.488641 140663258044288 efficientnet_model.py:143] round_filter input=80 output=160\n",
            "I0908 18:43:18.209532 140663258044288 efficientnet_model.py:143] round_filter input=80 output=160\n",
            "I0908 18:43:18.209690 140663258044288 efficientnet_model.py:143] round_filter input=112 output=224\n",
            "I0908 18:43:18.927257 140663258044288 efficientnet_model.py:143] round_filter input=112 output=224\n",
            "I0908 18:43:18.927432 140663258044288 efficientnet_model.py:143] round_filter input=192 output=384\n",
            "I0908 18:43:19.868270 140663258044288 efficientnet_model.py:143] round_filter input=192 output=384\n",
            "I0908 18:43:19.868436 140663258044288 efficientnet_model.py:143] round_filter input=320 output=640\n",
            "I0908 18:43:20.164852 140663258044288 efficientnet_model.py:143] round_filter input=1280 output=2560\n",
            "I0908 18:43:20.191960 140663258044288 efficientnet_model.py:453] Building model efficientnet with params ModelConfig(width_coefficient=2.0, depth_coefficient=3.1, resolution=600, dropout_rate=0.5, blocks=(BlockConfig(input_filters=32, output_filters=16, kernel_size=3, num_repeat=1, expand_ratio=1, strides=(1, 1), se_ratio=0.25, id_skip=True, fused_conv=False, conv_type='depthwise'), BlockConfig(input_filters=16, output_filters=24, kernel_size=3, num_repeat=2, expand_ratio=6, strides=(2, 2), se_ratio=0.25, id_skip=True, fused_conv=False, conv_type='depthwise'), BlockConfig(input_filters=24, output_filters=40, kernel_size=5, num_repeat=2, expand_ratio=6, strides=(2, 2), se_ratio=0.25, id_skip=True, fused_conv=False, conv_type='depthwise'), BlockConfig(input_filters=40, output_filters=80, kernel_size=3, num_repeat=3, expand_ratio=6, strides=(2, 2), se_ratio=0.25, id_skip=True, fused_conv=False, conv_type='depthwise'), BlockConfig(input_filters=80, output_filters=112, kernel_size=5, num_repeat=3, expand_ratio=6, strides=(1, 1), se_ratio=0.25, id_skip=True, fused_conv=False, conv_type='depthwise'), BlockConfig(input_filters=112, output_filters=192, kernel_size=5, num_repeat=4, expand_ratio=6, strides=(2, 2), se_ratio=0.25, id_skip=True, fused_conv=False, conv_type='depthwise'), BlockConfig(input_filters=192, output_filters=320, kernel_size=3, num_repeat=1, expand_ratio=6, strides=(1, 1), se_ratio=0.25, id_skip=True, fused_conv=False, conv_type='depthwise')), stem_base_filters=32, top_base_filters=1280, activation='simple_swish', batch_norm='default', bn_momentum=0.99, bn_epsilon=0.001, weight_decay=5e-06, drop_connect_rate=0.2, depth_divisor=8, min_depth=None, use_se=True, input_channels=3, num_classes=1000, model_name='efficientnet', rescale_input=False, data_format='channels_last', dtype='float32')\n",
            "INFO:tensorflow:time(__main__.ModelBuilderTF2Test.test_create_ssd_models_from_config): 20.72s\n",
            "I0908 18:43:20.588969 140663258044288 test_util.py:2374] time(__main__.ModelBuilderTF2Test.test_create_ssd_models_from_config): 20.72s\n",
            "[       OK ] ModelBuilderTF2Test.test_create_ssd_models_from_config\n",
            "[ RUN      ] ModelBuilderTF2Test.test_invalid_faster_rcnn_batchnorm_update\n",
            "INFO:tensorflow:time(__main__.ModelBuilderTF2Test.test_invalid_faster_rcnn_batchnorm_update): 0.0s\n",
            "I0908 18:43:20.596621 140663258044288 test_util.py:2374] time(__main__.ModelBuilderTF2Test.test_invalid_faster_rcnn_batchnorm_update): 0.0s\n",
            "[       OK ] ModelBuilderTF2Test.test_invalid_faster_rcnn_batchnorm_update\n",
            "[ RUN      ] ModelBuilderTF2Test.test_invalid_first_stage_nms_iou_threshold\n",
            "INFO:tensorflow:time(__main__.ModelBuilderTF2Test.test_invalid_first_stage_nms_iou_threshold): 0.0s\n",
            "I0908 18:43:20.598536 140663258044288 test_util.py:2374] time(__main__.ModelBuilderTF2Test.test_invalid_first_stage_nms_iou_threshold): 0.0s\n",
            "[       OK ] ModelBuilderTF2Test.test_invalid_first_stage_nms_iou_threshold\n",
            "[ RUN      ] ModelBuilderTF2Test.test_invalid_model_config_proto\n",
            "INFO:tensorflow:time(__main__.ModelBuilderTF2Test.test_invalid_model_config_proto): 0.0s\n",
            "I0908 18:43:20.599103 140663258044288 test_util.py:2374] time(__main__.ModelBuilderTF2Test.test_invalid_model_config_proto): 0.0s\n",
            "[       OK ] ModelBuilderTF2Test.test_invalid_model_config_proto\n",
            "[ RUN      ] ModelBuilderTF2Test.test_invalid_second_stage_batch_size\n",
            "INFO:tensorflow:time(__main__.ModelBuilderTF2Test.test_invalid_second_stage_batch_size): 0.0s\n",
            "I0908 18:43:20.600797 140663258044288 test_util.py:2374] time(__main__.ModelBuilderTF2Test.test_invalid_second_stage_batch_size): 0.0s\n",
            "[       OK ] ModelBuilderTF2Test.test_invalid_second_stage_batch_size\n",
            "[ RUN      ] ModelBuilderTF2Test.test_session\n",
            "[  SKIPPED ] ModelBuilderTF2Test.test_session\n",
            "[ RUN      ] ModelBuilderTF2Test.test_unknown_faster_rcnn_feature_extractor\n",
            "INFO:tensorflow:time(__main__.ModelBuilderTF2Test.test_unknown_faster_rcnn_feature_extractor): 0.0s\n",
            "I0908 18:43:20.602283 140663258044288 test_util.py:2374] time(__main__.ModelBuilderTF2Test.test_unknown_faster_rcnn_feature_extractor): 0.0s\n",
            "[       OK ] ModelBuilderTF2Test.test_unknown_faster_rcnn_feature_extractor\n",
            "[ RUN      ] ModelBuilderTF2Test.test_unknown_meta_architecture\n",
            "INFO:tensorflow:time(__main__.ModelBuilderTF2Test.test_unknown_meta_architecture): 0.0s\n",
            "I0908 18:43:20.602818 140663258044288 test_util.py:2374] time(__main__.ModelBuilderTF2Test.test_unknown_meta_architecture): 0.0s\n",
            "[       OK ] ModelBuilderTF2Test.test_unknown_meta_architecture\n",
            "[ RUN      ] ModelBuilderTF2Test.test_unknown_ssd_feature_extractor\n",
            "INFO:tensorflow:time(__main__.ModelBuilderTF2Test.test_unknown_ssd_feature_extractor): 0.0s\n",
            "I0908 18:43:20.603920 140663258044288 test_util.py:2374] time(__main__.ModelBuilderTF2Test.test_unknown_ssd_feature_extractor): 0.0s\n",
            "[       OK ] ModelBuilderTF2Test.test_unknown_ssd_feature_extractor\n",
            "----------------------------------------------------------------------\n",
            "Ran 24 tests in 26.248s\n",
            "\n",
            "OK (skipped=1)\n"
          ]
        }
      ],
      "source": [
        "VERIFICATION_SCRIPT = os.path.join(paths['APIMODEL_PATH'], 'research', 'object_detection', 'builders', 'model_builder_tf2_test.py')\n",
        "# Verify Installation\n",
        "!python {VERIFICATION_SCRIPT}"
      ]
    },
    {
      "cell_type": "code",
      "execution_count": null,
      "metadata": {
        "collapsed": true,
        "id": "3ixrNAdM4fYh"
      },
      "outputs": [],
      "source": [
        "!pip install tensorflow --upgrade"
      ]
    },
    {
      "cell_type": "code",
      "execution_count": null,
      "metadata": {
        "collapsed": true,
        "id": "IZBI9GeT4fYi"
      },
      "outputs": [],
      "source": [
        "!pip uninstall protobuf matplotlib -y\n",
        "!pip install protobuf matplotlib==3.2"
      ]
    },
    {
      "cell_type": "code",
      "execution_count": 12,
      "metadata": {
        "id": "IrKqVsGs4fYi"
      },
      "outputs": [],
      "source": [
        "import object_detection"
      ]
    },
    {
      "cell_type": "code",
      "execution_count": null,
      "metadata": {
        "id": "O8IBJ3sZ4fYj",
        "scrolled": true
      },
      "outputs": [],
      "source": [
        "!pip list"
      ]
    },
    {
      "cell_type": "code",
      "execution_count": 64,
      "metadata": {
        "colab": {
          "base_uri": "https://localhost:8080/"
        },
        "id": "csofht2npfDE",
        "outputId": "50e467fd-2749-4bac-cdd7-8d0165679e7c"
      },
      "outputs": [
        {
          "output_type": "stream",
          "name": "stdout",
          "text": [
            "--2022-09-08 20:11:40--  http://download.tensorflow.org/models/object_detection/tf2/20200711/ssd_mobilenet_v2_fpnlite_640x640_coco17_tpu-8.tar.gz\n",
            "Resolving download.tensorflow.org (download.tensorflow.org)... 74.125.195.128, 2607:f8b0:400e:c09::80\n",
            "Connecting to download.tensorflow.org (download.tensorflow.org)|74.125.195.128|:80... connected.\n",
            "HTTP request sent, awaiting response... 200 OK\n",
            "Length: 20518283 (20M) [application/x-tar]\n",
            "Saving to: ‘ssd_mobilenet_v2_fpnlite_640x640_coco17_tpu-8.tar.gz’\n",
            "\n",
            "ssd_mobilenet_v2_fp 100%[===================>]  19.57M  66.6MB/s    in 0.3s    \n",
            "\n",
            "2022-09-08 20:11:41 (66.6 MB/s) - ‘ssd_mobilenet_v2_fpnlite_640x640_coco17_tpu-8.tar.gz’ saved [20518283/20518283]\n",
            "\n",
            "ssd_mobilenet_v2_fpnlite_640x640_coco17_tpu-8/\n",
            "ssd_mobilenet_v2_fpnlite_640x640_coco17_tpu-8/checkpoint/\n",
            "ssd_mobilenet_v2_fpnlite_640x640_coco17_tpu-8/checkpoint/ckpt-0.data-00000-of-00001\n",
            "ssd_mobilenet_v2_fpnlite_640x640_coco17_tpu-8/checkpoint/checkpoint\n",
            "ssd_mobilenet_v2_fpnlite_640x640_coco17_tpu-8/checkpoint/ckpt-0.index\n",
            "ssd_mobilenet_v2_fpnlite_640x640_coco17_tpu-8/pipeline.config\n",
            "ssd_mobilenet_v2_fpnlite_640x640_coco17_tpu-8/saved_model/\n",
            "ssd_mobilenet_v2_fpnlite_640x640_coco17_tpu-8/saved_model/saved_model.pb\n",
            "ssd_mobilenet_v2_fpnlite_640x640_coco17_tpu-8/saved_model/variables/\n",
            "ssd_mobilenet_v2_fpnlite_640x640_coco17_tpu-8/saved_model/variables/variables.data-00000-of-00001\n",
            "ssd_mobilenet_v2_fpnlite_640x640_coco17_tpu-8/saved_model/variables/variables.index\n"
          ]
        }
      ],
      "source": [
        "if os.name =='posix':\n",
        "    !wget {PRETRAINED_MODEL_URL}\n",
        "    !mv {PRETRAINED_MODEL_NAME+'.tar.gz'} {paths['PRETRAINED_MODEL_PATH']}\n",
        "    !cd {paths['PRETRAINED_MODEL_PATH']} && tar -zxvf {PRETRAINED_MODEL_NAME+'.tar.gz'}\n",
        "if os.name == 'nt':\n",
        "    wget.download(PRETRAINED_MODEL_URL)\n",
        "    !move {PRETRAINED_MODEL_NAME+'.tar.gz'} {paths['PRETRAINED_MODEL_PATH']}\n",
        "    !cd {paths['PRETRAINED_MODEL_PATH']} && tar -zxvf {PRETRAINED_MODEL_NAME+'.tar.gz'}"
      ]
    },
    {
      "cell_type": "markdown",
      "metadata": {
        "id": "M5KJTnkfpfDC"
      },
      "source": [
        "# 2. Create Label Map"
      ]
    },
    {
      "cell_type": "code",
      "execution_count": 65,
      "metadata": {
        "id": "p1BVDWo7pfDC"
      },
      "outputs": [],
      "source": [
        "labels = [{'name':'1', 'id':1},{'name':'2', 'id':2}]\n",
        "\n",
        "with open(files['LABELMAP'], 'w') as f:\n",
        "    for label in labels:\n",
        "        f.write('item { \\n')\n",
        "        f.write('\\tname:\\'{}\\'\\n'.format(label['name']))\n",
        "        f.write('\\tid:{}\\n'.format(label['id']))\n",
        "        f.write('}\\n')"
      ]
    },
    {
      "cell_type": "markdown",
      "metadata": {
        "id": "C88zyVELpfDC"
      },
      "source": [
        "# 3. Create TF records"
      ]
    },
    {
      "cell_type": "code",
      "execution_count": 66,
      "metadata": {
        "colab": {
          "base_uri": "https://localhost:8080/"
        },
        "id": "kvf5WccwrFGq",
        "outputId": "091dd522-29ce-4610-bcdb-f4c9943a439e"
      },
      "outputs": [
        {
          "output_type": "stream",
          "name": "stdout",
          "text": [
            "Tensorflow/workspace/images/train/\n",
            "Tensorflow/workspace/images/train/1.444118e6-2df8-11ed-bd5f-80c5f2ad781c.jpg\n",
            "Tensorflow/workspace/images/train/1.444118e6-2df8-11ed-bd5f-80c5f2ad781c.xml\n",
            "Tensorflow/workspace/images/train/1.44429cb5-2df8-11ed-ba10-80c5f2ad781c.jpg\n",
            "Tensorflow/workspace/images/train/1.44429cb5-2df8-11ed-ba10-80c5f2ad781c.xml\n",
            "Tensorflow/workspace/images/train/1.4444225b-2df8-11ed-9630-80c5f2ad781c.jpg\n",
            "Tensorflow/workspace/images/train/1.4444225b-2df8-11ed-9630-80c5f2ad781c.xml\n",
            "Tensorflow/workspace/images/train/1.4445cf28-2df8-11ed-9f6e-80c5f2ad781c.jpg\n",
            "Tensorflow/workspace/images/train/1.4445cf28-2df8-11ed-9f6e-80c5f2ad781c.xml\n",
            "Tensorflow/workspace/images/train/1.4448fe03-2df8-11ed-b7b6-80c5f2ad781c.jpg\n",
            "Tensorflow/workspace/images/train/1.4448fe03-2df8-11ed-b7b6-80c5f2ad781c.xml\n",
            "Tensorflow/workspace/images/train/1.4450b162-2df8-11ed-b29a-80c5f2ad781c.jpg\n",
            "Tensorflow/workspace/images/train/1.4450b162-2df8-11ed-b29a-80c5f2ad781c.xml\n",
            "Tensorflow/workspace/images/train/1.4452abeb-2df8-11ed-977f-80c5f2ad781c.jpg\n",
            "Tensorflow/workspace/images/train/1.4452abeb-2df8-11ed-977f-80c5f2ad781c.xml\n",
            "Tensorflow/workspace/images/train/1.445433e4-2df8-11ed-b51f-80c5f2ad781c.jpg\n",
            "Tensorflow/workspace/images/train/1.445433e4-2df8-11ed-b51f-80c5f2ad781c.xml\n",
            "Tensorflow/workspace/images/train/1.4455b979-2df8-11ed-a7e6-80c5f2ad781c.jpg\n",
            "Tensorflow/workspace/images/train/1.4455b979-2df8-11ed-a7e6-80c5f2ad781c.xml\n",
            "Tensorflow/workspace/images/train/1.445765fa-2df8-11ed-bc81-80c5f2ad781c.jpg\n",
            "Tensorflow/workspace/images/train/1.445765fa-2df8-11ed-bc81-80c5f2ad781c.xml\n",
            "Tensorflow/workspace/images/train/1.445cba8c-2df8-11ed-a0b5-80c5f2ad781c.jpg\n",
            "Tensorflow/workspace/images/train/1.445cba8c-2df8-11ed-a0b5-80c5f2ad781c.xml\n",
            "Tensorflow/workspace/images/train/1.445e4024-2df8-11ed-8bc7-80c5f2ad781c.jpg\n",
            "Tensorflow/workspace/images/train/1.445e4024-2df8-11ed-8bc7-80c5f2ad781c.xml\n",
            "Tensorflow/workspace/images/train/1.445feced-2df8-11ed-b7a0-80c5f2ad781c.jpg\n",
            "Tensorflow/workspace/images/train/1.445feced-2df8-11ed-b7a0-80c5f2ad781c.xml\n",
            "Tensorflow/workspace/images/train/1.44640c13-2df8-11ed-a0ab-80c5f2ad781c.jpg\n",
            "Tensorflow/workspace/images/train/1.44640c13-2df8-11ed-a0ab-80c5f2ad781c.xml\n",
            "Tensorflow/workspace/images/train/1.4465a6aa-2df8-11ed-9a07-80c5f2ad781c.jpg\n",
            "Tensorflow/workspace/images/train/1.4465a6aa-2df8-11ed-9a07-80c5f2ad781c.xml\n",
            "Tensorflow/workspace/images/train/1.44672c87-2df8-11ed-b69f-80c5f2ad781c.jpg\n",
            "Tensorflow/workspace/images/train/1.44672c87-2df8-11ed-b69f-80c5f2ad781c.xml\n",
            "Tensorflow/workspace/images/train/1.4468bad4-2df8-11ed-a697-80c5f2ad781c.jpg\n",
            "Tensorflow/workspace/images/train/1.4468bad4-2df8-11ed-a697-80c5f2ad781c.xml\n",
            "Tensorflow/workspace/images/train/1.c65209fc-2baa-11ed-9557-80c5f2ad781c.jpg\n",
            "Tensorflow/workspace/images/train/1.c65209fc-2baa-11ed-9557-80c5f2ad781c.xml\n",
            "Tensorflow/workspace/images/train/1.c7891efa-2baa-11ed-ba50-80c5f2ad781c.jpg\n",
            "Tensorflow/workspace/images/train/1.c7891efa-2baa-11ed-ba50-80c5f2ad781c.xml\n",
            "Tensorflow/workspace/images/train/1.c8bd9cba-2baa-11ed-ab7c-80c5f2ad781c.jpg\n",
            "Tensorflow/workspace/images/train/1.c8bd9cba-2baa-11ed-ab7c-80c5f2ad781c.xml\n",
            "Tensorflow/workspace/images/train/1.c9f28ccd-2baa-11ed-9b93-80c5f2ad781c.jpg\n",
            "Tensorflow/workspace/images/train/1.c9f28ccd-2baa-11ed-9b93-80c5f2ad781c.xml\n",
            "Tensorflow/workspace/images/train/1.cb26204c-2baa-11ed-b874-80c5f2ad781c.jpg\n",
            "Tensorflow/workspace/images/train/1.cb26204c-2baa-11ed-b874-80c5f2ad781c.xml\n",
            "Tensorflow/workspace/images/train/1.cc5a84ff-2baa-11ed-ab8f-80c5f2ad781c.jpg\n",
            "Tensorflow/workspace/images/train/1.cc5a84ff-2baa-11ed-ab8f-80c5f2ad781c.xml\n",
            "Tensorflow/workspace/images/train/1.cd8ee5cc-2baa-11ed-8f12-80c5f2ad781c.jpg\n",
            "Tensorflow/workspace/images/train/1.cd8ee5cc-2baa-11ed-8f12-80c5f2ad781c.xml\n",
            "Tensorflow/workspace/images/train/1.cec2b331-2baa-11ed-a8c1-80c5f2ad781c.jpg\n",
            "Tensorflow/workspace/images/train/1.cec2b331-2baa-11ed-a8c1-80c5f2ad781c.xml\n",
            "Tensorflow/workspace/images/train/1.cff85ad8-2baa-11ed-97ce-80c5f2ad781c.jpg\n",
            "Tensorflow/workspace/images/train/1.cff85ad8-2baa-11ed-97ce-80c5f2ad781c.xml\n",
            "Tensorflow/workspace/images/train/1.d12daf69-2baa-11ed-b03a-80c5f2ad781c.jpg\n",
            "Tensorflow/workspace/images/train/1.d12daf69-2baa-11ed-b03a-80c5f2ad781c.xml\n",
            "Tensorflow/workspace/images/train/2.a00c17eb-2bb4-11ed-a33d-80c5f2ad781c.jpg\n",
            "Tensorflow/workspace/images/train/2.a00c17eb-2bb4-11ed-a33d-80c5f2ad781c.xml\n",
            "Tensorflow/workspace/images/train/2.a144ff78-2bb4-11ed-82cd-80c5f2ad781c.jpg\n",
            "Tensorflow/workspace/images/train/2.a144ff78-2bb4-11ed-82cd-80c5f2ad781c.xml\n",
            "Tensorflow/workspace/images/train/2.a27a94fd-2bb4-11ed-96b5-80c5f2ad781c.jpg\n",
            "Tensorflow/workspace/images/train/2.a27a94fd-2bb4-11ed-96b5-80c5f2ad781c.xml\n",
            "Tensorflow/workspace/images/train/2.a3af97aa-2bb4-11ed-85bc-80c5f2ad781c.jpg\n",
            "Tensorflow/workspace/images/train/2.a3af97aa-2bb4-11ed-85bc-80c5f2ad781c.xml\n",
            "Tensorflow/workspace/images/train/2.a4e577c3-2bb4-11ed-aad7-80c5f2ad781c.jpg\n",
            "Tensorflow/workspace/images/train/2.a4e577c3-2bb4-11ed-aad7-80c5f2ad781c.xml\n",
            "Tensorflow/workspace/images/train/2.a4fa4d27-2f9b-11ed-862f-80c5f2ad781c.jpg\n",
            "Tensorflow/workspace/images/train/2.a4fa4d27-2f9b-11ed-862f-80c5f2ad781c.xml\n",
            "Tensorflow/workspace/images/train/2.a4fe8939-2f9b-11ed-9ad5-80c5f2ad781c.jpg\n",
            "Tensorflow/workspace/images/train/2.a4fe8939-2f9b-11ed-9ad5-80c5f2ad781c.xml\n",
            "Tensorflow/workspace/images/train/2.a4fff2ba-2f9b-11ed-a4b6-80c5f2ad781c.jpg\n",
            "Tensorflow/workspace/images/train/2.a4fff2ba-2f9b-11ed-a4b6-80c5f2ad781c.xml\n",
            "Tensorflow/workspace/images/train/2.a50153d8-2f9b-11ed-878f-80c5f2ad781c.jpg\n",
            "Tensorflow/workspace/images/train/2.a50153d8-2f9b-11ed-878f-80c5f2ad781c.xml\n",
            "Tensorflow/workspace/images/train/2.a502a001-2f9b-11ed-925c-80c5f2ad781c.jpg\n",
            "Tensorflow/workspace/images/train/2.a502a001-2f9b-11ed-925c-80c5f2ad781c.xml\n",
            "Tensorflow/workspace/images/train/2.a5040e37-2f9b-11ed-9516-80c5f2ad781c.jpg\n",
            "Tensorflow/workspace/images/train/2.a5040e37-2f9b-11ed-9516-80c5f2ad781c.xml\n",
            "Tensorflow/workspace/images/train/2.a5056307-2f9b-11ed-859f-80c5f2ad781c.jpg\n",
            "Tensorflow/workspace/images/train/2.a5056307-2f9b-11ed-859f-80c5f2ad781c.xml\n",
            "Tensorflow/workspace/images/train/2.a506ce36-2f9b-11ed-b4dd-80c5f2ad781c.jpg\n",
            "Tensorflow/workspace/images/train/2.a506ce36-2f9b-11ed-b4dd-80c5f2ad781c.xml\n",
            "Tensorflow/workspace/images/train/2.a5082e5b-2f9b-11ed-bd60-80c5f2ad781c.jpg\n",
            "Tensorflow/workspace/images/train/2.a5082e5b-2f9b-11ed-bd60-80c5f2ad781c.xml\n",
            "Tensorflow/workspace/images/train/2.a50981a9-2f9b-11ed-80fb-80c5f2ad781c.jpg\n",
            "Tensorflow/workspace/images/train/2.a50981a9-2f9b-11ed-80fb-80c5f2ad781c.xml\n",
            "Tensorflow/workspace/images/train/2.a50aaf69-2f9b-11ed-b456-80c5f2ad781c.jpg\n",
            "Tensorflow/workspace/images/train/2.a50aaf69-2f9b-11ed-b456-80c5f2ad781c.xml\n",
            "Tensorflow/workspace/images/train/2.a50c16ec-2f9b-11ed-8d6a-80c5f2ad781c.jpg\n",
            "Tensorflow/workspace/images/train/2.a50c16ec-2f9b-11ed-8d6a-80c5f2ad781c.xml\n",
            "Tensorflow/workspace/images/train/2.a50d2946-2f9b-11ed-97a4-80c5f2ad781c.jpg\n",
            "Tensorflow/workspace/images/train/2.a50d2946-2f9b-11ed-97a4-80c5f2ad781c.xml\n",
            "Tensorflow/workspace/images/train/2.a74e24b7-2bb4-11ed-ae63-80c5f2ad781c.jpg\n",
            "Tensorflow/workspace/images/train/2.a74e24b7-2bb4-11ed-ae63-80c5f2ad781c.xml\n",
            "Tensorflow/workspace/images/train/2.a883ea7b-2bb4-11ed-83fc-80c5f2ad781c.jpg\n",
            "Tensorflow/workspace/images/train/2.a883ea7b-2bb4-11ed-83fc-80c5f2ad781c.xml\n",
            "Tensorflow/workspace/images/train/2.a9b995d8-2bb4-11ed-ad06-80c5f2ad781c.jpg\n",
            "Tensorflow/workspace/images/train/2.a9b995d8-2bb4-11ed-ad06-80c5f2ad781c.xml\n",
            "Tensorflow/workspace/images/train/2.ab7b50fd-2f9b-11ed-8e51-80c5f2ad781c.jpg\n",
            "Tensorflow/workspace/images/train/2.ab7b50fd-2f9b-11ed-8e51-80c5f2ad781c.xml\n",
            "Tensorflow/workspace/images/train/2.ab7cf895-2f9b-11ed-9347-80c5f2ad781c.jpg\n",
            "Tensorflow/workspace/images/train/2.ab7cf895-2f9b-11ed-9347-80c5f2ad781c.xml\n",
            "Tensorflow/workspace/images/train/2.ab7e31e6-2f9b-11ed-88fc-80c5f2ad781c.jpg\n",
            "Tensorflow/workspace/images/train/2.ab7e31e6-2f9b-11ed-88fc-80c5f2ad781c.xml\n",
            "Tensorflow/workspace/images/train/2.ab83b93f-2f9b-11ed-8aad-80c5f2ad781c.jpg\n",
            "Tensorflow/workspace/images/train/2.ab83b93f-2f9b-11ed-8aad-80c5f2ad781c.xml\n",
            "Tensorflow/workspace/images/train/2.ab84eeb6-2f9b-11ed-a6de-80c5f2ad781c.jpg\n",
            "Tensorflow/workspace/images/train/2.ab84eeb6-2f9b-11ed-a6de-80c5f2ad781c.xml\n",
            "Tensorflow/workspace/images/train/2.ab889fed-2f9b-11ed-ace5-80c5f2ad781c.jpg\n",
            "Tensorflow/workspace/images/train/2.ab889fed-2f9b-11ed-ace5-80c5f2ad781c.xml\n",
            "Tensorflow/workspace/images/train/2.ab89d325-2f9b-11ed-9ac4-80c5f2ad781c.jpg\n",
            "Tensorflow/workspace/images/train/2.ab89d325-2f9b-11ed-9ac4-80c5f2ad781c.xml\n",
            "Tensorflow/workspace/images/train/2.ab8b2bfe-2f9b-11ed-bd3d-80c5f2ad781c.jpg\n",
            "Tensorflow/workspace/images/train/2.ab8b2bfe-2f9b-11ed-bd3d-80c5f2ad781c.xml\n",
            "Tensorflow/workspace/images/test/\n",
            "Tensorflow/workspace/images/test/1.443eeb91-2df8-11ed-925b-80c5f2ad781c.jpg\n",
            "Tensorflow/workspace/images/test/1.443eeb91-2df8-11ed-925b-80c5f2ad781c.xml\n",
            "Tensorflow/workspace/images/test/1.444aa611-2df8-11ed-8e95-80c5f2ad781c.jpg\n",
            "Tensorflow/workspace/images/test/1.444aa611-2df8-11ed-8e95-80c5f2ad781c.xml\n",
            "Tensorflow/workspace/images/test/1.444c20a4-2df8-11ed-a855-80c5f2ad781c.jpg\n",
            "Tensorflow/workspace/images/test/1.444c20a4-2df8-11ed-a855-80c5f2ad781c.xml\n",
            "Tensorflow/workspace/images/test/1.444da63d-2df8-11ed-9e77-80c5f2ad781c.jpg\n",
            "Tensorflow/workspace/images/test/1.444da63d-2df8-11ed-9e77-80c5f2ad781c.xml\n",
            "Tensorflow/workspace/images/test/1.444f52c4-2df8-11ed-bd41-80c5f2ad781c.jpg\n",
            "Tensorflow/workspace/images/test/1.444f52c4-2df8-11ed-bd41-80c5f2ad781c.xml\n",
            "Tensorflow/workspace/images/test/1.445b0d2a-2df8-11ed-8d4f-80c5f2ad781c.jpg\n",
            "Tensorflow/workspace/images/test/1.445b0d2a-2df8-11ed-8d4f-80c5f2ad781c.xml\n",
            "Tensorflow/workspace/images/test/1.cff85ad8-2baa-11ed-97ce-80c5f2ad781c.jpg\n",
            "Tensorflow/workspace/images/test/1.cff85ad8-2baa-11ed-97ce-80c5f2ad781c.xml\n",
            "Tensorflow/workspace/images/test/1.d12daf69-2baa-11ed-b03a-80c5f2ad781c.jpg\n",
            "Tensorflow/workspace/images/test/1.d12daf69-2baa-11ed-b03a-80c5f2ad781c.xml\n",
            "Tensorflow/workspace/images/test/2.a619447e-2bb4-11ed-9ef5-80c5f2ad781c.jpg\n",
            "Tensorflow/workspace/images/test/2.a619447e-2bb4-11ed-9ef5-80c5f2ad781c.xml\n",
            "Tensorflow/workspace/images/test/2.aaed9a7c-2bb4-11ed-b2b6-80c5f2ad781c.jpg\n",
            "Tensorflow/workspace/images/test/2.aaed9a7c-2bb4-11ed-b2b6-80c5f2ad781c.xml\n",
            "Tensorflow/workspace/images/test/2.ab803574-2f9b-11ed-8661-80c5f2ad781c.jpg\n",
            "Tensorflow/workspace/images/test/2.ab803574-2f9b-11ed-8661-80c5f2ad781c.xml\n",
            "Tensorflow/workspace/images/test/2.ab81672b-2f9b-11ed-81a6-80c5f2ad781c.jpg\n",
            "Tensorflow/workspace/images/test/2.ab81672b-2f9b-11ed-81a6-80c5f2ad781c.xml\n",
            "Tensorflow/workspace/images/test/2.ab8291e9-2f9b-11ed-a010-80c5f2ad781c.jpg\n",
            "Tensorflow/workspace/images/test/2.ab8291e9-2f9b-11ed-a010-80c5f2ad781c.xml\n",
            "Tensorflow/workspace/images/test/2.ab86215c-2f9b-11ed-9379-80c5f2ad781c.jpg\n",
            "Tensorflow/workspace/images/test/2.ab86215c-2f9b-11ed-9379-80c5f2ad781c.xml\n",
            "Tensorflow/workspace/images/test/2.ab8755d6-2f9b-11ed-ad84-80c5f2ad781c.jpg\n",
            "Tensorflow/workspace/images/test/2.ab8755d6-2f9b-11ed-ad84-80c5f2ad781c.xml\n"
          ]
        }
      ],
      "source": [
        "# OPTIONAL IF RUNNING ON COLAB\n",
        "ARCHIVE_FILES = os.path.join(paths['IMAGE_PATH'], 'archive.tar.gz')\n",
        "if os.path.exists(ARCHIVE_FILES):\n",
        "  !tar -zxvf {ARCHIVE_FILES}"
      ]
    },
    {
      "cell_type": "code",
      "execution_count": 67,
      "metadata": {
        "id": "KWpb_BVUpfDD"
      },
      "outputs": [],
      "source": [
        "if not os.path.exists(files['TF_RECORD_SCRIPT']):\n",
        "    !git clone https://github.com/nicknochnack/GenerateTFRecord {paths['SCRIPTS_PATH']}"
      ]
    },
    {
      "cell_type": "code",
      "execution_count": 68,
      "metadata": {
        "colab": {
          "base_uri": "https://localhost:8080/"
        },
        "id": "UPFToGZqpfDD",
        "outputId": "99359c65-4b10-456c-edc0-2dae4c4b6fa4"
      },
      "outputs": [
        {
          "output_type": "stream",
          "name": "stdout",
          "text": [
            "Successfully created the TFRecord file: Tensorflow/workspace/annotations/train.record\n",
            "Successfully created the TFRecord file: Tensorflow/workspace/annotations/test.record\n"
          ]
        }
      ],
      "source": [
        "!python {files['TF_RECORD_SCRIPT']} -x {os.path.join(paths['IMAGE_PATH'], 'train')} -l {files['LABELMAP']} -o {os.path.join(paths['ANNOTATION_PATH'], 'train.record')} \n",
        "!python {files['TF_RECORD_SCRIPT']} -x {os.path.join(paths['IMAGE_PATH'], 'test')} -l {files['LABELMAP']} -o {os.path.join(paths['ANNOTATION_PATH'], 'test.record')} "
      ]
    },
    {
      "cell_type": "markdown",
      "metadata": {
        "id": "qT4QU7pLpfDE"
      },
      "source": [
        "# 4. Copy Model Config to Training Folder"
      ]
    },
    {
      "cell_type": "code",
      "execution_count": 69,
      "metadata": {
        "id": "cOjuTFbwpfDF"
      },
      "outputs": [],
      "source": [
        "if os.name =='posix':\n",
        "    !cp {os.path.join(paths['PRETRAINED_MODEL_PATH'], PRETRAINED_MODEL_NAME, 'pipeline.config')} {os.path.join(paths['CHECKPOINT_PATH'])}\n",
        "if os.name == 'nt':\n",
        "    !copy {os.path.join(paths['PRETRAINED_MODEL_PATH'], PRETRAINED_MODEL_NAME, 'pipeline.config')} {os.path.join(paths['CHECKPOINT_PATH'])}"
      ]
    },
    {
      "cell_type": "markdown",
      "metadata": {
        "id": "Ga8gpNslpfDF"
      },
      "source": [
        "# 5. Update Config For Transfer Learning"
      ]
    },
    {
      "cell_type": "code",
      "execution_count": 70,
      "metadata": {
        "id": "Z9hRrO_ppfDF"
      },
      "outputs": [],
      "source": [
        "import tensorflow as tf\n",
        "from object_detection.utils import config_util\n",
        "from object_detection.protos import pipeline_pb2\n",
        "from google.protobuf import text_format"
      ]
    },
    {
      "cell_type": "code",
      "execution_count": 71,
      "metadata": {
        "id": "c2A0mn4ipfDF"
      },
      "outputs": [],
      "source": [
        "config = config_util.get_configs_from_pipeline_file(files['PIPELINE_CONFIG'])"
      ]
    },
    {
      "cell_type": "code",
      "execution_count": 72,
      "metadata": {
        "colab": {
          "base_uri": "https://localhost:8080/"
        },
        "id": "uQA13-afpfDF",
        "outputId": "d62dc881-7c35-4236-adb8-86bce9083910"
      },
      "outputs": [
        {
          "output_type": "execute_result",
          "data": {
            "text/plain": [
              "{'model': ssd {\n",
              "   num_classes: 90\n",
              "   image_resizer {\n",
              "     fixed_shape_resizer {\n",
              "       height: 640\n",
              "       width: 640\n",
              "     }\n",
              "   }\n",
              "   feature_extractor {\n",
              "     type: \"ssd_mobilenet_v2_fpn_keras\"\n",
              "     depth_multiplier: 1.0\n",
              "     min_depth: 16\n",
              "     conv_hyperparams {\n",
              "       regularizer {\n",
              "         l2_regularizer {\n",
              "           weight: 3.9999998989515007e-05\n",
              "         }\n",
              "       }\n",
              "       initializer {\n",
              "         random_normal_initializer {\n",
              "           mean: 0.0\n",
              "           stddev: 0.009999999776482582\n",
              "         }\n",
              "       }\n",
              "       activation: RELU_6\n",
              "       batch_norm {\n",
              "         decay: 0.996999979019165\n",
              "         scale: true\n",
              "         epsilon: 0.0010000000474974513\n",
              "       }\n",
              "     }\n",
              "     use_depthwise: true\n",
              "     override_base_feature_extractor_hyperparams: true\n",
              "     fpn {\n",
              "       min_level: 3\n",
              "       max_level: 7\n",
              "       additional_layer_depth: 128\n",
              "     }\n",
              "   }\n",
              "   box_coder {\n",
              "     faster_rcnn_box_coder {\n",
              "       y_scale: 10.0\n",
              "       x_scale: 10.0\n",
              "       height_scale: 5.0\n",
              "       width_scale: 5.0\n",
              "     }\n",
              "   }\n",
              "   matcher {\n",
              "     argmax_matcher {\n",
              "       matched_threshold: 0.5\n",
              "       unmatched_threshold: 0.5\n",
              "       ignore_thresholds: false\n",
              "       negatives_lower_than_unmatched: true\n",
              "       force_match_for_each_row: true\n",
              "       use_matmul_gather: true\n",
              "     }\n",
              "   }\n",
              "   similarity_calculator {\n",
              "     iou_similarity {\n",
              "     }\n",
              "   }\n",
              "   box_predictor {\n",
              "     weight_shared_convolutional_box_predictor {\n",
              "       conv_hyperparams {\n",
              "         regularizer {\n",
              "           l2_regularizer {\n",
              "             weight: 3.9999998989515007e-05\n",
              "           }\n",
              "         }\n",
              "         initializer {\n",
              "           random_normal_initializer {\n",
              "             mean: 0.0\n",
              "             stddev: 0.009999999776482582\n",
              "           }\n",
              "         }\n",
              "         activation: RELU_6\n",
              "         batch_norm {\n",
              "           decay: 0.996999979019165\n",
              "           scale: true\n",
              "           epsilon: 0.0010000000474974513\n",
              "         }\n",
              "       }\n",
              "       depth: 128\n",
              "       num_layers_before_predictor: 4\n",
              "       kernel_size: 3\n",
              "       class_prediction_bias_init: -4.599999904632568\n",
              "       share_prediction_tower: true\n",
              "       use_depthwise: true\n",
              "     }\n",
              "   }\n",
              "   anchor_generator {\n",
              "     multiscale_anchor_generator {\n",
              "       min_level: 3\n",
              "       max_level: 7\n",
              "       anchor_scale: 4.0\n",
              "       aspect_ratios: 1.0\n",
              "       aspect_ratios: 2.0\n",
              "       aspect_ratios: 0.5\n",
              "       scales_per_octave: 2\n",
              "     }\n",
              "   }\n",
              "   post_processing {\n",
              "     batch_non_max_suppression {\n",
              "       score_threshold: 9.99999993922529e-09\n",
              "       iou_threshold: 0.6000000238418579\n",
              "       max_detections_per_class: 100\n",
              "       max_total_detections: 100\n",
              "       use_static_shapes: false\n",
              "     }\n",
              "     score_converter: SIGMOID\n",
              "   }\n",
              "   normalize_loss_by_num_matches: true\n",
              "   loss {\n",
              "     localization_loss {\n",
              "       weighted_smooth_l1 {\n",
              "       }\n",
              "     }\n",
              "     classification_loss {\n",
              "       weighted_sigmoid_focal {\n",
              "         gamma: 2.0\n",
              "         alpha: 0.25\n",
              "       }\n",
              "     }\n",
              "     classification_weight: 1.0\n",
              "     localization_weight: 1.0\n",
              "   }\n",
              "   encode_background_as_zeros: true\n",
              "   normalize_loc_loss_by_codesize: true\n",
              "   inplace_batchnorm_update: true\n",
              "   freeze_batchnorm: false\n",
              " }, 'train_config': batch_size: 128\n",
              " data_augmentation_options {\n",
              "   random_horizontal_flip {\n",
              "   }\n",
              " }\n",
              " data_augmentation_options {\n",
              "   random_crop_image {\n",
              "     min_object_covered: 0.0\n",
              "     min_aspect_ratio: 0.75\n",
              "     max_aspect_ratio: 3.0\n",
              "     min_area: 0.75\n",
              "     max_area: 1.0\n",
              "     overlap_thresh: 0.0\n",
              "   }\n",
              " }\n",
              " sync_replicas: true\n",
              " optimizer {\n",
              "   momentum_optimizer {\n",
              "     learning_rate {\n",
              "       cosine_decay_learning_rate {\n",
              "         learning_rate_base: 0.07999999821186066\n",
              "         total_steps: 50000\n",
              "         warmup_learning_rate: 0.026666000485420227\n",
              "         warmup_steps: 1000\n",
              "       }\n",
              "     }\n",
              "     momentum_optimizer_value: 0.8999999761581421\n",
              "   }\n",
              "   use_moving_average: false\n",
              " }\n",
              " fine_tune_checkpoint: \"PATH_TO_BE_CONFIGURED\"\n",
              " num_steps: 50000\n",
              " startup_delay_steps: 0.0\n",
              " replicas_to_aggregate: 8\n",
              " max_number_of_boxes: 100\n",
              " unpad_groundtruth_tensors: false\n",
              " fine_tune_checkpoint_type: \"classification\"\n",
              " fine_tune_checkpoint_version: V2, 'train_input_config': label_map_path: \"PATH_TO_BE_CONFIGURED\"\n",
              " tf_record_input_reader {\n",
              "   input_path: \"PATH_TO_BE_CONFIGURED\"\n",
              " }, 'eval_config': metrics_set: \"coco_detection_metrics\"\n",
              " use_moving_averages: false, 'eval_input_configs': [label_map_path: \"PATH_TO_BE_CONFIGURED\"\n",
              " shuffle: false\n",
              " num_epochs: 1\n",
              " tf_record_input_reader {\n",
              "   input_path: \"PATH_TO_BE_CONFIGURED\"\n",
              " }\n",
              " ], 'eval_input_config': label_map_path: \"PATH_TO_BE_CONFIGURED\"\n",
              " shuffle: false\n",
              " num_epochs: 1\n",
              " tf_record_input_reader {\n",
              "   input_path: \"PATH_TO_BE_CONFIGURED\"\n",
              " }}"
            ]
          },
          "metadata": {},
          "execution_count": 72
        }
      ],
      "source": [
        "config"
      ]
    },
    {
      "cell_type": "code",
      "execution_count": 73,
      "metadata": {
        "id": "9vK5lotDpfDF"
      },
      "outputs": [],
      "source": [
        "pipeline_config = pipeline_pb2.TrainEvalPipelineConfig()\n",
        "with tf.io.gfile.GFile(files['PIPELINE_CONFIG'], \"r\") as f:                                                                                                                                                                                                                     \n",
        "    proto_str = f.read()                                                                                                                                                                                                                                          \n",
        "    text_format.Merge(proto_str, pipeline_config)  "
      ]
    },
    {
      "cell_type": "code",
      "execution_count": 74,
      "metadata": {
        "id": "rP43Ph0JpfDG"
      },
      "outputs": [],
      "source": [
        "pipeline_config.model.ssd.num_classes = len(labels)\n",
        "pipeline_config.train_config.batch_size = 4\n",
        "pipeline_config.train_config.fine_tune_checkpoint = os.path.join(paths['PRETRAINED_MODEL_PATH'], PRETRAINED_MODEL_NAME, 'checkpoint', 'ckpt-0')\n",
        "pipeline_config.train_config.fine_tune_checkpoint_type = \"detection\"\n",
        "pipeline_config.train_input_reader.label_map_path= files['LABELMAP']\n",
        "pipeline_config.train_input_reader.tf_record_input_reader.input_path[:] = [os.path.join(paths['ANNOTATION_PATH'], 'train.record')]\n",
        "pipeline_config.eval_input_reader[0].label_map_path = files['LABELMAP']\n",
        "pipeline_config.eval_input_reader[0].tf_record_input_reader.input_path[:] = [os.path.join(paths['ANNOTATION_PATH'], 'test.record')]"
      ]
    },
    {
      "cell_type": "code",
      "execution_count": 75,
      "metadata": {
        "id": "oJvfgwWqpfDG"
      },
      "outputs": [],
      "source": [
        "config_text = text_format.MessageToString(pipeline_config)                                                                                                                                                                                                        \n",
        "with tf.io.gfile.GFile(files['PIPELINE_CONFIG'], \"wb\") as f:                                                                                                                                                                                                                     \n",
        "    f.write(config_text)   "
      ]
    },
    {
      "cell_type": "markdown",
      "metadata": {
        "id": "Zr3ON7xMpfDG"
      },
      "source": [
        "# 6. Train the model"
      ]
    },
    {
      "cell_type": "code",
      "execution_count": 76,
      "metadata": {
        "id": "B-Y2UQmQpfDG"
      },
      "outputs": [],
      "source": [
        "TRAINING_SCRIPT = os.path.join(paths['APIMODEL_PATH'], 'research', 'object_detection', 'model_main_tf2.py')"
      ]
    },
    {
      "cell_type": "code",
      "execution_count": 78,
      "metadata": {
        "id": "jMP2XDfQpfDH"
      },
      "outputs": [],
      "source": [
        "command = \"python {} --model_dir={} --pipeline_config_path={} --num_train_steps=5000\".format(TRAINING_SCRIPT, paths['CHECKPOINT_PATH'],files['PIPELINE_CONFIG'])"
      ]
    },
    {
      "cell_type": "code",
      "execution_count": 79,
      "metadata": {
        "colab": {
          "base_uri": "https://localhost:8080/"
        },
        "id": "A4OXXi-ApfDH",
        "outputId": "e8339dad-9b3c-4d00-c196-8e7f455a4a92"
      },
      "outputs": [
        {
          "output_type": "stream",
          "name": "stdout",
          "text": [
            "python Tensorflow/models/research/object_detection/model_main_tf2.py --model_dir=Tensorflow/workspace/models/my_ssd_mobilenet_v2 --pipeline_config_path=Tensorflow/workspace/models/my_ssd_mobilenet_v2/pipeline.config --num_train_steps=5000\n"
          ]
        }
      ],
      "source": [
        "print(command)"
      ]
    },
    {
      "cell_type": "code",
      "execution_count": 80,
      "metadata": {
        "colab": {
          "base_uri": "https://localhost:8080/"
        },
        "id": "i3ZsJR-qpfDH",
        "outputId": "cd7ce719-8d98-4cda-9bd3-fa8cd0b94feb"
      },
      "outputs": [
        {
          "output_type": "stream",
          "name": "stdout",
          "text": [
            "2022-09-08 20:13:08.354792: W tensorflow/core/common_runtime/gpu/gpu_bfc_allocator.cc:39] Overriding allow_growth setting because the TF_FORCE_GPU_ALLOW_GROWTH environment variable is set. Original config value was 0.\n",
            "INFO:tensorflow:Using MirroredStrategy with devices ('/job:localhost/replica:0/task:0/device:GPU:0',)\n",
            "I0908 20:13:08.361000 140607911708544 mirrored_strategy.py:374] Using MirroredStrategy with devices ('/job:localhost/replica:0/task:0/device:GPU:0',)\n",
            "INFO:tensorflow:Maybe overwriting train_steps: 5000\n",
            "I0908 20:13:08.365204 140607911708544 config_util.py:552] Maybe overwriting train_steps: 5000\n",
            "INFO:tensorflow:Maybe overwriting use_bfloat16: False\n",
            "I0908 20:13:08.365379 140607911708544 config_util.py:552] Maybe overwriting use_bfloat16: False\n",
            "WARNING:tensorflow:From /usr/local/lib/python3.7/dist-packages/object_detection/model_lib_v2.py:564: StrategyBase.experimental_distribute_datasets_from_function (from tensorflow.python.distribute.distribute_lib) is deprecated and will be removed in a future version.\n",
            "Instructions for updating:\n",
            "rename to distribute_datasets_from_function\n",
            "W0908 20:13:08.392303 140607911708544 deprecation.py:343] From /usr/local/lib/python3.7/dist-packages/object_detection/model_lib_v2.py:564: StrategyBase.experimental_distribute_datasets_from_function (from tensorflow.python.distribute.distribute_lib) is deprecated and will be removed in a future version.\n",
            "Instructions for updating:\n",
            "rename to distribute_datasets_from_function\n",
            "INFO:tensorflow:Reading unweighted datasets: ['Tensorflow/workspace/annotations/train.record']\n",
            "I0908 20:13:08.396475 140607911708544 dataset_builder.py:162] Reading unweighted datasets: ['Tensorflow/workspace/annotations/train.record']\n",
            "INFO:tensorflow:Reading record datasets for input file: ['Tensorflow/workspace/annotations/train.record']\n",
            "I0908 20:13:08.396697 140607911708544 dataset_builder.py:79] Reading record datasets for input file: ['Tensorflow/workspace/annotations/train.record']\n",
            "INFO:tensorflow:Number of filenames to read: 1\n",
            "I0908 20:13:08.396816 140607911708544 dataset_builder.py:80] Number of filenames to read: 1\n",
            "WARNING:tensorflow:num_readers has been reduced to 1 to match input file shards.\n",
            "W0908 20:13:08.396892 140607911708544 dataset_builder.py:87] num_readers has been reduced to 1 to match input file shards.\n",
            "WARNING:tensorflow:From /usr/local/lib/python3.7/dist-packages/object_detection/builders/dataset_builder.py:104: parallel_interleave (from tensorflow.python.data.experimental.ops.interleave_ops) is deprecated and will be removed in a future version.\n",
            "Instructions for updating:\n",
            "Use `tf.data.Dataset.interleave(map_func, cycle_length, block_length, num_parallel_calls=tf.data.AUTOTUNE)` instead. If sloppy execution is desired, use `tf.data.Options.deterministic`.\n",
            "W0908 20:13:08.399415 140607911708544 deprecation.py:343] From /usr/local/lib/python3.7/dist-packages/object_detection/builders/dataset_builder.py:104: parallel_interleave (from tensorflow.python.data.experimental.ops.interleave_ops) is deprecated and will be removed in a future version.\n",
            "Instructions for updating:\n",
            "Use `tf.data.Dataset.interleave(map_func, cycle_length, block_length, num_parallel_calls=tf.data.AUTOTUNE)` instead. If sloppy execution is desired, use `tf.data.Options.deterministic`.\n",
            "WARNING:tensorflow:From /usr/local/lib/python3.7/dist-packages/object_detection/builders/dataset_builder.py:236: DatasetV1.map_with_legacy_function (from tensorflow.python.data.ops.dataset_ops) is deprecated and will be removed in a future version.\n",
            "Instructions for updating:\n",
            "Use `tf.data.Dataset.map()\n",
            "W0908 20:13:08.421675 140607911708544 deprecation.py:343] From /usr/local/lib/python3.7/dist-packages/object_detection/builders/dataset_builder.py:236: DatasetV1.map_with_legacy_function (from tensorflow.python.data.ops.dataset_ops) is deprecated and will be removed in a future version.\n",
            "Instructions for updating:\n",
            "Use `tf.data.Dataset.map()\n",
            "WARNING:tensorflow:From /usr/local/lib/python3.7/dist-packages/tensorflow/python/util/dispatch.py:1082: sparse_to_dense (from tensorflow.python.ops.sparse_ops) is deprecated and will be removed in a future version.\n",
            "Instructions for updating:\n",
            "Create a `tf.sparse.SparseTensor` and use `tf.sparse.to_dense` instead.\n",
            "W0908 20:13:15.787352 140607911708544 deprecation.py:343] From /usr/local/lib/python3.7/dist-packages/tensorflow/python/util/dispatch.py:1082: sparse_to_dense (from tensorflow.python.ops.sparse_ops) is deprecated and will be removed in a future version.\n",
            "Instructions for updating:\n",
            "Create a `tf.sparse.SparseTensor` and use `tf.sparse.to_dense` instead.\n",
            "WARNING:tensorflow:From /usr/local/lib/python3.7/dist-packages/tensorflow/python/util/dispatch.py:1082: sample_distorted_bounding_box (from tensorflow.python.ops.image_ops_impl) is deprecated and will be removed in a future version.\n",
            "Instructions for updating:\n",
            "`seed2` arg is deprecated.Use sample_distorted_bounding_box_v2 instead.\n",
            "W0908 20:13:18.842070 140607911708544 deprecation.py:343] From /usr/local/lib/python3.7/dist-packages/tensorflow/python/util/dispatch.py:1082: sample_distorted_bounding_box (from tensorflow.python.ops.image_ops_impl) is deprecated and will be removed in a future version.\n",
            "Instructions for updating:\n",
            "`seed2` arg is deprecated.Use sample_distorted_bounding_box_v2 instead.\n",
            "WARNING:tensorflow:From /usr/local/lib/python3.7/dist-packages/tensorflow/python/util/dispatch.py:1082: to_float (from tensorflow.python.ops.math_ops) is deprecated and will be removed in a future version.\n",
            "Instructions for updating:\n",
            "Use `tf.cast` instead.\n",
            "W0908 20:13:20.591521 140607911708544 deprecation.py:343] From /usr/local/lib/python3.7/dist-packages/tensorflow/python/util/dispatch.py:1082: to_float (from tensorflow.python.ops.math_ops) is deprecated and will be removed in a future version.\n",
            "Instructions for updating:\n",
            "Use `tf.cast` instead.\n",
            "/usr/local/lib/python3.7/dist-packages/keras/backend.py:450: UserWarning: `tf.keras.backend.set_learning_phase` is deprecated and will be removed after 2020-10-11. To update it, simply pass a True/False value to the `training` argument of the `__call__` method of your layer or model.\n",
            "  warnings.warn('`tf.keras.backend.set_learning_phase` is deprecated and '\n",
            "INFO:tensorflow:Reduce to /job:localhost/replica:0/task:0/device:CPU:0 then broadcast to ('/job:localhost/replica:0/task:0/device:CPU:0',).\n",
            "I0908 20:13:55.728673 140607911708544 cross_device_ops.py:618] Reduce to /job:localhost/replica:0/task:0/device:CPU:0 then broadcast to ('/job:localhost/replica:0/task:0/device:CPU:0',).\n",
            "INFO:tensorflow:Reduce to /job:localhost/replica:0/task:0/device:CPU:0 then broadcast to ('/job:localhost/replica:0/task:0/device:CPU:0',).\n",
            "I0908 20:13:55.730313 140607911708544 cross_device_ops.py:618] Reduce to /job:localhost/replica:0/task:0/device:CPU:0 then broadcast to ('/job:localhost/replica:0/task:0/device:CPU:0',).\n",
            "INFO:tensorflow:Reduce to /job:localhost/replica:0/task:0/device:CPU:0 then broadcast to ('/job:localhost/replica:0/task:0/device:CPU:0',).\n",
            "I0908 20:13:55.732813 140607911708544 cross_device_ops.py:618] Reduce to /job:localhost/replica:0/task:0/device:CPU:0 then broadcast to ('/job:localhost/replica:0/task:0/device:CPU:0',).\n",
            "INFO:tensorflow:Reduce to /job:localhost/replica:0/task:0/device:CPU:0 then broadcast to ('/job:localhost/replica:0/task:0/device:CPU:0',).\n",
            "I0908 20:13:55.733969 140607911708544 cross_device_ops.py:618] Reduce to /job:localhost/replica:0/task:0/device:CPU:0 then broadcast to ('/job:localhost/replica:0/task:0/device:CPU:0',).\n",
            "INFO:tensorflow:Reduce to /job:localhost/replica:0/task:0/device:CPU:0 then broadcast to ('/job:localhost/replica:0/task:0/device:CPU:0',).\n",
            "I0908 20:13:55.736275 140607911708544 cross_device_ops.py:618] Reduce to /job:localhost/replica:0/task:0/device:CPU:0 then broadcast to ('/job:localhost/replica:0/task:0/device:CPU:0',).\n",
            "INFO:tensorflow:Reduce to /job:localhost/replica:0/task:0/device:CPU:0 then broadcast to ('/job:localhost/replica:0/task:0/device:CPU:0',).\n",
            "I0908 20:13:55.737253 140607911708544 cross_device_ops.py:618] Reduce to /job:localhost/replica:0/task:0/device:CPU:0 then broadcast to ('/job:localhost/replica:0/task:0/device:CPU:0',).\n",
            "INFO:tensorflow:Reduce to /job:localhost/replica:0/task:0/device:CPU:0 then broadcast to ('/job:localhost/replica:0/task:0/device:CPU:0',).\n",
            "I0908 20:13:55.739470 140607911708544 cross_device_ops.py:618] Reduce to /job:localhost/replica:0/task:0/device:CPU:0 then broadcast to ('/job:localhost/replica:0/task:0/device:CPU:0',).\n",
            "INFO:tensorflow:Reduce to /job:localhost/replica:0/task:0/device:CPU:0 then broadcast to ('/job:localhost/replica:0/task:0/device:CPU:0',).\n",
            "I0908 20:13:55.740453 140607911708544 cross_device_ops.py:618] Reduce to /job:localhost/replica:0/task:0/device:CPU:0 then broadcast to ('/job:localhost/replica:0/task:0/device:CPU:0',).\n",
            "INFO:tensorflow:Reduce to /job:localhost/replica:0/task:0/device:CPU:0 then broadcast to ('/job:localhost/replica:0/task:0/device:CPU:0',).\n",
            "I0908 20:13:55.742604 140607911708544 cross_device_ops.py:618] Reduce to /job:localhost/replica:0/task:0/device:CPU:0 then broadcast to ('/job:localhost/replica:0/task:0/device:CPU:0',).\n",
            "INFO:tensorflow:Reduce to /job:localhost/replica:0/task:0/device:CPU:0 then broadcast to ('/job:localhost/replica:0/task:0/device:CPU:0',).\n",
            "I0908 20:13:55.743542 140607911708544 cross_device_ops.py:618] Reduce to /job:localhost/replica:0/task:0/device:CPU:0 then broadcast to ('/job:localhost/replica:0/task:0/device:CPU:0',).\n",
            "WARNING:tensorflow:From /usr/local/lib/python3.7/dist-packages/tensorflow/python/util/deprecation.py:616: calling map_fn_v2 (from tensorflow.python.ops.map_fn) with dtype is deprecated and will be removed in a future version.\n",
            "Instructions for updating:\n",
            "Use fn_output_signature instead\n",
            "W0908 20:13:56.416400 140602646394624 deprecation.py:547] From /usr/local/lib/python3.7/dist-packages/tensorflow/python/util/deprecation.py:616: calling map_fn_v2 (from tensorflow.python.ops.map_fn) with dtype is deprecated and will be removed in a future version.\n",
            "Instructions for updating:\n",
            "Use fn_output_signature instead\n",
            "INFO:tensorflow:Step 100 per-step time 0.984s\n",
            "I0908 20:15:34.619151 140607911708544 model_lib_v2.py:707] Step 100 per-step time 0.984s\n",
            "INFO:tensorflow:{'Loss/classification_loss': 0.27731922,\n",
            " 'Loss/localization_loss': 0.12035749,\n",
            " 'Loss/regularization_loss': 0.15201478,\n",
            " 'Loss/total_loss': 0.5496915,\n",
            " 'learning_rate': 0.0319994}\n",
            "I0908 20:15:34.619752 140607911708544 model_lib_v2.py:708] {'Loss/classification_loss': 0.27731922,\n",
            " 'Loss/localization_loss': 0.12035749,\n",
            " 'Loss/regularization_loss': 0.15201478,\n",
            " 'Loss/total_loss': 0.5496915,\n",
            " 'learning_rate': 0.0319994}\n",
            "INFO:tensorflow:Step 200 per-step time 0.524s\n",
            "I0908 20:16:26.825756 140607911708544 model_lib_v2.py:707] Step 200 per-step time 0.524s\n",
            "INFO:tensorflow:{'Loss/classification_loss': 0.1290613,\n",
            " 'Loss/localization_loss': 0.10218564,\n",
            " 'Loss/regularization_loss': 0.1518809,\n",
            " 'Loss/total_loss': 0.38312784,\n",
            " 'learning_rate': 0.0373328}\n",
            "I0908 20:16:26.826251 140607911708544 model_lib_v2.py:708] {'Loss/classification_loss': 0.1290613,\n",
            " 'Loss/localization_loss': 0.10218564,\n",
            " 'Loss/regularization_loss': 0.1518809,\n",
            " 'Loss/total_loss': 0.38312784,\n",
            " 'learning_rate': 0.0373328}\n",
            "INFO:tensorflow:Step 300 per-step time 0.499s\n",
            "I0908 20:17:16.726266 140607911708544 model_lib_v2.py:707] Step 300 per-step time 0.499s\n",
            "INFO:tensorflow:{'Loss/classification_loss': 0.19717191,\n",
            " 'Loss/localization_loss': 0.107834764,\n",
            " 'Loss/regularization_loss': 0.15175016,\n",
            " 'Loss/total_loss': 0.45675683,\n",
            " 'learning_rate': 0.0426662}\n",
            "I0908 20:17:16.726697 140607911708544 model_lib_v2.py:708] {'Loss/classification_loss': 0.19717191,\n",
            " 'Loss/localization_loss': 0.107834764,\n",
            " 'Loss/regularization_loss': 0.15175016,\n",
            " 'Loss/total_loss': 0.45675683,\n",
            " 'learning_rate': 0.0426662}\n",
            "INFO:tensorflow:Step 400 per-step time 0.538s\n",
            "I0908 20:18:10.570236 140607911708544 model_lib_v2.py:707] Step 400 per-step time 0.538s\n",
            "INFO:tensorflow:{'Loss/classification_loss': 0.1211493,\n",
            " 'Loss/localization_loss': 0.07153401,\n",
            " 'Loss/regularization_loss': 0.15163894,\n",
            " 'Loss/total_loss': 0.34432226,\n",
            " 'learning_rate': 0.047999598}\n",
            "I0908 20:18:10.570669 140607911708544 model_lib_v2.py:708] {'Loss/classification_loss': 0.1211493,\n",
            " 'Loss/localization_loss': 0.07153401,\n",
            " 'Loss/regularization_loss': 0.15163894,\n",
            " 'Loss/total_loss': 0.34432226,\n",
            " 'learning_rate': 0.047999598}\n",
            "INFO:tensorflow:Step 500 per-step time 0.472s\n",
            "I0908 20:18:57.812325 140607911708544 model_lib_v2.py:707] Step 500 per-step time 0.472s\n",
            "INFO:tensorflow:{'Loss/classification_loss': 0.14272657,\n",
            " 'Loss/localization_loss': 0.07864665,\n",
            " 'Loss/regularization_loss': 0.15162963,\n",
            " 'Loss/total_loss': 0.37300286,\n",
            " 'learning_rate': 0.053333}\n",
            "I0908 20:18:57.812754 140607911708544 model_lib_v2.py:708] {'Loss/classification_loss': 0.14272657,\n",
            " 'Loss/localization_loss': 0.07864665,\n",
            " 'Loss/regularization_loss': 0.15162963,\n",
            " 'Loss/total_loss': 0.37300286,\n",
            " 'learning_rate': 0.053333}\n",
            "INFO:tensorflow:Step 600 per-step time 0.546s\n",
            "I0908 20:19:52.419306 140607911708544 model_lib_v2.py:707] Step 600 per-step time 0.546s\n",
            "INFO:tensorflow:{'Loss/classification_loss': 0.10319701,\n",
            " 'Loss/localization_loss': 0.039814312,\n",
            " 'Loss/regularization_loss': 0.15130334,\n",
            " 'Loss/total_loss': 0.29431465,\n",
            " 'learning_rate': 0.0586664}\n",
            "I0908 20:19:52.419723 140607911708544 model_lib_v2.py:708] {'Loss/classification_loss': 0.10319701,\n",
            " 'Loss/localization_loss': 0.039814312,\n",
            " 'Loss/regularization_loss': 0.15130334,\n",
            " 'Loss/total_loss': 0.29431465,\n",
            " 'learning_rate': 0.0586664}\n",
            "INFO:tensorflow:Step 700 per-step time 0.493s\n",
            "I0908 20:20:41.748278 140607911708544 model_lib_v2.py:707] Step 700 per-step time 0.493s\n",
            "INFO:tensorflow:{'Loss/classification_loss': 0.19186875,\n",
            " 'Loss/localization_loss': 0.08734327,\n",
            " 'Loss/regularization_loss': 0.1512493,\n",
            " 'Loss/total_loss': 0.43046135,\n",
            " 'learning_rate': 0.0639998}\n",
            "I0908 20:20:41.748830 140607911708544 model_lib_v2.py:708] {'Loss/classification_loss': 0.19186875,\n",
            " 'Loss/localization_loss': 0.08734327,\n",
            " 'Loss/regularization_loss': 0.1512493,\n",
            " 'Loss/total_loss': 0.43046135,\n",
            " 'learning_rate': 0.0639998}\n",
            "INFO:tensorflow:Step 800 per-step time 0.551s\n",
            "I0908 20:21:36.829211 140607911708544 model_lib_v2.py:707] Step 800 per-step time 0.551s\n",
            "INFO:tensorflow:{'Loss/classification_loss': 0.08397703,\n",
            " 'Loss/localization_loss': 0.038621053,\n",
            " 'Loss/regularization_loss': 0.15104939,\n",
            " 'Loss/total_loss': 0.2736475,\n",
            " 'learning_rate': 0.069333196}\n",
            "I0908 20:21:36.829652 140607911708544 model_lib_v2.py:708] {'Loss/classification_loss': 0.08397703,\n",
            " 'Loss/localization_loss': 0.038621053,\n",
            " 'Loss/regularization_loss': 0.15104939,\n",
            " 'Loss/total_loss': 0.2736475,\n",
            " 'learning_rate': 0.069333196}\n",
            "INFO:tensorflow:Step 900 per-step time 0.496s\n",
            "I0908 20:22:26.447730 140607911708544 model_lib_v2.py:707] Step 900 per-step time 0.496s\n",
            "INFO:tensorflow:{'Loss/classification_loss': 0.17049253,\n",
            " 'Loss/localization_loss': 0.116001315,\n",
            " 'Loss/regularization_loss': 0.15081659,\n",
            " 'Loss/total_loss': 0.43731043,\n",
            " 'learning_rate': 0.074666604}\n",
            "I0908 20:22:26.448198 140607911708544 model_lib_v2.py:708] {'Loss/classification_loss': 0.17049253,\n",
            " 'Loss/localization_loss': 0.116001315,\n",
            " 'Loss/regularization_loss': 0.15081659,\n",
            " 'Loss/total_loss': 0.43731043,\n",
            " 'learning_rate': 0.074666604}\n",
            "INFO:tensorflow:Step 1000 per-step time 0.487s\n",
            "I0908 20:23:15.187815 140607911708544 model_lib_v2.py:707] Step 1000 per-step time 0.487s\n",
            "INFO:tensorflow:{'Loss/classification_loss': 0.088281944,\n",
            " 'Loss/localization_loss': 0.041698426,\n",
            " 'Loss/regularization_loss': 0.15028025,\n",
            " 'Loss/total_loss': 0.28026062,\n",
            " 'learning_rate': 0.08}\n",
            "I0908 20:23:15.188380 140607911708544 model_lib_v2.py:708] {'Loss/classification_loss': 0.088281944,\n",
            " 'Loss/localization_loss': 0.041698426,\n",
            " 'Loss/regularization_loss': 0.15028025,\n",
            " 'Loss/total_loss': 0.28026062,\n",
            " 'learning_rate': 0.08}\n",
            "INFO:tensorflow:Step 1100 per-step time 0.562s\n",
            "I0908 20:24:11.332802 140607911708544 model_lib_v2.py:707] Step 1100 per-step time 0.562s\n",
            "INFO:tensorflow:{'Loss/classification_loss': 0.04303661,\n",
            " 'Loss/localization_loss': 0.048922673,\n",
            " 'Loss/regularization_loss': 0.14961663,\n",
            " 'Loss/total_loss': 0.24157591,\n",
            " 'learning_rate': 0.07999918}\n",
            "I0908 20:24:11.333314 140607911708544 model_lib_v2.py:708] {'Loss/classification_loss': 0.04303661,\n",
            " 'Loss/localization_loss': 0.048922673,\n",
            " 'Loss/regularization_loss': 0.14961663,\n",
            " 'Loss/total_loss': 0.24157591,\n",
            " 'learning_rate': 0.07999918}\n",
            "INFO:tensorflow:Step 1200 per-step time 0.496s\n",
            "I0908 20:25:00.963684 140607911708544 model_lib_v2.py:707] Step 1200 per-step time 0.496s\n",
            "INFO:tensorflow:{'Loss/classification_loss': 0.057602864,\n",
            " 'Loss/localization_loss': 0.027580056,\n",
            " 'Loss/regularization_loss': 0.14892384,\n",
            " 'Loss/total_loss': 0.23410676,\n",
            " 'learning_rate': 0.079996705}\n",
            "I0908 20:25:00.964085 140607911708544 model_lib_v2.py:708] {'Loss/classification_loss': 0.057602864,\n",
            " 'Loss/localization_loss': 0.027580056,\n",
            " 'Loss/regularization_loss': 0.14892384,\n",
            " 'Loss/total_loss': 0.23410676,\n",
            " 'learning_rate': 0.079996705}\n",
            "INFO:tensorflow:Step 1300 per-step time 0.486s\n",
            "I0908 20:25:49.524733 140607911708544 model_lib_v2.py:707] Step 1300 per-step time 0.486s\n",
            "INFO:tensorflow:{'Loss/classification_loss': 0.09028645,\n",
            " 'Loss/localization_loss': 0.023763958,\n",
            " 'Loss/regularization_loss': 0.14816558,\n",
            " 'Loss/total_loss': 0.26221597,\n",
            " 'learning_rate': 0.0799926}\n",
            "I0908 20:25:49.525175 140607911708544 model_lib_v2.py:708] {'Loss/classification_loss': 0.09028645,\n",
            " 'Loss/localization_loss': 0.023763958,\n",
            " 'Loss/regularization_loss': 0.14816558,\n",
            " 'Loss/total_loss': 0.26221597,\n",
            " 'learning_rate': 0.0799926}\n",
            "INFO:tensorflow:Step 1400 per-step time 0.546s\n",
            "I0908 20:26:44.095044 140607911708544 model_lib_v2.py:707] Step 1400 per-step time 0.546s\n",
            "INFO:tensorflow:{'Loss/classification_loss': 0.035218496,\n",
            " 'Loss/localization_loss': 0.027920553,\n",
            " 'Loss/regularization_loss': 0.14739847,\n",
            " 'Loss/total_loss': 0.21053752,\n",
            " 'learning_rate': 0.07998685}\n",
            "I0908 20:26:44.095436 140607911708544 model_lib_v2.py:708] {'Loss/classification_loss': 0.035218496,\n",
            " 'Loss/localization_loss': 0.027920553,\n",
            " 'Loss/regularization_loss': 0.14739847,\n",
            " 'Loss/total_loss': 0.21053752,\n",
            " 'learning_rate': 0.07998685}\n",
            "INFO:tensorflow:Step 1500 per-step time 0.509s\n",
            "I0908 20:27:35.074853 140607911708544 model_lib_v2.py:707] Step 1500 per-step time 0.509s\n",
            "INFO:tensorflow:{'Loss/classification_loss': 0.065697,\n",
            " 'Loss/localization_loss': 0.015915308,\n",
            " 'Loss/regularization_loss': 0.14662132,\n",
            " 'Loss/total_loss': 0.22823362,\n",
            " 'learning_rate': 0.07997945}\n",
            "I0908 20:27:35.075278 140607911708544 model_lib_v2.py:708] {'Loss/classification_loss': 0.065697,\n",
            " 'Loss/localization_loss': 0.015915308,\n",
            " 'Loss/regularization_loss': 0.14662132,\n",
            " 'Loss/total_loss': 0.22823362,\n",
            " 'learning_rate': 0.07997945}\n",
            "INFO:tensorflow:Step 1600 per-step time 0.531s\n",
            "I0908 20:28:28.136191 140607911708544 model_lib_v2.py:707] Step 1600 per-step time 0.531s\n",
            "INFO:tensorflow:{'Loss/classification_loss': 0.1010581,\n",
            " 'Loss/localization_loss': 0.029882643,\n",
            " 'Loss/regularization_loss': 0.14587244,\n",
            " 'Loss/total_loss': 0.2768132,\n",
            " 'learning_rate': 0.079970405}\n",
            "I0908 20:28:28.136640 140607911708544 model_lib_v2.py:708] {'Loss/classification_loss': 0.1010581,\n",
            " 'Loss/localization_loss': 0.029882643,\n",
            " 'Loss/regularization_loss': 0.14587244,\n",
            " 'Loss/total_loss': 0.2768132,\n",
            " 'learning_rate': 0.079970405}\n",
            "INFO:tensorflow:Step 1700 per-step time 0.511s\n",
            "I0908 20:29:19.260183 140607911708544 model_lib_v2.py:707] Step 1700 per-step time 0.511s\n",
            "INFO:tensorflow:{'Loss/classification_loss': 0.04479824,\n",
            " 'Loss/localization_loss': 0.019353569,\n",
            " 'Loss/regularization_loss': 0.1452203,\n",
            " 'Loss/total_loss': 0.2093721,\n",
            " 'learning_rate': 0.07995972}\n",
            "I0908 20:29:19.260583 140607911708544 model_lib_v2.py:708] {'Loss/classification_loss': 0.04479824,\n",
            " 'Loss/localization_loss': 0.019353569,\n",
            " 'Loss/regularization_loss': 0.1452203,\n",
            " 'Loss/total_loss': 0.2093721,\n",
            " 'learning_rate': 0.07995972}\n",
            "INFO:tensorflow:Step 1800 per-step time 0.491s\n",
            "I0908 20:30:08.382359 140607911708544 model_lib_v2.py:707] Step 1800 per-step time 0.491s\n",
            "INFO:tensorflow:{'Loss/classification_loss': 0.11639369,\n",
            " 'Loss/localization_loss': 0.058101732,\n",
            " 'Loss/regularization_loss': 0.14593406,\n",
            " 'Loss/total_loss': 0.3204295,\n",
            " 'learning_rate': 0.0799474}\n",
            "I0908 20:30:08.382868 140607911708544 model_lib_v2.py:708] {'Loss/classification_loss': 0.11639369,\n",
            " 'Loss/localization_loss': 0.058101732,\n",
            " 'Loss/regularization_loss': 0.14593406,\n",
            " 'Loss/total_loss': 0.3204295,\n",
            " 'learning_rate': 0.0799474}\n",
            "INFO:tensorflow:Step 1900 per-step time 0.565s\n",
            "I0908 20:31:04.835686 140607911708544 model_lib_v2.py:707] Step 1900 per-step time 0.565s\n",
            "INFO:tensorflow:{'Loss/classification_loss': 0.03944397,\n",
            " 'Loss/localization_loss': 0.024478078,\n",
            " 'Loss/regularization_loss': 0.1466282,\n",
            " 'Loss/total_loss': 0.21055025,\n",
            " 'learning_rate': 0.07993342}\n",
            "I0908 20:31:04.836153 140607911708544 model_lib_v2.py:708] {'Loss/classification_loss': 0.03944397,\n",
            " 'Loss/localization_loss': 0.024478078,\n",
            " 'Loss/regularization_loss': 0.1466282,\n",
            " 'Loss/total_loss': 0.21055025,\n",
            " 'learning_rate': 0.07993342}\n",
            "INFO:tensorflow:Step 2000 per-step time 0.537s\n",
            "I0908 20:31:58.519612 140607911708544 model_lib_v2.py:707] Step 2000 per-step time 0.537s\n",
            "INFO:tensorflow:{'Loss/classification_loss': 0.059813574,\n",
            " 'Loss/localization_loss': 0.022349197,\n",
            " 'Loss/regularization_loss': 0.14586887,\n",
            " 'Loss/total_loss': 0.22803164,\n",
            " 'learning_rate': 0.07991781}\n",
            "I0908 20:31:58.520077 140607911708544 model_lib_v2.py:708] {'Loss/classification_loss': 0.059813574,\n",
            " 'Loss/localization_loss': 0.022349197,\n",
            " 'Loss/regularization_loss': 0.14586887,\n",
            " 'Loss/total_loss': 0.22803164,\n",
            " 'learning_rate': 0.07991781}\n",
            "INFO:tensorflow:Step 2100 per-step time 0.498s\n",
            "I0908 20:32:48.363006 140607911708544 model_lib_v2.py:707] Step 2100 per-step time 0.498s\n",
            "INFO:tensorflow:{'Loss/classification_loss': 0.08323035,\n",
            " 'Loss/localization_loss': 0.025684824,\n",
            " 'Loss/regularization_loss': 0.14509335,\n",
            " 'Loss/total_loss': 0.25400853,\n",
            " 'learning_rate': 0.07990056}\n",
            "I0908 20:32:48.363483 140607911708544 model_lib_v2.py:708] {'Loss/classification_loss': 0.08323035,\n",
            " 'Loss/localization_loss': 0.025684824,\n",
            " 'Loss/regularization_loss': 0.14509335,\n",
            " 'Loss/total_loss': 0.25400853,\n",
            " 'learning_rate': 0.07990056}\n",
            "INFO:tensorflow:Step 2200 per-step time 0.552s\n",
            "I0908 20:33:43.569208 140607911708544 model_lib_v2.py:707] Step 2200 per-step time 0.552s\n",
            "INFO:tensorflow:{'Loss/classification_loss': 0.07621525,\n",
            " 'Loss/localization_loss': 0.017287418,\n",
            " 'Loss/regularization_loss': 0.1443516,\n",
            " 'Loss/total_loss': 0.23785427,\n",
            " 'learning_rate': 0.07988167}\n",
            "I0908 20:33:43.569687 140607911708544 model_lib_v2.py:708] {'Loss/classification_loss': 0.07621525,\n",
            " 'Loss/localization_loss': 0.017287418,\n",
            " 'Loss/regularization_loss': 0.1443516,\n",
            " 'Loss/total_loss': 0.23785427,\n",
            " 'learning_rate': 0.07988167}\n",
            "INFO:tensorflow:Step 2300 per-step time 0.526s\n",
            "I0908 20:34:36.166666 140607911708544 model_lib_v2.py:707] Step 2300 per-step time 0.526s\n",
            "INFO:tensorflow:{'Loss/classification_loss': 0.03220129,\n",
            " 'Loss/localization_loss': 0.02387564,\n",
            " 'Loss/regularization_loss': 0.14357382,\n",
            " 'Loss/total_loss': 0.19965075,\n",
            " 'learning_rate': 0.07986114}\n",
            "I0908 20:34:36.167057 140607911708544 model_lib_v2.py:708] {'Loss/classification_loss': 0.03220129,\n",
            " 'Loss/localization_loss': 0.02387564,\n",
            " 'Loss/regularization_loss': 0.14357382,\n",
            " 'Loss/total_loss': 0.19965075,\n",
            " 'learning_rate': 0.07986114}\n",
            "INFO:tensorflow:Step 2400 per-step time 0.473s\n",
            "I0908 20:35:23.444512 140607911708544 model_lib_v2.py:707] Step 2400 per-step time 0.473s\n",
            "INFO:tensorflow:{'Loss/classification_loss': 0.10929525,\n",
            " 'Loss/localization_loss': 0.019608686,\n",
            " 'Loss/regularization_loss': 0.14292547,\n",
            " 'Loss/total_loss': 0.27182943,\n",
            " 'learning_rate': 0.07983897}\n",
            "I0908 20:35:23.444905 140607911708544 model_lib_v2.py:708] {'Loss/classification_loss': 0.10929525,\n",
            " 'Loss/localization_loss': 0.019608686,\n",
            " 'Loss/regularization_loss': 0.14292547,\n",
            " 'Loss/total_loss': 0.27182943,\n",
            " 'learning_rate': 0.07983897}\n",
            "INFO:tensorflow:Step 2500 per-step time 0.490s\n",
            "I0908 20:36:12.445779 140607911708544 model_lib_v2.py:707] Step 2500 per-step time 0.490s\n",
            "INFO:tensorflow:{'Loss/classification_loss': 0.038932234,\n",
            " 'Loss/localization_loss': 0.0066695902,\n",
            " 'Loss/regularization_loss': 0.14219415,\n",
            " 'Loss/total_loss': 0.18779597,\n",
            " 'learning_rate': 0.079815164}\n",
            "I0908 20:36:12.446171 140607911708544 model_lib_v2.py:708] {'Loss/classification_loss': 0.038932234,\n",
            " 'Loss/localization_loss': 0.0066695902,\n",
            " 'Loss/regularization_loss': 0.14219415,\n",
            " 'Loss/total_loss': 0.18779597,\n",
            " 'learning_rate': 0.079815164}\n",
            "INFO:tensorflow:Step 2600 per-step time 0.535s\n",
            "I0908 20:37:05.955779 140607911708544 model_lib_v2.py:707] Step 2600 per-step time 0.535s\n",
            "INFO:tensorflow:{'Loss/classification_loss': 0.03356435,\n",
            " 'Loss/localization_loss': 0.009778365,\n",
            " 'Loss/regularization_loss': 0.14140138,\n",
            " 'Loss/total_loss': 0.18474409,\n",
            " 'learning_rate': 0.07978972}\n",
            "I0908 20:37:05.956163 140607911708544 model_lib_v2.py:708] {'Loss/classification_loss': 0.03356435,\n",
            " 'Loss/localization_loss': 0.009778365,\n",
            " 'Loss/regularization_loss': 0.14140138,\n",
            " 'Loss/total_loss': 0.18474409,\n",
            " 'learning_rate': 0.07978972}\n",
            "INFO:tensorflow:Step 2700 per-step time 0.493s\n",
            "I0908 20:37:55.275539 140607911708544 model_lib_v2.py:707] Step 2700 per-step time 0.493s\n",
            "INFO:tensorflow:{'Loss/classification_loss': 0.14248006,\n",
            " 'Loss/localization_loss': 0.08164671,\n",
            " 'Loss/regularization_loss': 0.14069322,\n",
            " 'Loss/total_loss': 0.36482,\n",
            " 'learning_rate': 0.07976264}\n",
            "I0908 20:37:55.280436 140607911708544 model_lib_v2.py:708] {'Loss/classification_loss': 0.14248006,\n",
            " 'Loss/localization_loss': 0.08164671,\n",
            " 'Loss/regularization_loss': 0.14069322,\n",
            " 'Loss/total_loss': 0.36482,\n",
            " 'learning_rate': 0.07976264}\n",
            "INFO:tensorflow:Step 2800 per-step time 0.477s\n",
            "I0908 20:38:42.972132 140607911708544 model_lib_v2.py:707] Step 2800 per-step time 0.477s\n",
            "INFO:tensorflow:{'Loss/classification_loss': 0.08800837,\n",
            " 'Loss/localization_loss': 0.095750354,\n",
            " 'Loss/regularization_loss': 0.14302103,\n",
            " 'Loss/total_loss': 0.32677975,\n",
            " 'learning_rate': 0.07973392}\n",
            "I0908 20:38:42.972578 140607911708544 model_lib_v2.py:708] {'Loss/classification_loss': 0.08800837,\n",
            " 'Loss/localization_loss': 0.095750354,\n",
            " 'Loss/regularization_loss': 0.14302103,\n",
            " 'Loss/total_loss': 0.32677975,\n",
            " 'learning_rate': 0.07973392}\n",
            "INFO:tensorflow:Step 2900 per-step time 0.524s\n",
            "I0908 20:39:35.414239 140607911708544 model_lib_v2.py:707] Step 2900 per-step time 0.524s\n",
            "INFO:tensorflow:{'Loss/classification_loss': 0.045799218,\n",
            " 'Loss/localization_loss': 0.019996872,\n",
            " 'Loss/regularization_loss': 0.14340478,\n",
            " 'Loss/total_loss': 0.20920087,\n",
            " 'learning_rate': 0.07970358}\n",
            "I0908 20:39:35.414621 140607911708544 model_lib_v2.py:708] {'Loss/classification_loss': 0.045799218,\n",
            " 'Loss/localization_loss': 0.019996872,\n",
            " 'Loss/regularization_loss': 0.14340478,\n",
            " 'Loss/total_loss': 0.20920087,\n",
            " 'learning_rate': 0.07970358}\n",
            "INFO:tensorflow:Step 3000 per-step time 0.495s\n",
            "I0908 20:40:24.894883 140607911708544 model_lib_v2.py:707] Step 3000 per-step time 0.495s\n",
            "INFO:tensorflow:{'Loss/classification_loss': 0.069343366,\n",
            " 'Loss/localization_loss': 0.027155932,\n",
            " 'Loss/regularization_loss': 0.14391817,\n",
            " 'Loss/total_loss': 0.24041747,\n",
            " 'learning_rate': 0.0796716}\n",
            "I0908 20:40:24.895263 140607911708544 model_lib_v2.py:708] {'Loss/classification_loss': 0.069343366,\n",
            " 'Loss/localization_loss': 0.027155932,\n",
            " 'Loss/regularization_loss': 0.14391817,\n",
            " 'Loss/total_loss': 0.24041747,\n",
            " 'learning_rate': 0.0796716}\n",
            "INFO:tensorflow:Step 3100 per-step time 0.500s\n",
            "I0908 20:41:14.893578 140607911708544 model_lib_v2.py:707] Step 3100 per-step time 0.500s\n",
            "INFO:tensorflow:{'Loss/classification_loss': 0.051531922,\n",
            " 'Loss/localization_loss': 0.015898053,\n",
            " 'Loss/regularization_loss': 0.14341585,\n",
            " 'Loss/total_loss': 0.21084583,\n",
            " 'learning_rate': 0.07963799}\n",
            "I0908 20:41:14.893983 140607911708544 model_lib_v2.py:708] {'Loss/classification_loss': 0.051531922,\n",
            " 'Loss/localization_loss': 0.015898053,\n",
            " 'Loss/regularization_loss': 0.14341585,\n",
            " 'Loss/total_loss': 0.21084583,\n",
            " 'learning_rate': 0.07963799}\n",
            "INFO:tensorflow:Step 3200 per-step time 0.484s\n",
            "I0908 20:42:03.340174 140607911708544 model_lib_v2.py:707] Step 3200 per-step time 0.484s\n",
            "INFO:tensorflow:{'Loss/classification_loss': 0.06480288,\n",
            " 'Loss/localization_loss': 0.022092251,\n",
            " 'Loss/regularization_loss': 0.14260954,\n",
            " 'Loss/total_loss': 0.22950467,\n",
            " 'learning_rate': 0.07960275}\n",
            "I0908 20:42:03.340558 140607911708544 model_lib_v2.py:708] {'Loss/classification_loss': 0.06480288,\n",
            " 'Loss/localization_loss': 0.022092251,\n",
            " 'Loss/regularization_loss': 0.14260954,\n",
            " 'Loss/total_loss': 0.22950467,\n",
            " 'learning_rate': 0.07960275}\n",
            "INFO:tensorflow:Step 3300 per-step time 0.508s\n",
            "I0908 20:42:54.110385 140607911708544 model_lib_v2.py:707] Step 3300 per-step time 0.508s\n",
            "INFO:tensorflow:{'Loss/classification_loss': 0.039696608,\n",
            " 'Loss/localization_loss': 0.011583205,\n",
            " 'Loss/regularization_loss': 0.14182489,\n",
            " 'Loss/total_loss': 0.1931047,\n",
            " 'learning_rate': 0.07956588}\n",
            "I0908 20:42:54.110785 140607911708544 model_lib_v2.py:708] {'Loss/classification_loss': 0.039696608,\n",
            " 'Loss/localization_loss': 0.011583205,\n",
            " 'Loss/regularization_loss': 0.14182489,\n",
            " 'Loss/total_loss': 0.1931047,\n",
            " 'learning_rate': 0.07956588}\n",
            "INFO:tensorflow:Step 3400 per-step time 0.471s\n",
            "I0908 20:43:41.188202 140607911708544 model_lib_v2.py:707] Step 3400 per-step time 0.471s\n",
            "INFO:tensorflow:{'Loss/classification_loss': 0.034395184,\n",
            " 'Loss/localization_loss': 0.016884273,\n",
            " 'Loss/regularization_loss': 0.1410369,\n",
            " 'Loss/total_loss': 0.19231635,\n",
            " 'learning_rate': 0.079527386}\n",
            "I0908 20:43:41.188590 140607911708544 model_lib_v2.py:708] {'Loss/classification_loss': 0.034395184,\n",
            " 'Loss/localization_loss': 0.016884273,\n",
            " 'Loss/regularization_loss': 0.1410369,\n",
            " 'Loss/total_loss': 0.19231635,\n",
            " 'learning_rate': 0.079527386}\n",
            "INFO:tensorflow:Step 3500 per-step time 0.518s\n",
            "I0908 20:44:32.956081 140607911708544 model_lib_v2.py:707] Step 3500 per-step time 0.518s\n",
            "INFO:tensorflow:{'Loss/classification_loss': 0.041311618,\n",
            " 'Loss/localization_loss': 0.018445715,\n",
            " 'Loss/regularization_loss': 0.14025016,\n",
            " 'Loss/total_loss': 0.2000075,\n",
            " 'learning_rate': 0.07948727}\n",
            "I0908 20:44:32.956629 140607911708544 model_lib_v2.py:708] {'Loss/classification_loss': 0.041311618,\n",
            " 'Loss/localization_loss': 0.018445715,\n",
            " 'Loss/regularization_loss': 0.14025016,\n",
            " 'Loss/total_loss': 0.2000075,\n",
            " 'learning_rate': 0.07948727}\n",
            "INFO:tensorflow:Step 3600 per-step time 0.468s\n",
            "I0908 20:45:19.775775 140607911708544 model_lib_v2.py:707] Step 3600 per-step time 0.468s\n",
            "INFO:tensorflow:{'Loss/classification_loss': 0.05250346,\n",
            " 'Loss/localization_loss': 0.018817179,\n",
            " 'Loss/regularization_loss': 0.13946874,\n",
            " 'Loss/total_loss': 0.21078938,\n",
            " 'learning_rate': 0.079445526}\n",
            "I0908 20:45:19.776169 140607911708544 model_lib_v2.py:708] {'Loss/classification_loss': 0.05250346,\n",
            " 'Loss/localization_loss': 0.018817179,\n",
            " 'Loss/regularization_loss': 0.13946874,\n",
            " 'Loss/total_loss': 0.21078938,\n",
            " 'learning_rate': 0.079445526}\n",
            "INFO:tensorflow:Step 3700 per-step time 0.537s\n",
            "I0908 20:46:13.479186 140607911708544 model_lib_v2.py:707] Step 3700 per-step time 0.537s\n",
            "INFO:tensorflow:{'Loss/classification_loss': 0.040768135,\n",
            " 'Loss/localization_loss': 0.017641203,\n",
            " 'Loss/regularization_loss': 0.1386791,\n",
            " 'Loss/total_loss': 0.19708845,\n",
            " 'learning_rate': 0.07940216}\n",
            "I0908 20:46:13.479651 140607911708544 model_lib_v2.py:708] {'Loss/classification_loss': 0.040768135,\n",
            " 'Loss/localization_loss': 0.017641203,\n",
            " 'Loss/regularization_loss': 0.1386791,\n",
            " 'Loss/total_loss': 0.19708845,\n",
            " 'learning_rate': 0.07940216}\n",
            "INFO:tensorflow:Step 3800 per-step time 0.475s\n",
            "I0908 20:47:01.003439 140607911708544 model_lib_v2.py:707] Step 3800 per-step time 0.475s\n",
            "INFO:tensorflow:{'Loss/classification_loss': 0.028823119,\n",
            " 'Loss/localization_loss': 0.0070764646,\n",
            " 'Loss/regularization_loss': 0.13787326,\n",
            " 'Loss/total_loss': 0.17377284,\n",
            " 'learning_rate': 0.079357184}\n",
            "I0908 20:47:01.003832 140607911708544 model_lib_v2.py:708] {'Loss/classification_loss': 0.028823119,\n",
            " 'Loss/localization_loss': 0.0070764646,\n",
            " 'Loss/regularization_loss': 0.13787326,\n",
            " 'Loss/total_loss': 0.17377284,\n",
            " 'learning_rate': 0.079357184}\n",
            "INFO:tensorflow:Step 3900 per-step time 0.473s\n",
            "I0908 20:47:48.274011 140607911708544 model_lib_v2.py:707] Step 3900 per-step time 0.473s\n",
            "INFO:tensorflow:{'Loss/classification_loss': 0.06391666,\n",
            " 'Loss/localization_loss': 0.015611651,\n",
            " 'Loss/regularization_loss': 0.13711333,\n",
            " 'Loss/total_loss': 0.21664163,\n",
            " 'learning_rate': 0.07931058}\n",
            "I0908 20:47:48.274388 140607911708544 model_lib_v2.py:708] {'Loss/classification_loss': 0.06391666,\n",
            " 'Loss/localization_loss': 0.015611651,\n",
            " 'Loss/regularization_loss': 0.13711333,\n",
            " 'Loss/total_loss': 0.21664163,\n",
            " 'learning_rate': 0.07931058}\n",
            "INFO:tensorflow:Step 4000 per-step time 0.486s\n",
            "I0908 20:48:36.859407 140607911708544 model_lib_v2.py:707] Step 4000 per-step time 0.486s\n",
            "INFO:tensorflow:{'Loss/classification_loss': 0.020855436,\n",
            " 'Loss/localization_loss': 0.0071516004,\n",
            " 'Loss/regularization_loss': 0.13636653,\n",
            " 'Loss/total_loss': 0.16437356,\n",
            " 'learning_rate': 0.07926236}\n",
            "I0908 20:48:36.859818 140607911708544 model_lib_v2.py:708] {'Loss/classification_loss': 0.020855436,\n",
            " 'Loss/localization_loss': 0.0071516004,\n",
            " 'Loss/regularization_loss': 0.13636653,\n",
            " 'Loss/total_loss': 0.16437356,\n",
            " 'learning_rate': 0.07926236}\n",
            "INFO:tensorflow:Step 4100 per-step time 0.469s\n",
            "I0908 20:49:23.739225 140607911708544 model_lib_v2.py:707] Step 4100 per-step time 0.469s\n",
            "INFO:tensorflow:{'Loss/classification_loss': 0.025698496,\n",
            " 'Loss/localization_loss': 0.015471002,\n",
            " 'Loss/regularization_loss': 0.13562271,\n",
            " 'Loss/total_loss': 0.1767922,\n",
            " 'learning_rate': 0.07921253}\n",
            "I0908 20:49:23.739685 140607911708544 model_lib_v2.py:708] {'Loss/classification_loss': 0.025698496,\n",
            " 'Loss/localization_loss': 0.015471002,\n",
            " 'Loss/regularization_loss': 0.13562271,\n",
            " 'Loss/total_loss': 0.1767922,\n",
            " 'learning_rate': 0.07921253}\n",
            "INFO:tensorflow:Step 4200 per-step time 0.503s\n",
            "I0908 20:50:14.028700 140607911708544 model_lib_v2.py:707] Step 4200 per-step time 0.503s\n",
            "INFO:tensorflow:{'Loss/classification_loss': 0.07624244,\n",
            " 'Loss/localization_loss': 0.022090048,\n",
            " 'Loss/regularization_loss': 0.13485254,\n",
            " 'Loss/total_loss': 0.23318502,\n",
            " 'learning_rate': 0.07916109}\n",
            "I0908 20:50:14.029092 140607911708544 model_lib_v2.py:708] {'Loss/classification_loss': 0.07624244,\n",
            " 'Loss/localization_loss': 0.022090048,\n",
            " 'Loss/regularization_loss': 0.13485254,\n",
            " 'Loss/total_loss': 0.23318502,\n",
            " 'learning_rate': 0.07916109}\n",
            "INFO:tensorflow:Step 4300 per-step time 0.486s\n",
            "I0908 20:51:02.670036 140607911708544 model_lib_v2.py:707] Step 4300 per-step time 0.486s\n",
            "INFO:tensorflow:{'Loss/classification_loss': 0.03479543,\n",
            " 'Loss/localization_loss': 0.015664885,\n",
            " 'Loss/regularization_loss': 0.13412175,\n",
            " 'Loss/total_loss': 0.18458205,\n",
            " 'learning_rate': 0.07910804}\n",
            "I0908 20:51:02.670390 140607911708544 model_lib_v2.py:708] {'Loss/classification_loss': 0.03479543,\n",
            " 'Loss/localization_loss': 0.015664885,\n",
            " 'Loss/regularization_loss': 0.13412175,\n",
            " 'Loss/total_loss': 0.18458205,\n",
            " 'learning_rate': 0.07910804}\n",
            "INFO:tensorflow:Step 4400 per-step time 0.481s\n",
            "I0908 20:51:50.789454 140607911708544 model_lib_v2.py:707] Step 4400 per-step time 0.481s\n",
            "INFO:tensorflow:{'Loss/classification_loss': 0.028681338,\n",
            " 'Loss/localization_loss': 0.008751964,\n",
            " 'Loss/regularization_loss': 0.13390175,\n",
            " 'Loss/total_loss': 0.17133504,\n",
            " 'learning_rate': 0.07905338}\n",
            "I0908 20:51:50.789995 140607911708544 model_lib_v2.py:708] {'Loss/classification_loss': 0.028681338,\n",
            " 'Loss/localization_loss': 0.008751964,\n",
            " 'Loss/regularization_loss': 0.13390175,\n",
            " 'Loss/total_loss': 0.17133504,\n",
            " 'learning_rate': 0.07905338}\n",
            "INFO:tensorflow:Step 4500 per-step time 0.478s\n",
            "I0908 20:52:38.642030 140607911708544 model_lib_v2.py:707] Step 4500 per-step time 0.478s\n",
            "INFO:tensorflow:{'Loss/classification_loss': 0.035292532,\n",
            " 'Loss/localization_loss': 0.0143134985,\n",
            " 'Loss/regularization_loss': 0.1332616,\n",
            " 'Loss/total_loss': 0.18286765,\n",
            " 'learning_rate': 0.07899711}\n",
            "I0908 20:52:38.642561 140607911708544 model_lib_v2.py:708] {'Loss/classification_loss': 0.035292532,\n",
            " 'Loss/localization_loss': 0.0143134985,\n",
            " 'Loss/regularization_loss': 0.1332616,\n",
            " 'Loss/total_loss': 0.18286765,\n",
            " 'learning_rate': 0.07899711}\n",
            "INFO:tensorflow:Step 4600 per-step time 0.465s\n",
            "I0908 20:53:25.099073 140607911708544 model_lib_v2.py:707] Step 4600 per-step time 0.465s\n",
            "INFO:tensorflow:{'Loss/classification_loss': 0.022074059,\n",
            " 'Loss/localization_loss': 0.008067987,\n",
            " 'Loss/regularization_loss': 0.13249716,\n",
            " 'Loss/total_loss': 0.1626392,\n",
            " 'learning_rate': 0.078939244}\n",
            "I0908 20:53:25.099644 140607911708544 model_lib_v2.py:708] {'Loss/classification_loss': 0.022074059,\n",
            " 'Loss/localization_loss': 0.008067987,\n",
            " 'Loss/regularization_loss': 0.13249716,\n",
            " 'Loss/total_loss': 0.1626392,\n",
            " 'learning_rate': 0.078939244}\n",
            "INFO:tensorflow:Step 4700 per-step time 0.507s\n",
            "I0908 20:54:15.795435 140607911708544 model_lib_v2.py:707] Step 4700 per-step time 0.507s\n",
            "INFO:tensorflow:{'Loss/classification_loss': 0.0327507,\n",
            " 'Loss/localization_loss': 0.0050978577,\n",
            " 'Loss/regularization_loss': 0.13174136,\n",
            " 'Loss/total_loss': 0.16958992,\n",
            " 'learning_rate': 0.07887978}\n",
            "I0908 20:54:15.795855 140607911708544 model_lib_v2.py:708] {'Loss/classification_loss': 0.0327507,\n",
            " 'Loss/localization_loss': 0.0050978577,\n",
            " 'Loss/regularization_loss': 0.13174136,\n",
            " 'Loss/total_loss': 0.16958992,\n",
            " 'learning_rate': 0.07887978}\n",
            "INFO:tensorflow:Step 4800 per-step time 0.493s\n",
            "I0908 20:55:05.068654 140607911708544 model_lib_v2.py:707] Step 4800 per-step time 0.493s\n",
            "INFO:tensorflow:{'Loss/classification_loss': 0.045490973,\n",
            " 'Loss/localization_loss': 0.017095068,\n",
            " 'Loss/regularization_loss': 0.13099469,\n",
            " 'Loss/total_loss': 0.19358073,\n",
            " 'learning_rate': 0.07881871}\n",
            "I0908 20:55:05.069041 140607911708544 model_lib_v2.py:708] {'Loss/classification_loss': 0.045490973,\n",
            " 'Loss/localization_loss': 0.017095068,\n",
            " 'Loss/regularization_loss': 0.13099469,\n",
            " 'Loss/total_loss': 0.19358073,\n",
            " 'learning_rate': 0.07881871}\n",
            "INFO:tensorflow:Step 4900 per-step time 0.491s\n",
            "I0908 20:55:54.117276 140607911708544 model_lib_v2.py:707] Step 4900 per-step time 0.491s\n",
            "INFO:tensorflow:{'Loss/classification_loss': 0.052167676,\n",
            " 'Loss/localization_loss': 0.010045965,\n",
            " 'Loss/regularization_loss': 0.13027608,\n",
            " 'Loss/total_loss': 0.19248973,\n",
            " 'learning_rate': 0.07875605}\n",
            "I0908 20:55:54.117740 140607911708544 model_lib_v2.py:708] {'Loss/classification_loss': 0.052167676,\n",
            " 'Loss/localization_loss': 0.010045965,\n",
            " 'Loss/regularization_loss': 0.13027608,\n",
            " 'Loss/total_loss': 0.19248973,\n",
            " 'learning_rate': 0.07875605}\n",
            "INFO:tensorflow:Step 5000 per-step time 0.515s\n",
            "I0908 20:56:45.642220 140607911708544 model_lib_v2.py:707] Step 5000 per-step time 0.515s\n",
            "INFO:tensorflow:{'Loss/classification_loss': 0.030937253,\n",
            " 'Loss/localization_loss': 0.0059846975,\n",
            " 'Loss/regularization_loss': 0.12956256,\n",
            " 'Loss/total_loss': 0.1664845,\n",
            " 'learning_rate': 0.078691795}\n",
            "I0908 20:56:45.642593 140607911708544 model_lib_v2.py:708] {'Loss/classification_loss': 0.030937253,\n",
            " 'Loss/localization_loss': 0.0059846975,\n",
            " 'Loss/regularization_loss': 0.12956256,\n",
            " 'Loss/total_loss': 0.1664845,\n",
            " 'learning_rate': 0.078691795}\n"
          ]
        }
      ],
      "source": [
        "!{command}"
      ]
    },
    {
      "cell_type": "code",
      "execution_count": 8,
      "metadata": {
        "colab": {
          "base_uri": "https://localhost:8080/"
        },
        "id": "RwGNunX7AENl",
        "outputId": "17e97739-7758-403d-aa52-b44f00fb6b22"
      },
      "outputs": [
        {
          "output_type": "stream",
          "name": "stdout",
          "text": [
            "Looking in indexes: https://pypi.org/simple, https://us-python.pkg.dev/colab-wheels/public/simple/\n",
            "Collecting tensorflow==2.8\n",
            "  Downloading https://us-python.pkg.dev/colab-wheels/public/tensorflow/tensorflow-2.8.0%2Bzzzcolab20220506162203-cp37-cp37m-linux_x86_64.whl (668.3 MB)\n",
            "\u001b[K     |████████████████████████████████| 668.3 MB 14 kB/s \n",
            "\u001b[?25hRequirement already satisfied: setuptools in /usr/local/lib/python3.7/dist-packages (from tensorflow==2.8) (57.4.0)\n",
            "Requirement already satisfied: h5py>=2.9.0 in /usr/local/lib/python3.7/dist-packages (from tensorflow==2.8) (3.1.0)\n",
            "Requirement already satisfied: flatbuffers>=1.12 in /usr/local/lib/python3.7/dist-packages (from tensorflow==2.8) (1.12)\n",
            "Requirement already satisfied: protobuf>=3.9.2 in /usr/local/lib/python3.7/dist-packages (from tensorflow==2.8) (3.19.4)\n",
            "Requirement already satisfied: keras-preprocessing>=1.1.1 in /usr/local/lib/python3.7/dist-packages (from tensorflow==2.8) (1.1.2)\n",
            "Requirement already satisfied: google-pasta>=0.1.1 in /usr/local/lib/python3.7/dist-packages (from tensorflow==2.8) (0.2.0)\n",
            "Requirement already satisfied: astunparse>=1.6.0 in /usr/local/lib/python3.7/dist-packages (from tensorflow==2.8) (1.6.3)\n",
            "Requirement already satisfied: six>=1.12.0 in /usr/local/lib/python3.7/dist-packages (from tensorflow==2.8) (1.15.0)\n",
            "Requirement already satisfied: wrapt>=1.11.0 in /usr/local/lib/python3.7/dist-packages (from tensorflow==2.8) (1.14.1)\n",
            "Requirement already satisfied: gast>=0.2.1 in /usr/local/lib/python3.7/dist-packages (from tensorflow==2.8) (0.4.0)\n",
            "Requirement already satisfied: typing-extensions>=3.6.6 in /usr/local/lib/python3.7/dist-packages (from tensorflow==2.8) (4.1.1)\n",
            "Requirement already satisfied: numpy>=1.20 in /usr/local/lib/python3.7/dist-packages (from tensorflow==2.8) (1.21.6)\n",
            "Collecting tensorboard<2.9,>=2.8\n",
            "  Using cached tensorboard-2.8.0-py3-none-any.whl (5.8 MB)\n",
            "Collecting keras<2.9,>=2.8.0rc0\n",
            "  Using cached keras-2.8.0-py2.py3-none-any.whl (1.4 MB)\n",
            "Requirement already satisfied: libclang>=9.0.1 in /usr/local/lib/python3.7/dist-packages (from tensorflow==2.8) (14.0.6)\n",
            "Requirement already satisfied: tensorflow-io-gcs-filesystem>=0.23.1 in /usr/local/lib/python3.7/dist-packages (from tensorflow==2.8) (0.26.0)\n",
            "Requirement already satisfied: grpcio<2.0,>=1.24.3 in /usr/local/lib/python3.7/dist-packages (from tensorflow==2.8) (1.47.0)\n",
            "Requirement already satisfied: absl-py>=0.4.0 in /usr/local/lib/python3.7/dist-packages (from tensorflow==2.8) (1.2.0)\n",
            "Requirement already satisfied: opt-einsum>=2.3.2 in /usr/local/lib/python3.7/dist-packages (from tensorflow==2.8) (3.3.0)\n",
            "Requirement already satisfied: termcolor>=1.1.0 in /usr/local/lib/python3.7/dist-packages (from tensorflow==2.8) (1.1.0)\n",
            "Requirement already satisfied: tf-estimator-nightly==2.8.0.dev2021122109 in /usr/local/lib/python3.7/dist-packages (from tensorflow==2.8) (2.8.0.dev2021122109)\n",
            "Requirement already satisfied: wheel<1.0,>=0.23.0 in /usr/local/lib/python3.7/dist-packages (from astunparse>=1.6.0->tensorflow==2.8) (0.37.1)\n",
            "Requirement already satisfied: cached-property in /usr/local/lib/python3.7/dist-packages (from h5py>=2.9.0->tensorflow==2.8) (1.5.2)\n",
            "Requirement already satisfied: google-auth-oauthlib<0.5,>=0.4.1 in /usr/local/lib/python3.7/dist-packages (from tensorboard<2.9,>=2.8->tensorflow==2.8) (0.4.6)\n",
            "Requirement already satisfied: tensorboard-data-server<0.7.0,>=0.6.0 in /usr/local/lib/python3.7/dist-packages (from tensorboard<2.9,>=2.8->tensorflow==2.8) (0.6.1)\n",
            "Requirement already satisfied: tensorboard-plugin-wit>=1.6.0 in /usr/local/lib/python3.7/dist-packages (from tensorboard<2.9,>=2.8->tensorflow==2.8) (1.8.1)\n",
            "Requirement already satisfied: requests<3,>=2.21.0 in /usr/local/lib/python3.7/dist-packages (from tensorboard<2.9,>=2.8->tensorflow==2.8) (2.28.1)\n",
            "Requirement already satisfied: werkzeug>=0.11.15 in /usr/local/lib/python3.7/dist-packages (from tensorboard<2.9,>=2.8->tensorflow==2.8) (1.0.1)\n",
            "Requirement already satisfied: google-auth<3,>=1.6.3 in /usr/local/lib/python3.7/dist-packages (from tensorboard<2.9,>=2.8->tensorflow==2.8) (1.35.0)\n",
            "Requirement already satisfied: markdown>=2.6.8 in /usr/local/lib/python3.7/dist-packages (from tensorboard<2.9,>=2.8->tensorflow==2.8) (3.4.1)\n",
            "Requirement already satisfied: pyasn1-modules>=0.2.1 in /usr/local/lib/python3.7/dist-packages (from google-auth<3,>=1.6.3->tensorboard<2.9,>=2.8->tensorflow==2.8) (0.2.8)\n",
            "Requirement already satisfied: cachetools<5.0,>=2.0.0 in /usr/local/lib/python3.7/dist-packages (from google-auth<3,>=1.6.3->tensorboard<2.9,>=2.8->tensorflow==2.8) (4.2.4)\n",
            "Requirement already satisfied: rsa<5,>=3.1.4 in /usr/local/lib/python3.7/dist-packages (from google-auth<3,>=1.6.3->tensorboard<2.9,>=2.8->tensorflow==2.8) (4.9)\n",
            "Requirement already satisfied: requests-oauthlib>=0.7.0 in /usr/local/lib/python3.7/dist-packages (from google-auth-oauthlib<0.5,>=0.4.1->tensorboard<2.9,>=2.8->tensorflow==2.8) (1.3.1)\n",
            "Requirement already satisfied: importlib-metadata>=4.4 in /usr/local/lib/python3.7/dist-packages (from markdown>=2.6.8->tensorboard<2.9,>=2.8->tensorflow==2.8) (4.12.0)\n",
            "Requirement already satisfied: zipp>=0.5 in /usr/local/lib/python3.7/dist-packages (from importlib-metadata>=4.4->markdown>=2.6.8->tensorboard<2.9,>=2.8->tensorflow==2.8) (3.8.1)\n",
            "Requirement already satisfied: pyasn1<0.5.0,>=0.4.6 in /usr/local/lib/python3.7/dist-packages (from pyasn1-modules>=0.2.1->google-auth<3,>=1.6.3->tensorboard<2.9,>=2.8->tensorflow==2.8) (0.4.8)\n",
            "Requirement already satisfied: certifi>=2017.4.17 in /usr/local/lib/python3.7/dist-packages (from requests<3,>=2.21.0->tensorboard<2.9,>=2.8->tensorflow==2.8) (2022.6.15)\n",
            "Requirement already satisfied: idna<4,>=2.5 in /usr/local/lib/python3.7/dist-packages (from requests<3,>=2.21.0->tensorboard<2.9,>=2.8->tensorflow==2.8) (2.10)\n",
            "Requirement already satisfied: charset-normalizer<3,>=2 in /usr/local/lib/python3.7/dist-packages (from requests<3,>=2.21.0->tensorboard<2.9,>=2.8->tensorflow==2.8) (2.1.1)\n",
            "Requirement already satisfied: urllib3<1.27,>=1.21.1 in /usr/local/lib/python3.7/dist-packages (from requests<3,>=2.21.0->tensorboard<2.9,>=2.8->tensorflow==2.8) (1.24.3)\n",
            "Requirement already satisfied: oauthlib>=3.0.0 in /usr/local/lib/python3.7/dist-packages (from requests-oauthlib>=0.7.0->google-auth-oauthlib<0.5,>=0.4.1->tensorboard<2.9,>=2.8->tensorflow==2.8) (3.2.0)\n",
            "Installing collected packages: tensorboard, keras, tensorflow\n",
            "  Attempting uninstall: tensorboard\n",
            "    Found existing installation: tensorboard 2.9.1\n",
            "    Uninstalling tensorboard-2.9.1:\n",
            "      Successfully uninstalled tensorboard-2.9.1\n",
            "  Attempting uninstall: keras\n",
            "    Found existing installation: keras 2.9.0\n",
            "    Uninstalling keras-2.9.0:\n",
            "      Successfully uninstalled keras-2.9.0\n",
            "  Attempting uninstall: tensorflow\n",
            "    Found existing installation: tensorflow 2.9.2\n",
            "    Uninstalling tensorflow-2.9.2:\n",
            "      Successfully uninstalled tensorflow-2.9.2\n",
            "\u001b[31mERROR: pip's dependency resolver does not currently take into account all the packages that are installed. This behaviour is the source of the following dependency conflicts.\n",
            "tf-models-official 2.9.2 requires tensorflow~=2.9.0, but you have tensorflow 2.8.0+zzzcolab20220506162203 which is incompatible.\n",
            "tensorflow-text 2.9.0 requires tensorflow<2.10,>=2.9.0; platform_machine != \"arm64\" or platform_system != \"Darwin\", but you have tensorflow 2.8.0+zzzcolab20220506162203 which is incompatible.\u001b[0m\n",
            "Successfully installed keras-2.8.0 tensorboard-2.8.0 tensorflow-2.8.0+zzzcolab20220506162203\n",
            "Reading package lists... Done\n",
            "Building dependency tree       \n",
            "Reading state information... Done\n",
            "libcudnn8 is already the newest version (8.1.0.77-1+cuda11.2).\n",
            "The following package was automatically installed and is no longer required:\n",
            "  libnvidia-common-460\n",
            "Use 'apt autoremove' to remove it.\n",
            "0 upgraded, 0 newly installed, 0 to remove and 18 not upgraded.\n"
          ]
        }
      ],
      "source": [
        "!pip install tensorflow==2.8\n",
        "!apt install --allow-change-held-packages libcudnn8=8.1.0.77-1+cuda11.2"
      ]
    },
    {
      "cell_type": "markdown",
      "metadata": {
        "id": "4_YRZu7npfDH"
      },
      "source": [
        "# 7. Evaluate the Model"
      ]
    },
    {
      "cell_type": "code",
      "execution_count": 81,
      "metadata": {
        "id": "80L7-fdPpfDH"
      },
      "outputs": [],
      "source": [
        "command = \"python {} --model_dir={} --pipeline_config_path={} --checkpoint_dir={}\".format(TRAINING_SCRIPT, paths['CHECKPOINT_PATH'],files['PIPELINE_CONFIG'], paths['CHECKPOINT_PATH'])"
      ]
    },
    {
      "cell_type": "code",
      "execution_count": 82,
      "metadata": {
        "colab": {
          "base_uri": "https://localhost:8080/"
        },
        "id": "lYsgEPx9pfDH",
        "outputId": "3d748a55-9879-483e-d13e-33bf5ab3d71e"
      },
      "outputs": [
        {
          "output_type": "stream",
          "name": "stdout",
          "text": [
            "python Tensorflow/models/research/object_detection/model_main_tf2.py --model_dir=Tensorflow/workspace/models/my_ssd_mobilenet_v2 --pipeline_config_path=Tensorflow/workspace/models/my_ssd_mobilenet_v2/pipeline.config --checkpoint_dir=Tensorflow/workspace/models/my_ssd_mobilenet_v2\n"
          ]
        }
      ],
      "source": [
        "print(command)"
      ]
    },
    {
      "cell_type": "code",
      "execution_count": 83,
      "metadata": {
        "colab": {
          "base_uri": "https://localhost:8080/"
        },
        "id": "lqTV2jGBpfDH",
        "outputId": "fdd57d64-fbe0-4102-ce2b-c9e3e6f97203"
      },
      "outputs": [
        {
          "output_type": "stream",
          "name": "stdout",
          "text": [
            "WARNING:tensorflow:Forced number of epochs for all eval validations to be 1.\n",
            "W0908 20:57:21.549770 140295722162048 model_lib_v2.py:1090] Forced number of epochs for all eval validations to be 1.\n",
            "INFO:tensorflow:Maybe overwriting sample_1_of_n_eval_examples: None\n",
            "I0908 20:57:21.549998 140295722162048 config_util.py:552] Maybe overwriting sample_1_of_n_eval_examples: None\n",
            "INFO:tensorflow:Maybe overwriting use_bfloat16: False\n",
            "I0908 20:57:21.550087 140295722162048 config_util.py:552] Maybe overwriting use_bfloat16: False\n",
            "INFO:tensorflow:Maybe overwriting eval_num_epochs: 1\n",
            "I0908 20:57:21.550170 140295722162048 config_util.py:552] Maybe overwriting eval_num_epochs: 1\n",
            "WARNING:tensorflow:Expected number of evaluation epochs is 1, but instead encountered `eval_on_train_input_config.num_epochs` = 0. Overwriting `num_epochs` to 1.\n",
            "W0908 20:57:21.550284 140295722162048 model_lib_v2.py:1110] Expected number of evaluation epochs is 1, but instead encountered `eval_on_train_input_config.num_epochs` = 0. Overwriting `num_epochs` to 1.\n",
            "2022-09-08 20:57:24.948094: W tensorflow/core/common_runtime/gpu/gpu_bfc_allocator.cc:39] Overriding allow_growth setting because the TF_FORCE_GPU_ALLOW_GROWTH environment variable is set. Original config value was 0.\n",
            "INFO:tensorflow:Reading unweighted datasets: ['Tensorflow/workspace/annotations/test.record']\n",
            "I0908 20:57:24.991184 140295722162048 dataset_builder.py:162] Reading unweighted datasets: ['Tensorflow/workspace/annotations/test.record']\n",
            "INFO:tensorflow:Reading record datasets for input file: ['Tensorflow/workspace/annotations/test.record']\n",
            "I0908 20:57:24.994226 140295722162048 dataset_builder.py:79] Reading record datasets for input file: ['Tensorflow/workspace/annotations/test.record']\n",
            "INFO:tensorflow:Number of filenames to read: 1\n",
            "I0908 20:57:24.994368 140295722162048 dataset_builder.py:80] Number of filenames to read: 1\n",
            "WARNING:tensorflow:num_readers has been reduced to 1 to match input file shards.\n",
            "W0908 20:57:24.994443 140295722162048 dataset_builder.py:87] num_readers has been reduced to 1 to match input file shards.\n",
            "WARNING:tensorflow:From /usr/local/lib/python3.7/dist-packages/object_detection/builders/dataset_builder.py:104: parallel_interleave (from tensorflow.python.data.experimental.ops.interleave_ops) is deprecated and will be removed in a future version.\n",
            "Instructions for updating:\n",
            "Use `tf.data.Dataset.interleave(map_func, cycle_length, block_length, num_parallel_calls=tf.data.AUTOTUNE)` instead. If sloppy execution is desired, use `tf.data.Options.deterministic`.\n",
            "W0908 20:57:24.996349 140295722162048 deprecation.py:343] From /usr/local/lib/python3.7/dist-packages/object_detection/builders/dataset_builder.py:104: parallel_interleave (from tensorflow.python.data.experimental.ops.interleave_ops) is deprecated and will be removed in a future version.\n",
            "Instructions for updating:\n",
            "Use `tf.data.Dataset.interleave(map_func, cycle_length, block_length, num_parallel_calls=tf.data.AUTOTUNE)` instead. If sloppy execution is desired, use `tf.data.Options.deterministic`.\n",
            "WARNING:tensorflow:From /usr/local/lib/python3.7/dist-packages/object_detection/builders/dataset_builder.py:236: DatasetV1.map_with_legacy_function (from tensorflow.python.data.ops.dataset_ops) is deprecated and will be removed in a future version.\n",
            "Instructions for updating:\n",
            "Use `tf.data.Dataset.map()\n",
            "W0908 20:57:25.029416 140295722162048 deprecation.py:343] From /usr/local/lib/python3.7/dist-packages/object_detection/builders/dataset_builder.py:236: DatasetV1.map_with_legacy_function (from tensorflow.python.data.ops.dataset_ops) is deprecated and will be removed in a future version.\n",
            "Instructions for updating:\n",
            "Use `tf.data.Dataset.map()\n",
            "WARNING:tensorflow:From /usr/local/lib/python3.7/dist-packages/tensorflow/python/util/dispatch.py:1082: sparse_to_dense (from tensorflow.python.ops.sparse_ops) is deprecated and will be removed in a future version.\n",
            "Instructions for updating:\n",
            "Create a `tf.sparse.SparseTensor` and use `tf.sparse.to_dense` instead.\n",
            "W0908 20:57:28.896232 140295722162048 deprecation.py:343] From /usr/local/lib/python3.7/dist-packages/tensorflow/python/util/dispatch.py:1082: sparse_to_dense (from tensorflow.python.ops.sparse_ops) is deprecated and will be removed in a future version.\n",
            "Instructions for updating:\n",
            "Create a `tf.sparse.SparseTensor` and use `tf.sparse.to_dense` instead.\n",
            "WARNING:tensorflow:From /usr/local/lib/python3.7/dist-packages/tensorflow/python/util/dispatch.py:1082: to_float (from tensorflow.python.ops.math_ops) is deprecated and will be removed in a future version.\n",
            "Instructions for updating:\n",
            "Use `tf.cast` instead.\n",
            "W0908 20:57:30.067420 140295722162048 deprecation.py:343] From /usr/local/lib/python3.7/dist-packages/tensorflow/python/util/dispatch.py:1082: to_float (from tensorflow.python.ops.math_ops) is deprecated and will be removed in a future version.\n",
            "Instructions for updating:\n",
            "Use `tf.cast` instead.\n",
            "INFO:tensorflow:Waiting for new checkpoint at Tensorflow/workspace/models/my_ssd_mobilenet_v2\n",
            "I0908 20:57:32.495829 140295722162048 checkpoint_utils.py:136] Waiting for new checkpoint at Tensorflow/workspace/models/my_ssd_mobilenet_v2\n",
            "INFO:tensorflow:Found new checkpoint at Tensorflow/workspace/models/my_ssd_mobilenet_v2/ckpt-6\n",
            "I0908 20:57:32.496881 140295722162048 checkpoint_utils.py:145] Found new checkpoint at Tensorflow/workspace/models/my_ssd_mobilenet_v2/ckpt-6\n",
            "/usr/local/lib/python3.7/dist-packages/keras/backend.py:450: UserWarning: `tf.keras.backend.set_learning_phase` is deprecated and will be removed after 2020-10-11. To update it, simply pass a True/False value to the `training` argument of the `__call__` method of your layer or model.\n",
            "  warnings.warn('`tf.keras.backend.set_learning_phase` is deprecated and '\n",
            "WARNING:tensorflow:From /usr/local/lib/python3.7/dist-packages/tensorflow/python/util/dispatch.py:1082: to_int64 (from tensorflow.python.ops.math_ops) is deprecated and will be removed in a future version.\n",
            "Instructions for updating:\n",
            "Use `tf.cast` instead.\n",
            "W0908 20:58:02.281403 140295722162048 deprecation.py:343] From /usr/local/lib/python3.7/dist-packages/tensorflow/python/util/dispatch.py:1082: to_int64 (from tensorflow.python.ops.math_ops) is deprecated and will be removed in a future version.\n",
            "Instructions for updating:\n",
            "Use `tf.cast` instead.\n",
            "INFO:tensorflow:Finished eval step 0\n",
            "I0908 20:58:02.291872 140295722162048 model_lib_v2.py:966] Finished eval step 0\n",
            "WARNING:tensorflow:From /usr/local/lib/python3.7/dist-packages/tensorflow/python/autograph/impl/api.py:459: py_func (from tensorflow.python.ops.script_ops) is deprecated and will be removed in a future version.\n",
            "Instructions for updating:\n",
            "tf.py_func is deprecated in TF V2. Instead, there are two\n",
            "    options available in V2.\n",
            "    - tf.py_function takes a python function which manipulates tf eager\n",
            "    tensors instead of numpy arrays. It's easy to convert a tf eager tensor to\n",
            "    an ndarray (just call tensor.numpy()) but having access to eager tensors\n",
            "    means `tf.py_function`s can use accelerators such as GPUs as well as\n",
            "    being differentiable using a gradient tape.\n",
            "    - tf.numpy_function maintains the semantics of the deprecated tf.py_func\n",
            "    (it is not differentiable, and manipulates numpy arrays). It drops the\n",
            "    stateful argument making all functions stateful.\n",
            "    \n",
            "W0908 20:58:02.754653 140295722162048 deprecation.py:343] From /usr/local/lib/python3.7/dist-packages/tensorflow/python/autograph/impl/api.py:459: py_func (from tensorflow.python.ops.script_ops) is deprecated and will be removed in a future version.\n",
            "Instructions for updating:\n",
            "tf.py_func is deprecated in TF V2. Instead, there are two\n",
            "    options available in V2.\n",
            "    - tf.py_function takes a python function which manipulates tf eager\n",
            "    tensors instead of numpy arrays. It's easy to convert a tf eager tensor to\n",
            "    an ndarray (just call tensor.numpy()) but having access to eager tensors\n",
            "    means `tf.py_function`s can use accelerators such as GPUs as well as\n",
            "    being differentiable using a gradient tape.\n",
            "    - tf.numpy_function maintains the semantics of the deprecated tf.py_func\n",
            "    (it is not differentiable, and manipulates numpy arrays). It drops the\n",
            "    stateful argument making all functions stateful.\n",
            "    \n",
            "INFO:tensorflow:Performing evaluation on 15 images.\n",
            "I0908 20:58:17.364517 140295722162048 coco_evaluation.py:293] Performing evaluation on 15 images.\n",
            "creating index...\n",
            "index created!\n",
            "INFO:tensorflow:Loading and preparing annotation results...\n",
            "I0908 20:58:17.364848 140295722162048 coco_tools.py:116] Loading and preparing annotation results...\n",
            "INFO:tensorflow:DONE (t=0.00s)\n",
            "I0908 20:58:17.365664 140295722162048 coco_tools.py:138] DONE (t=0.00s)\n",
            "creating index...\n",
            "index created!\n",
            "Running per image evaluation...\n",
            "Evaluate annotation type *bbox*\n",
            "DONE (t=0.05s).\n",
            "Accumulating evaluation results...\n",
            "DONE (t=0.01s).\n",
            " Average Precision  (AP) @[ IoU=0.50:0.95 | area=   all | maxDets=100 ] = 0.799\n",
            " Average Precision  (AP) @[ IoU=0.50      | area=   all | maxDets=100 ] = 1.000\n",
            " Average Precision  (AP) @[ IoU=0.75      | area=   all | maxDets=100 ] = 0.834\n",
            " Average Precision  (AP) @[ IoU=0.50:0.95 | area= small | maxDets=100 ] = -1.000\n",
            " Average Precision  (AP) @[ IoU=0.50:0.95 | area=medium | maxDets=100 ] = -1.000\n",
            " Average Precision  (AP) @[ IoU=0.50:0.95 | area= large | maxDets=100 ] = 0.799\n",
            " Average Recall     (AR) @[ IoU=0.50:0.95 | area=   all | maxDets=  1 ] = 0.831\n",
            " Average Recall     (AR) @[ IoU=0.50:0.95 | area=   all | maxDets= 10 ] = 0.831\n",
            " Average Recall     (AR) @[ IoU=0.50:0.95 | area=   all | maxDets=100 ] = 0.831\n",
            " Average Recall     (AR) @[ IoU=0.50:0.95 | area= small | maxDets=100 ] = -1.000\n",
            " Average Recall     (AR) @[ IoU=0.50:0.95 | area=medium | maxDets=100 ] = -1.000\n",
            " Average Recall     (AR) @[ IoU=0.50:0.95 | area= large | maxDets=100 ] = 0.831\n",
            "INFO:tensorflow:Eval metrics at step 5000\n",
            "I0908 20:58:17.450020 140295722162048 model_lib_v2.py:1015] Eval metrics at step 5000\n",
            "INFO:tensorflow:\t+ DetectionBoxes_Precision/mAP: 0.799028\n",
            "I0908 20:58:17.463106 140295722162048 model_lib_v2.py:1018] \t+ DetectionBoxes_Precision/mAP: 0.799028\n",
            "INFO:tensorflow:\t+ DetectionBoxes_Precision/mAP@.50IOU: 1.000000\n",
            "I0908 20:58:17.465730 140295722162048 model_lib_v2.py:1018] \t+ DetectionBoxes_Precision/mAP@.50IOU: 1.000000\n",
            "INFO:tensorflow:\t+ DetectionBoxes_Precision/mAP@.75IOU: 0.834158\n",
            "I0908 20:58:17.467105 140295722162048 model_lib_v2.py:1018] \t+ DetectionBoxes_Precision/mAP@.75IOU: 0.834158\n",
            "INFO:tensorflow:\t+ DetectionBoxes_Precision/mAP (small): -1.000000\n",
            "I0908 20:58:17.468465 140295722162048 model_lib_v2.py:1018] \t+ DetectionBoxes_Precision/mAP (small): -1.000000\n",
            "INFO:tensorflow:\t+ DetectionBoxes_Precision/mAP (medium): -1.000000\n",
            "I0908 20:58:17.469766 140295722162048 model_lib_v2.py:1018] \t+ DetectionBoxes_Precision/mAP (medium): -1.000000\n",
            "INFO:tensorflow:\t+ DetectionBoxes_Precision/mAP (large): 0.799028\n",
            "I0908 20:58:17.470987 140295722162048 model_lib_v2.py:1018] \t+ DetectionBoxes_Precision/mAP (large): 0.799028\n",
            "INFO:tensorflow:\t+ DetectionBoxes_Recall/AR@1: 0.831250\n",
            "I0908 20:58:17.472208 140295722162048 model_lib_v2.py:1018] \t+ DetectionBoxes_Recall/AR@1: 0.831250\n",
            "INFO:tensorflow:\t+ DetectionBoxes_Recall/AR@10: 0.831250\n",
            "I0908 20:58:17.473266 140295722162048 model_lib_v2.py:1018] \t+ DetectionBoxes_Recall/AR@10: 0.831250\n",
            "INFO:tensorflow:\t+ DetectionBoxes_Recall/AR@100: 0.831250\n",
            "I0908 20:58:17.474313 140295722162048 model_lib_v2.py:1018] \t+ DetectionBoxes_Recall/AR@100: 0.831250\n",
            "INFO:tensorflow:\t+ DetectionBoxes_Recall/AR@100 (small): -1.000000\n",
            "I0908 20:58:17.475377 140295722162048 model_lib_v2.py:1018] \t+ DetectionBoxes_Recall/AR@100 (small): -1.000000\n",
            "INFO:tensorflow:\t+ DetectionBoxes_Recall/AR@100 (medium): -1.000000\n",
            "I0908 20:58:17.476447 140295722162048 model_lib_v2.py:1018] \t+ DetectionBoxes_Recall/AR@100 (medium): -1.000000\n",
            "INFO:tensorflow:\t+ DetectionBoxes_Recall/AR@100 (large): 0.831250\n",
            "I0908 20:58:17.477573 140295722162048 model_lib_v2.py:1018] \t+ DetectionBoxes_Recall/AR@100 (large): 0.831250\n",
            "INFO:tensorflow:\t+ Loss/localization_loss: 0.057698\n",
            "I0908 20:58:17.478605 140295722162048 model_lib_v2.py:1018] \t+ Loss/localization_loss: 0.057698\n",
            "INFO:tensorflow:\t+ Loss/classification_loss: 0.123551\n",
            "I0908 20:58:17.479724 140295722162048 model_lib_v2.py:1018] \t+ Loss/classification_loss: 0.123551\n",
            "INFO:tensorflow:\t+ Loss/regularization_loss: 0.129555\n",
            "I0908 20:58:17.480798 140295722162048 model_lib_v2.py:1018] \t+ Loss/regularization_loss: 0.129555\n",
            "INFO:tensorflow:\t+ Loss/total_loss: 0.310804\n",
            "I0908 20:58:17.481775 140295722162048 model_lib_v2.py:1018] \t+ Loss/total_loss: 0.310804\n",
            "Traceback (most recent call last):\n",
            "  File \"/usr/local/lib/python3.7/dist-packages/absl/app.py\", line 308, in run\n",
            "    _run_main(main, args)\n",
            "  File \"/usr/local/lib/python3.7/dist-packages/absl/app.py\", line 254, in _run_main\n",
            "    sys.exit(main(argv))\n",
            "  File \"Tensorflow/models/research/object_detection/model_main_tf2.py\", line 89, in main\n",
            "    wait_interval=300, timeout=FLAGS.eval_timeout)\n",
            "  File \"/usr/local/lib/python3.7/dist-packages/object_detection/model_lib_v2.py\", line 1136, in eval_continuously\n",
            "    checkpoint_dir, timeout=timeout, min_interval_secs=wait_interval):\n",
            "  File \"/usr/local/lib/python3.7/dist-packages/tensorflow/python/training/checkpoint_utils.py\", line 212, in checkpoints_iterator\n",
            "    time.sleep(time_to_next_eval)\n",
            "KeyboardInterrupt\n",
            "\n",
            "During handling of the above exception, another exception occurred:\n",
            "\n",
            "Traceback (most recent call last):\n",
            "  File \"Tensorflow/models/research/object_detection/model_main_tf2.py\", line 114, in <module>\n",
            "    tf.compat.v1.app.run()\n",
            "  File \"/usr/local/lib/python3.7/dist-packages/tensorflow/python/platform/app.py\", line 36, in run\n",
            "    _run(main=main, argv=argv, flags_parser=_parse_flags_tolerate_undef)\n",
            "  File \"/usr/local/lib/python3.7/dist-packages/absl/app.py\", line 316, in run\n",
            "    if isinstance(exc, SystemExit) and not exc.code:\n",
            "KeyboardInterrupt\n"
          ]
        }
      ],
      "source": [
        "!{command}"
      ]
    },
    {
      "cell_type": "markdown",
      "metadata": {
        "id": "orvRk02UpfDI"
      },
      "source": [
        "# 8. Load Train Model From Checkpoint"
      ]
    },
    {
      "cell_type": "code",
      "execution_count": 32,
      "metadata": {
        "id": "8TYk4_oIpfDI"
      },
      "outputs": [],
      "source": [
        "import os\n",
        "import tensorflow as tf\n",
        "from object_detection.utils import label_map_util\n",
        "from object_detection.utils import visualization_utils as viz_utils\n",
        "from object_detection.builders import model_builder\n",
        "from object_detection.utils import config_util"
      ]
    },
    {
      "cell_type": "code",
      "execution_count": null,
      "metadata": {
        "colab": {
          "base_uri": "https://localhost:8080/"
        },
        "id": "k44Yc8ZFP2jQ",
        "outputId": "df77288c-8abc-44d3-d9d2-15a14f7d5044"
      },
      "outputs": [
        {
          "name": "stdout",
          "output_type": "stream",
          "text": [
            "Looking in indexes: https://pypi.org/simple, https://us-python.pkg.dev/colab-wheels/public/simple/\n",
            "Requirement already satisfied: object_detection in /usr/local/lib/python3.7/dist-packages (0.1)\n",
            "Requirement already satisfied: tensorflow-io in /usr/local/lib/python3.7/dist-packages (from object_detection) (0.26.0)\n",
            "Requirement already satisfied: lxml in /usr/local/lib/python3.7/dist-packages (from object_detection) (4.9.1)\n",
            "Requirement already satisfied: pyparsing==2.4.7 in /usr/local/lib/python3.7/dist-packages (from object_detection) (2.4.7)\n",
            "Requirement already satisfied: keras in /usr/local/lib/python3.7/dist-packages (from object_detection) (2.9.0)\n",
            "Requirement already satisfied: tf-models-official>=2.5.1 in /usr/local/lib/python3.7/dist-packages (from object_detection) (2.9.2)\n",
            "Requirement already satisfied: matplotlib in /usr/local/lib/python3.7/dist-packages (from object_detection) (3.2.2)\n",
            "Requirement already satisfied: Cython in /usr/local/lib/python3.7/dist-packages (from object_detection) (0.29.32)\n",
            "Requirement already satisfied: contextlib2 in /usr/local/lib/python3.7/dist-packages (from object_detection) (0.5.5)\n",
            "Requirement already satisfied: tf-slim in /usr/local/lib/python3.7/dist-packages (from object_detection) (1.1.0)\n",
            "Requirement already satisfied: lvis in /usr/local/lib/python3.7/dist-packages (from object_detection) (0.5.3)\n",
            "Requirement already satisfied: scipy in /usr/local/lib/python3.7/dist-packages (from object_detection) (1.7.3)\n",
            "Requirement already satisfied: six in /usr/local/lib/python3.7/dist-packages (from object_detection) (1.15.0)\n",
            "Requirement already satisfied: avro-python3 in /usr/local/lib/python3.7/dist-packages (from object_detection) (1.10.2)\n",
            "Requirement already satisfied: pillow in /usr/local/lib/python3.7/dist-packages (from object_detection) (7.1.2)\n",
            "Requirement already satisfied: pycocotools in /usr/local/lib/python3.7/dist-packages (from object_detection) (2.0.4)\n",
            "Requirement already satisfied: apache-beam in /usr/local/lib/python3.7/dist-packages (from object_detection) (2.41.0)\n",
            "Requirement already satisfied: pandas in /usr/local/lib/python3.7/dist-packages (from object_detection) (1.3.5)\n",
            "Requirement already satisfied: numpy>=1.20 in /usr/local/lib/python3.7/dist-packages (from tf-models-official>=2.5.1->object_detection) (1.21.6)\n",
            "Requirement already satisfied: opencv-python-headless in /usr/local/lib/python3.7/dist-packages (from tf-models-official>=2.5.1->object_detection) (4.6.0.66)\n",
            "Requirement already satisfied: tensorflow-hub>=0.6.0 in /usr/local/lib/python3.7/dist-packages (from tf-models-official>=2.5.1->object_detection) (0.12.0)\n",
            "Requirement already satisfied: google-api-python-client>=1.6.7 in /usr/local/lib/python3.7/dist-packages (from tf-models-official>=2.5.1->object_detection) (1.12.11)\n",
            "Requirement already satisfied: py-cpuinfo>=3.3.0 in /usr/local/lib/python3.7/dist-packages (from tf-models-official>=2.5.1->object_detection) (8.0.0)\n",
            "Requirement already satisfied: seqeval in /usr/local/lib/python3.7/dist-packages (from tf-models-official>=2.5.1->object_detection) (1.2.2)\n",
            "Requirement already satisfied: oauth2client in /usr/local/lib/python3.7/dist-packages (from tf-models-official>=2.5.1->object_detection) (4.1.3)\n",
            "Requirement already satisfied: tensorflow-model-optimization>=0.4.1 in /usr/local/lib/python3.7/dist-packages (from tf-models-official>=2.5.1->object_detection) (0.7.3)\n",
            "Requirement already satisfied: gin-config in /usr/local/lib/python3.7/dist-packages (from tf-models-official>=2.5.1->object_detection) (0.5.0)\n",
            "Requirement already satisfied: kaggle>=1.3.9 in /usr/local/lib/python3.7/dist-packages (from tf-models-official>=2.5.1->object_detection) (1.5.12)\n",
            "Requirement already satisfied: psutil>=5.4.3 in /usr/local/lib/python3.7/dist-packages (from tf-models-official>=2.5.1->object_detection) (5.4.8)\n",
            "Requirement already satisfied: tensorflow-addons in /usr/local/lib/python3.7/dist-packages (from tf-models-official>=2.5.1->object_detection) (0.17.1)\n",
            "Requirement already satisfied: tensorflow~=2.9.0 in /usr/local/lib/python3.7/dist-packages (from tf-models-official>=2.5.1->object_detection) (2.9.2)\n",
            "Requirement already satisfied: pyyaml<6.0,>=5.1 in /usr/local/lib/python3.7/dist-packages (from tf-models-official>=2.5.1->object_detection) (5.4.1)\n",
            "Requirement already satisfied: tensorflow-datasets in /usr/local/lib/python3.7/dist-packages (from tf-models-official>=2.5.1->object_detection) (4.6.0)\n",
            "Requirement already satisfied: sacrebleu in /usr/local/lib/python3.7/dist-packages (from tf-models-official>=2.5.1->object_detection) (2.2.0)\n",
            "Requirement already satisfied: sentencepiece in /usr/local/lib/python3.7/dist-packages (from tf-models-official>=2.5.1->object_detection) (0.1.97)\n",
            "Requirement already satisfied: tensorflow-text~=2.9.0 in /usr/local/lib/python3.7/dist-packages (from tf-models-official>=2.5.1->object_detection) (2.9.0)\n",
            "Requirement already satisfied: google-auth<3dev,>=1.16.0 in /usr/local/lib/python3.7/dist-packages (from google-api-python-client>=1.6.7->tf-models-official>=2.5.1->object_detection) (1.35.0)\n",
            "Requirement already satisfied: google-api-core<3dev,>=1.21.0 in /usr/local/lib/python3.7/dist-packages (from google-api-python-client>=1.6.7->tf-models-official>=2.5.1->object_detection) (1.31.6)\n",
            "Requirement already satisfied: httplib2<1dev,>=0.15.0 in /usr/local/lib/python3.7/dist-packages (from google-api-python-client>=1.6.7->tf-models-official>=2.5.1->object_detection) (0.17.4)\n",
            "Requirement already satisfied: uritemplate<4dev,>=3.0.0 in /usr/local/lib/python3.7/dist-packages (from google-api-python-client>=1.6.7->tf-models-official>=2.5.1->object_detection) (3.0.1)\n",
            "Requirement already satisfied: google-auth-httplib2>=0.0.3 in /usr/local/lib/python3.7/dist-packages (from google-api-python-client>=1.6.7->tf-models-official>=2.5.1->object_detection) (0.0.4)\n",
            "Requirement already satisfied: requests<3.0.0dev,>=2.18.0 in /usr/local/lib/python3.7/dist-packages (from google-api-core<3dev,>=1.21.0->google-api-python-client>=1.6.7->tf-models-official>=2.5.1->object_detection) (2.28.1)\n",
            "Requirement already satisfied: packaging>=14.3 in /usr/local/lib/python3.7/dist-packages (from google-api-core<3dev,>=1.21.0->google-api-python-client>=1.6.7->tf-models-official>=2.5.1->object_detection) (21.3)\n",
            "Requirement already satisfied: googleapis-common-protos<2.0dev,>=1.6.0 in /usr/local/lib/python3.7/dist-packages (from google-api-core<3dev,>=1.21.0->google-api-python-client>=1.6.7->tf-models-official>=2.5.1->object_detection) (1.56.4)\n",
            "Requirement already satisfied: protobuf<4.0.0dev,>=3.12.0 in /usr/local/lib/python3.7/dist-packages (from google-api-core<3dev,>=1.21.0->google-api-python-client>=1.6.7->tf-models-official>=2.5.1->object_detection) (3.19.4)\n",
            "Requirement already satisfied: pytz in /usr/local/lib/python3.7/dist-packages (from google-api-core<3dev,>=1.21.0->google-api-python-client>=1.6.7->tf-models-official>=2.5.1->object_detection) (2022.2.1)\n",
            "Requirement already satisfied: setuptools>=40.3.0 in /usr/local/lib/python3.7/dist-packages (from google-api-core<3dev,>=1.21.0->google-api-python-client>=1.6.7->tf-models-official>=2.5.1->object_detection) (57.4.0)\n",
            "Requirement already satisfied: rsa<5,>=3.1.4 in /usr/local/lib/python3.7/dist-packages (from google-auth<3dev,>=1.16.0->google-api-python-client>=1.6.7->tf-models-official>=2.5.1->object_detection) (4.9)\n",
            "Requirement already satisfied: cachetools<5.0,>=2.0.0 in /usr/local/lib/python3.7/dist-packages (from google-auth<3dev,>=1.16.0->google-api-python-client>=1.6.7->tf-models-official>=2.5.1->object_detection) (4.2.4)\n",
            "Requirement already satisfied: pyasn1-modules>=0.2.1 in /usr/local/lib/python3.7/dist-packages (from google-auth<3dev,>=1.16.0->google-api-python-client>=1.6.7->tf-models-official>=2.5.1->object_detection) (0.2.8)\n",
            "Requirement already satisfied: certifi in /usr/local/lib/python3.7/dist-packages (from kaggle>=1.3.9->tf-models-official>=2.5.1->object_detection) (2022.6.15)\n",
            "Requirement already satisfied: urllib3 in /usr/local/lib/python3.7/dist-packages (from kaggle>=1.3.9->tf-models-official>=2.5.1->object_detection) (1.24.3)\n",
            "Requirement already satisfied: tqdm in /usr/local/lib/python3.7/dist-packages (from kaggle>=1.3.9->tf-models-official>=2.5.1->object_detection) (4.64.0)\n",
            "Requirement already satisfied: python-dateutil in /usr/local/lib/python3.7/dist-packages (from kaggle>=1.3.9->tf-models-official>=2.5.1->object_detection) (2.8.2)\n",
            "Requirement already satisfied: python-slugify in /usr/local/lib/python3.7/dist-packages (from kaggle>=1.3.9->tf-models-official>=2.5.1->object_detection) (6.1.2)\n",
            "Requirement already satisfied: pyasn1<0.5.0,>=0.4.6 in /usr/local/lib/python3.7/dist-packages (from pyasn1-modules>=0.2.1->google-auth<3dev,>=1.16.0->google-api-python-client>=1.6.7->tf-models-official>=2.5.1->object_detection) (0.4.8)\n",
            "Requirement already satisfied: idna<4,>=2.5 in /usr/local/lib/python3.7/dist-packages (from requests<3.0.0dev,>=2.18.0->google-api-core<3dev,>=1.21.0->google-api-python-client>=1.6.7->tf-models-official>=2.5.1->object_detection) (2.10)\n",
            "Requirement already satisfied: charset-normalizer<3,>=2 in /usr/local/lib/python3.7/dist-packages (from requests<3.0.0dev,>=2.18.0->google-api-core<3dev,>=1.21.0->google-api-python-client>=1.6.7->tf-models-official>=2.5.1->object_detection) (2.1.1)\n",
            "Requirement already satisfied: tensorflow-io-gcs-filesystem>=0.23.1 in /usr/local/lib/python3.7/dist-packages (from tensorflow~=2.9.0->tf-models-official>=2.5.1->object_detection) (0.26.0)\n",
            "Requirement already satisfied: keras-preprocessing>=1.1.1 in /usr/local/lib/python3.7/dist-packages (from tensorflow~=2.9.0->tf-models-official>=2.5.1->object_detection) (1.1.2)\n",
            "Requirement already satisfied: typing-extensions>=3.6.6 in /usr/local/lib/python3.7/dist-packages (from tensorflow~=2.9.0->tf-models-official>=2.5.1->object_detection) (4.1.1)\n",
            "Requirement already satisfied: opt-einsum>=2.3.2 in /usr/local/lib/python3.7/dist-packages (from tensorflow~=2.9.0->tf-models-official>=2.5.1->object_detection) (3.3.0)\n",
            "Requirement already satisfied: google-pasta>=0.1.1 in /usr/local/lib/python3.7/dist-packages (from tensorflow~=2.9.0->tf-models-official>=2.5.1->object_detection) (0.2.0)\n",
            "Requirement already satisfied: flatbuffers<2,>=1.12 in /usr/local/lib/python3.7/dist-packages (from tensorflow~=2.9.0->tf-models-official>=2.5.1->object_detection) (1.12)\n",
            "Requirement already satisfied: gast<=0.4.0,>=0.2.1 in /usr/local/lib/python3.7/dist-packages (from tensorflow~=2.9.0->tf-models-official>=2.5.1->object_detection) (0.4.0)\n",
            "Requirement already satisfied: absl-py>=1.0.0 in /usr/local/lib/python3.7/dist-packages (from tensorflow~=2.9.0->tf-models-official>=2.5.1->object_detection) (1.2.0)\n",
            "Requirement already satisfied: wrapt>=1.11.0 in /usr/local/lib/python3.7/dist-packages (from tensorflow~=2.9.0->tf-models-official>=2.5.1->object_detection) (1.14.1)\n",
            "Requirement already satisfied: astunparse>=1.6.0 in /usr/local/lib/python3.7/dist-packages (from tensorflow~=2.9.0->tf-models-official>=2.5.1->object_detection) (1.6.3)\n",
            "Requirement already satisfied: libclang>=13.0.0 in /usr/local/lib/python3.7/dist-packages (from tensorflow~=2.9.0->tf-models-official>=2.5.1->object_detection) (14.0.6)\n",
            "Requirement already satisfied: h5py>=2.9.0 in /usr/local/lib/python3.7/dist-packages (from tensorflow~=2.9.0->tf-models-official>=2.5.1->object_detection) (3.1.0)\n",
            "Requirement already satisfied: tensorflow-estimator<2.10.0,>=2.9.0rc0 in /usr/local/lib/python3.7/dist-packages (from tensorflow~=2.9.0->tf-models-official>=2.5.1->object_detection) (2.9.0)\n",
            "Requirement already satisfied: tensorboard<2.10,>=2.9 in /usr/local/lib/python3.7/dist-packages (from tensorflow~=2.9.0->tf-models-official>=2.5.1->object_detection) (2.9.1)\n",
            "Requirement already satisfied: termcolor>=1.1.0 in /usr/local/lib/python3.7/dist-packages (from tensorflow~=2.9.0->tf-models-official>=2.5.1->object_detection) (1.1.0)\n",
            "Requirement already satisfied: grpcio<2.0,>=1.24.3 in /usr/local/lib/python3.7/dist-packages (from tensorflow~=2.9.0->tf-models-official>=2.5.1->object_detection) (1.47.0)\n",
            "Requirement already satisfied: wheel<1.0,>=0.23.0 in /usr/local/lib/python3.7/dist-packages (from astunparse>=1.6.0->tensorflow~=2.9.0->tf-models-official>=2.5.1->object_detection) (0.37.1)\n",
            "Requirement already satisfied: cached-property in /usr/local/lib/python3.7/dist-packages (from h5py>=2.9.0->tensorflow~=2.9.0->tf-models-official>=2.5.1->object_detection) (1.5.2)\n",
            "Requirement already satisfied: google-auth-oauthlib<0.5,>=0.4.1 in /usr/local/lib/python3.7/dist-packages (from tensorboard<2.10,>=2.9->tensorflow~=2.9.0->tf-models-official>=2.5.1->object_detection) (0.4.6)\n",
            "Requirement already satisfied: tensorboard-plugin-wit>=1.6.0 in /usr/local/lib/python3.7/dist-packages (from tensorboard<2.10,>=2.9->tensorflow~=2.9.0->tf-models-official>=2.5.1->object_detection) (1.8.1)\n",
            "Requirement already satisfied: tensorboard-data-server<0.7.0,>=0.6.0 in /usr/local/lib/python3.7/dist-packages (from tensorboard<2.10,>=2.9->tensorflow~=2.9.0->tf-models-official>=2.5.1->object_detection) (0.6.1)\n",
            "Requirement already satisfied: werkzeug>=1.0.1 in /usr/local/lib/python3.7/dist-packages (from tensorboard<2.10,>=2.9->tensorflow~=2.9.0->tf-models-official>=2.5.1->object_detection) (1.0.1)\n",
            "Requirement already satisfied: markdown>=2.6.8 in /usr/local/lib/python3.7/dist-packages (from tensorboard<2.10,>=2.9->tensorflow~=2.9.0->tf-models-official>=2.5.1->object_detection) (3.4.1)\n",
            "Requirement already satisfied: requests-oauthlib>=0.7.0 in /usr/local/lib/python3.7/dist-packages (from google-auth-oauthlib<0.5,>=0.4.1->tensorboard<2.10,>=2.9->tensorflow~=2.9.0->tf-models-official>=2.5.1->object_detection) (1.3.1)\n",
            "Requirement already satisfied: importlib-metadata>=4.4 in /usr/local/lib/python3.7/dist-packages (from markdown>=2.6.8->tensorboard<2.10,>=2.9->tensorflow~=2.9.0->tf-models-official>=2.5.1->object_detection) (4.12.0)\n",
            "Requirement already satisfied: zipp>=0.5 in /usr/local/lib/python3.7/dist-packages (from importlib-metadata>=4.4->markdown>=2.6.8->tensorboard<2.10,>=2.9->tensorflow~=2.9.0->tf-models-official>=2.5.1->object_detection) (3.8.1)\n",
            "Requirement already satisfied: oauthlib>=3.0.0 in /usr/local/lib/python3.7/dist-packages (from requests-oauthlib>=0.7.0->google-auth-oauthlib<0.5,>=0.4.1->tensorboard<2.10,>=2.9->tensorflow~=2.9.0->tf-models-official>=2.5.1->object_detection) (3.2.0)\n",
            "Requirement already satisfied: dm-tree~=0.1.1 in /usr/local/lib/python3.7/dist-packages (from tensorflow-model-optimization>=0.4.1->tf-models-official>=2.5.1->object_detection) (0.1.7)\n",
            "Requirement already satisfied: orjson<4.0 in /usr/local/lib/python3.7/dist-packages (from apache-beam->object_detection) (3.8.0)\n",
            "Requirement already satisfied: pymongo<4.0.0,>=3.8.0 in /usr/local/lib/python3.7/dist-packages (from apache-beam->object_detection) (3.12.3)\n",
            "Requirement already satisfied: pydot<2,>=1.2.0 in /usr/local/lib/python3.7/dist-packages (from apache-beam->object_detection) (1.3.0)\n",
            "Requirement already satisfied: pyarrow<8.0.0,>=0.15.1 in /usr/local/lib/python3.7/dist-packages (from apache-beam->object_detection) (6.0.1)\n",
            "Requirement already satisfied: fastavro<2,>=0.23.6 in /usr/local/lib/python3.7/dist-packages (from apache-beam->object_detection) (1.6.0)\n",
            "Requirement already satisfied: proto-plus<2,>=1.7.1 in /usr/local/lib/python3.7/dist-packages (from apache-beam->object_detection) (1.22.1)\n",
            "Requirement already satisfied: cloudpickle<3,>=2.1.0 in /usr/local/lib/python3.7/dist-packages (from apache-beam->object_detection) (2.1.0)\n",
            "Requirement already satisfied: hdfs<3.0.0,>=2.1.0 in /usr/local/lib/python3.7/dist-packages (from apache-beam->object_detection) (2.7.0)\n",
            "Requirement already satisfied: dill<0.3.2,>=0.3.1.1 in /usr/local/lib/python3.7/dist-packages (from apache-beam->object_detection) (0.3.1.1)\n",
            "Requirement already satisfied: crcmod<2.0,>=1.7 in /usr/local/lib/python3.7/dist-packages (from apache-beam->object_detection) (1.7)\n",
            "Requirement already satisfied: docopt in /usr/local/lib/python3.7/dist-packages (from hdfs<3.0.0,>=2.1.0->apache-beam->object_detection) (0.6.2)\n",
            "Requirement already satisfied: cycler>=0.10.0 in /usr/local/lib/python3.7/dist-packages (from lvis->object_detection) (0.11.0)\n",
            "Requirement already satisfied: opencv-python>=4.1.0.25 in /usr/local/lib/python3.7/dist-packages (from lvis->object_detection) (4.6.0.66)\n",
            "Requirement already satisfied: kiwisolver>=1.1.0 in /usr/local/lib/python3.7/dist-packages (from lvis->object_detection) (1.4.4)\n",
            "Requirement already satisfied: text-unidecode>=1.3 in /usr/local/lib/python3.7/dist-packages (from python-slugify->kaggle>=1.3.9->tf-models-official>=2.5.1->object_detection) (1.3)\n",
            "Requirement already satisfied: colorama in /usr/local/lib/python3.7/dist-packages (from sacrebleu->tf-models-official>=2.5.1->object_detection) (0.4.5)\n",
            "Requirement already satisfied: regex in /usr/local/lib/python3.7/dist-packages (from sacrebleu->tf-models-official>=2.5.1->object_detection) (2022.6.2)\n",
            "Requirement already satisfied: portalocker in /usr/local/lib/python3.7/dist-packages (from sacrebleu->tf-models-official>=2.5.1->object_detection) (2.5.1)\n",
            "Requirement already satisfied: tabulate>=0.8.9 in /usr/local/lib/python3.7/dist-packages (from sacrebleu->tf-models-official>=2.5.1->object_detection) (0.8.10)\n",
            "Requirement already satisfied: scikit-learn>=0.21.3 in /usr/local/lib/python3.7/dist-packages (from seqeval->tf-models-official>=2.5.1->object_detection) (1.0.2)\n",
            "Requirement already satisfied: joblib>=0.11 in /usr/local/lib/python3.7/dist-packages (from scikit-learn>=0.21.3->seqeval->tf-models-official>=2.5.1->object_detection) (1.1.0)\n",
            "Requirement already satisfied: threadpoolctl>=2.0.0 in /usr/local/lib/python3.7/dist-packages (from scikit-learn>=0.21.3->seqeval->tf-models-official>=2.5.1->object_detection) (3.1.0)\n",
            "Requirement already satisfied: typeguard>=2.7 in /usr/local/lib/python3.7/dist-packages (from tensorflow-addons->tf-models-official>=2.5.1->object_detection) (2.7.1)\n",
            "Requirement already satisfied: tensorflow-metadata in /usr/local/lib/python3.7/dist-packages (from tensorflow-datasets->tf-models-official>=2.5.1->object_detection) (1.10.0)\n",
            "Requirement already satisfied: etils[epath] in /usr/local/lib/python3.7/dist-packages (from tensorflow-datasets->tf-models-official>=2.5.1->object_detection) (0.7.1)\n",
            "Requirement already satisfied: importlib-resources in /usr/local/lib/python3.7/dist-packages (from tensorflow-datasets->tf-models-official>=2.5.1->object_detection) (5.9.0)\n",
            "Requirement already satisfied: toml in /usr/local/lib/python3.7/dist-packages (from tensorflow-datasets->tf-models-official>=2.5.1->object_detection) (0.10.2)\n",
            "Requirement already satisfied: promise in /usr/local/lib/python3.7/dist-packages (from tensorflow-datasets->tf-models-official>=2.5.1->object_detection) (2.3)\n"
          ]
        }
      ],
      "source": [
        "!pip install object_detection"
      ]
    },
    {
      "cell_type": "code",
      "execution_count": 33,
      "metadata": {
        "id": "tDnQg-cYpfDI"
      },
      "outputs": [],
      "source": [
        "# Load pipeline config and build a detection model\n",
        "configs = config_util.get_configs_from_pipeline_file(files['PIPELINE_CONFIG'])\n",
        "detection_model = model_builder.build(model_config=configs['model'], is_training=False)\n",
        "\n",
        "# Restore checkpoint\n",
        "ckpt = tf.compat.v2.train.Checkpoint(model=detection_model)\n",
        "ckpt.restore(os.path.join(paths['CHECKPOINT_PATH'], 'ckpt-5')).expect_partial()\n",
        "\n",
        "@tf.function\n",
        "def detect_fn(image):\n",
        "    image, shapes = detection_model.preprocess(image)\n",
        "    prediction_dict = detection_model.predict(image, shapes)\n",
        "    detections = detection_model.postprocess(prediction_dict, shapes)\n",
        "    return detections"
      ]
    },
    {
      "cell_type": "markdown",
      "metadata": {
        "id": "0EmsmbBZpfDI"
      },
      "source": [
        "# 9. Detect from an Image"
      ]
    },
    {
      "cell_type": "code",
      "execution_count": 36,
      "metadata": {
        "id": "Y_MKiuZ4pfDI"
      },
      "outputs": [],
      "source": [
        "import cv2 \n",
        "import numpy as np\n",
        "from matplotlib import pyplot as plt\n",
        "%matplotlib inline"
      ]
    },
    {
      "cell_type": "code",
      "execution_count": 35,
      "metadata": {
        "id": "cBDbIhNapfDI"
      },
      "outputs": [],
      "source": [
        "category_index = label_map_util.create_category_index_from_labelmap(files['LABELMAP'])"
      ]
    },
    {
      "cell_type": "code",
      "execution_count": 34,
      "metadata": {
        "id": "Lx3crOhOzITB"
      },
      "outputs": [],
      "source": [
        "IMAGE_PATH = os.path.join(paths['IMAGE_PATH'], 'test', '2.ab86215c-2f9b-11ed-9379-80c5f2ad781c.jpg')"
      ]
    },
    {
      "cell_type": "code",
      "execution_count": 37,
      "metadata": {
        "id": "Tpzn1SMry1yK",
        "colab": {
          "base_uri": "https://localhost:8080/",
          "height": 269
        },
        "outputId": "0d499ebc-6a81-4f3f-f7de-3a8d97e16e08"
      },
      "outputs": [
        {
          "output_type": "display_data",
          "data": {
            "text/plain": [
              "<Figure size 432x288 with 1 Axes>"
            ],
            "image/png": "[encoded data removed]"
          },
          "metadata": {
            "needs_background": "light"
          }
        }
      ],
      "source": [
        "img = cv2.imread(IMAGE_PATH)\n",
        "image_np = np.array(img)\n",
        "\n",
        "input_tensor = tf.convert_to_tensor(np.expand_dims(image_np, 0), dtype=tf.float32)\n",
        "detections = detect_fn(input_tensor)\n",
        "\n",
        "num_detections = int(detections.pop('num_detections'))\n",
        "detections = {key: value[0, :num_detections].numpy()\n",
        "              for key, value in detections.items()}\n",
        "detections['num_detections'] = num_detections\n",
        "\n",
        "# detection_classes should be ints.\n",
        "detections['detection_classes'] = detections['detection_classes'].astype(np.int64)\n",
        "\n",
        "label_id_offset = 1\n",
        "image_np_with_detections = image_np.copy()\n",
        "\n",
        "viz_utils.visualize_boxes_and_labels_on_image_array(\n",
        "            image_np_with_detections,\n",
        "            detections['detection_boxes'],\n",
        "            detections['detection_classes']+label_id_offset,\n",
        "            detections['detection_scores'],\n",
        "            category_index,\n",
        "            use_normalized_coordinates=True,\n",
        "            max_boxes_to_draw=5,\n",
        "            min_score_thresh=.8,\n",
        "            agnostic_mode=False)\n",
        "\n",
        "plt.imshow(cv2.cvtColor(image_np_with_detections, cv2.COLOR_BGR2RGB))\n",
        "plt.show()"
      ]
    },
    {
      "cell_type": "markdown",
      "metadata": {
        "id": "IsNAaYAo0WVL"
      },
      "source": [
        "# 10. Real Time Detections from your Webcam"
      ]
    },
    {
      "cell_type": "code",
      "execution_count": null,
      "metadata": {
        "id": "bEE23TC24fYv"
      },
      "outputs": [],
      "source": [
        "!pip uninstall opencv-python-headless -y"
      ]
    },
    {
      "cell_type": "code",
      "execution_count": null,
      "metadata": {
        "id": "o_grs6OGpfDJ"
      },
      "outputs": [],
      "source": [
        "cap = cv2.VideoCapture(0)\n",
        "width = int(cap.get(cv2.CAP_PROP_FRAME_WIDTH))\n",
        "height = int(cap.get(cv2.CAP_PROP_FRAME_HEIGHT))\n",
        "\n",
        "while cap.isOpened(): \n",
        "    ret, frame = cap.read()\n",
        "    image_np = np.array(frame)\n",
        "    \n",
        "    input_tensor = tf.convert_to_tensor(np.expand_dims(image_np, 0), dtype=tf.float32)\n",
        "    detections = detect_fn(input_tensor)\n",
        "    \n",
        "    num_detections = int(detections.pop('num_detections'))\n",
        "    detections = {key: value[0, :num_detections].numpy()\n",
        "                  for key, value in detections.items()}\n",
        "    detections['num_detections'] = num_detections\n",
        "\n",
        "    # detection_classes should be ints.\n",
        "    detections['detection_classes'] = detections['detection_classes'].astype(np.int64)\n",
        "\n",
        "    label_id_offset = 1\n",
        "    image_np_with_detections = image_np.copy()\n",
        "\n",
        "    viz_utils.visualize_boxes_and_labels_on_image_array(\n",
        "                image_np_with_detections,\n",
        "                detections['detection_boxes'],\n",
        "                detections['detection_classes']+label_id_offset,\n",
        "                detections['detection_scores'],\n",
        "                category_index,\n",
        "                use_normalized_coordinates=True,\n",
        "                max_boxes_to_draw=5,\n",
        "                min_score_thresh=.8,\n",
        "                agnostic_mode=False)\n",
        "\n",
        "    cv2.imshow('object detection',  cv2.resize(image_np_with_detections, (800, 600)))\n",
        "    \n",
        "    if cv2.waitKey(10) & 0xFF == ord('q'):\n",
        "        cap.release()\n",
        "        cv2.destroyAllWindows()\n",
        "        break"
      ]
    },
    {
      "cell_type": "markdown",
      "metadata": {
        "id": "rzlM4jt0pfDJ"
      },
      "source": [
        "# 10. Freezing the Graph"
      ]
    },
    {
      "cell_type": "code",
      "execution_count": 84,
      "metadata": {
        "id": "n4olHB2npfDJ"
      },
      "outputs": [],
      "source": [
        "FREEZE_SCRIPT = os.path.join(paths['APIMODEL_PATH'], 'research', 'object_detection', 'exporter_main_v2.py ')"
      ]
    },
    {
      "cell_type": "code",
      "execution_count": 85,
      "metadata": {
        "id": "0AjO93QDpfDJ"
      },
      "outputs": [],
      "source": [
        "command = \"python {} --input_type=image_tensor --pipeline_config_path={} --trained_checkpoint_dir={} --output_directory={}\".format(FREEZE_SCRIPT ,files['PIPELINE_CONFIG'], paths['CHECKPOINT_PATH'], paths['OUTPUT_PATH'])"
      ]
    },
    {
      "cell_type": "code",
      "execution_count": 86,
      "metadata": {
        "colab": {
          "base_uri": "https://localhost:8080/"
        },
        "id": "F6Lsp3tCpfDJ",
        "outputId": "a27e2abb-4ebf-46ca-c2d1-652bc8a99d46"
      },
      "outputs": [
        {
          "output_type": "stream",
          "name": "stdout",
          "text": [
            "python Tensorflow/models/research/object_detection/exporter_main_v2.py  --input_type=image_tensor --pipeline_config_path=Tensorflow/workspace/models/my_ssd_mobilenet_v2/pipeline.config --trained_checkpoint_dir=Tensorflow/workspace/models/my_ssd_mobilenet_v2 --output_directory=Tensorflow/workspace/models/my_ssd_mobilenet_v2/export\n"
          ]
        }
      ],
      "source": [
        "print(command)"
      ]
    },
    {
      "cell_type": "code",
      "execution_count": 87,
      "metadata": {
        "colab": {
          "base_uri": "https://localhost:8080/"
        },
        "id": "1Sw1ULgHpfDJ",
        "outputId": "01623095-cb21-463c-feb5-aabbf53256ed"
      },
      "outputs": [
        {
          "output_type": "stream",
          "name": "stdout",
          "text": [
            "2022-09-08 20:59:31.694205: W tensorflow/core/common_runtime/gpu/gpu_bfc_allocator.cc:39] Overriding allow_growth setting because the TF_FORCE_GPU_ALLOW_GROWTH environment variable is set. Original config value was 0.\n",
            "WARNING:tensorflow:From /usr/local/lib/python3.7/dist-packages/tensorflow/python/autograph/impl/api.py:458: calling map_fn_v2 (from tensorflow.python.ops.map_fn) with back_prop=False is deprecated and will be removed in a future version.\n",
            "Instructions for updating:\n",
            "back_prop=False is deprecated. Consider using tf.stop_gradient instead.\n",
            "Instead of:\n",
            "results = tf.map_fn(fn, elems, back_prop=False)\n",
            "Use:\n",
            "results = tf.nest.map_structure(tf.stop_gradient, tf.map_fn(fn, elems))\n",
            "W0908 20:59:31.847078 140395984021376 deprecation.py:615] From /usr/local/lib/python3.7/dist-packages/tensorflow/python/autograph/impl/api.py:458: calling map_fn_v2 (from tensorflow.python.ops.map_fn) with back_prop=False is deprecated and will be removed in a future version.\n",
            "Instructions for updating:\n",
            "back_prop=False is deprecated. Consider using tf.stop_gradient instead.\n",
            "Instead of:\n",
            "results = tf.map_fn(fn, elems, back_prop=False)\n",
            "Use:\n",
            "results = tf.nest.map_structure(tf.stop_gradient, tf.map_fn(fn, elems))\n",
            "2022-09-08 20:59:47.397772: W tensorflow/python/util/util.cc:368] Sets are not currently considered sequences, but this may change in the future, so consider avoiding using them.\n",
            "WARNING:tensorflow:Skipping full serialization of Keras layer <object_detection.meta_architectures.ssd_meta_arch.SSDMetaArch object at 0x7fafe012ad10>, because it is not built.\n",
            "W0908 20:59:50.360587 140395984021376 save_impl.py:72] Skipping full serialization of Keras layer <object_detection.meta_architectures.ssd_meta_arch.SSDMetaArch object at 0x7fafe012ad10>, because it is not built.\n",
            "WARNING:tensorflow:Skipping full serialization of Keras layer <keras.layers.convolutional.SeparableConv2D object at 0x7faf70241950>, because it is not built.\n",
            "W0908 20:59:50.620208 140395984021376 save_impl.py:72] Skipping full serialization of Keras layer <keras.layers.convolutional.SeparableConv2D object at 0x7faf70241950>, because it is not built.\n",
            "WARNING:tensorflow:Skipping full serialization of Keras layer <object_detection.core.freezable_batch_norm.FreezableBatchNorm object at 0x7faf5c287790>, because it is not built.\n",
            "W0908 20:59:50.620438 140395984021376 save_impl.py:72] Skipping full serialization of Keras layer <object_detection.core.freezable_batch_norm.FreezableBatchNorm object at 0x7faf5c287790>, because it is not built.\n",
            "WARNING:tensorflow:Skipping full serialization of Keras layer <keras.layers.core.lambda_layer.Lambda object at 0x7faf5c46dd90>, because it is not built.\n",
            "W0908 20:59:50.620558 140395984021376 save_impl.py:72] Skipping full serialization of Keras layer <keras.layers.core.lambda_layer.Lambda object at 0x7faf5c46dd90>, because it is not built.\n",
            "WARNING:tensorflow:Skipping full serialization of Keras layer <keras.layers.convolutional.SeparableConv2D object at 0x7faf5c56e3d0>, because it is not built.\n",
            "W0908 20:59:50.620650 140395984021376 save_impl.py:72] Skipping full serialization of Keras layer <keras.layers.convolutional.SeparableConv2D object at 0x7faf5c56e3d0>, because it is not built.\n",
            "WARNING:tensorflow:Skipping full serialization of Keras layer <object_detection.core.freezable_batch_norm.FreezableBatchNorm object at 0x7faf59f8cf90>, because it is not built.\n",
            "W0908 20:59:50.620757 140395984021376 save_impl.py:72] Skipping full serialization of Keras layer <object_detection.core.freezable_batch_norm.FreezableBatchNorm object at 0x7faf59f8cf90>, because it is not built.\n",
            "WARNING:tensorflow:Skipping full serialization of Keras layer <keras.layers.core.lambda_layer.Lambda object at 0x7faf5c2e2410>, because it is not built.\n",
            "W0908 20:59:50.620846 140395984021376 save_impl.py:72] Skipping full serialization of Keras layer <keras.layers.core.lambda_layer.Lambda object at 0x7faf5c2e2410>, because it is not built.\n",
            "WARNING:tensorflow:Skipping full serialization of Keras layer <keras.layers.convolutional.SeparableConv2D object at 0x7faf5c2e2bd0>, because it is not built.\n",
            "W0908 20:59:50.620934 140395984021376 save_impl.py:72] Skipping full serialization of Keras layer <keras.layers.convolutional.SeparableConv2D object at 0x7faf5c2e2bd0>, because it is not built.\n",
            "WARNING:tensorflow:Skipping full serialization of Keras layer <object_detection.core.freezable_batch_norm.FreezableBatchNorm object at 0x7faf59f63d50>, because it is not built.\n",
            "W0908 20:59:50.621016 140395984021376 save_impl.py:72] Skipping full serialization of Keras layer <object_detection.core.freezable_batch_norm.FreezableBatchNorm object at 0x7faf59f63d50>, because it is not built.\n",
            "WARNING:tensorflow:Skipping full serialization of Keras layer <keras.layers.core.lambda_layer.Lambda object at 0x7faf59f634d0>, because it is not built.\n",
            "W0908 20:59:50.621095 140395984021376 save_impl.py:72] Skipping full serialization of Keras layer <keras.layers.core.lambda_layer.Lambda object at 0x7faf59f634d0>, because it is not built.\n",
            "WARNING:tensorflow:Skipping full serialization of Keras layer <keras.layers.convolutional.SeparableConv2D object at 0x7faf59f63fd0>, because it is not built.\n",
            "W0908 20:59:50.621174 140395984021376 save_impl.py:72] Skipping full serialization of Keras layer <keras.layers.convolutional.SeparableConv2D object at 0x7faf59f63fd0>, because it is not built.\n",
            "WARNING:tensorflow:Skipping full serialization of Keras layer <object_detection.core.freezable_batch_norm.FreezableBatchNorm object at 0x7faf5c580710>, because it is not built.\n",
            "W0908 20:59:50.621327 140395984021376 save_impl.py:72] Skipping full serialization of Keras layer <object_detection.core.freezable_batch_norm.FreezableBatchNorm object at 0x7faf5c580710>, because it is not built.\n",
            "WARNING:tensorflow:Skipping full serialization of Keras layer <keras.layers.core.lambda_layer.Lambda object at 0x7faf59f63390>, because it is not built.\n",
            "W0908 20:59:50.621490 140395984021376 save_impl.py:72] Skipping full serialization of Keras layer <keras.layers.core.lambda_layer.Lambda object at 0x7faf59f63390>, because it is not built.\n",
            "WARNING:tensorflow:Skipping full serialization of Keras layer <object_detection.core.freezable_batch_norm.FreezableBatchNorm object at 0x7faf70241bd0>, because it is not built.\n",
            "W0908 20:59:50.621620 140395984021376 save_impl.py:72] Skipping full serialization of Keras layer <object_detection.core.freezable_batch_norm.FreezableBatchNorm object at 0x7faf70241bd0>, because it is not built.\n",
            "WARNING:tensorflow:Skipping full serialization of Keras layer <keras.layers.core.lambda_layer.Lambda object at 0x7faf5c375350>, because it is not built.\n",
            "W0908 20:59:50.621732 140395984021376 save_impl.py:72] Skipping full serialization of Keras layer <keras.layers.core.lambda_layer.Lambda object at 0x7faf5c375350>, because it is not built.\n",
            "WARNING:tensorflow:Skipping full serialization of Keras layer <object_detection.core.freezable_batch_norm.FreezableBatchNorm object at 0x7faf59e49bd0>, because it is not built.\n",
            "W0908 20:59:50.621839 140395984021376 save_impl.py:72] Skipping full serialization of Keras layer <object_detection.core.freezable_batch_norm.FreezableBatchNorm object at 0x7faf59e49bd0>, because it is not built.\n",
            "WARNING:tensorflow:Skipping full serialization of Keras layer <keras.layers.core.lambda_layer.Lambda object at 0x7faf59ea91d0>, because it is not built.\n",
            "W0908 20:59:50.621938 140395984021376 save_impl.py:72] Skipping full serialization of Keras layer <keras.layers.core.lambda_layer.Lambda object at 0x7faf59ea91d0>, because it is not built.\n",
            "WARNING:tensorflow:Skipping full serialization of Keras layer <object_detection.core.freezable_batch_norm.FreezableBatchNorm object at 0x7faf59e41cd0>, because it is not built.\n",
            "W0908 20:59:50.622035 140395984021376 save_impl.py:72] Skipping full serialization of Keras layer <object_detection.core.freezable_batch_norm.FreezableBatchNorm object at 0x7faf59e41cd0>, because it is not built.\n",
            "WARNING:tensorflow:Skipping full serialization of Keras layer <keras.layers.core.lambda_layer.Lambda object at 0x7faf59ea9750>, because it is not built.\n",
            "W0908 20:59:50.622130 140395984021376 save_impl.py:72] Skipping full serialization of Keras layer <keras.layers.core.lambda_layer.Lambda object at 0x7faf59ea9750>, because it is not built.\n",
            "WARNING:tensorflow:Skipping full serialization of Keras layer <object_detection.core.freezable_batch_norm.FreezableBatchNorm object at 0x7faf5c3ed4d0>, because it is not built.\n",
            "W0908 20:59:50.622224 140395984021376 save_impl.py:72] Skipping full serialization of Keras layer <object_detection.core.freezable_batch_norm.FreezableBatchNorm object at 0x7faf5c3ed4d0>, because it is not built.\n",
            "WARNING:tensorflow:Skipping full serialization of Keras layer <keras.layers.core.lambda_layer.Lambda object at 0x7faf59f8c7d0>, because it is not built.\n",
            "W0908 20:59:50.622319 140395984021376 save_impl.py:72] Skipping full serialization of Keras layer <keras.layers.core.lambda_layer.Lambda object at 0x7faf59f8c7d0>, because it is not built.\n",
            "WARNING:tensorflow:Skipping full serialization of Keras layer <object_detection.core.freezable_batch_norm.FreezableBatchNorm object at 0x7faf70241c10>, because it is not built.\n",
            "W0908 20:59:50.622414 140395984021376 save_impl.py:72] Skipping full serialization of Keras layer <object_detection.core.freezable_batch_norm.FreezableBatchNorm object at 0x7faf70241c10>, because it is not built.\n",
            "WARNING:tensorflow:Skipping full serialization of Keras layer <keras.layers.core.lambda_layer.Lambda object at 0x7faf59f7c8d0>, because it is not built.\n",
            "W0908 20:59:50.622518 140395984021376 save_impl.py:72] Skipping full serialization of Keras layer <keras.layers.core.lambda_layer.Lambda object at 0x7faf59f7c8d0>, because it is not built.\n",
            "WARNING:tensorflow:Skipping full serialization of Keras layer <object_detection.core.freezable_batch_norm.FreezableBatchNorm object at 0x7faf59f7c410>, because it is not built.\n",
            "W0908 20:59:50.622627 140395984021376 save_impl.py:72] Skipping full serialization of Keras layer <object_detection.core.freezable_batch_norm.FreezableBatchNorm object at 0x7faf59f7c410>, because it is not built.\n",
            "WARNING:tensorflow:Skipping full serialization of Keras layer <keras.layers.core.lambda_layer.Lambda object at 0x7faf59f7c210>, because it is not built.\n",
            "W0908 20:59:50.622799 140395984021376 save_impl.py:72] Skipping full serialization of Keras layer <keras.layers.core.lambda_layer.Lambda object at 0x7faf59f7c210>, because it is not built.\n",
            "WARNING:tensorflow:Skipping full serialization of Keras layer <object_detection.core.freezable_batch_norm.FreezableBatchNorm object at 0x7faf59f7c2d0>, because it is not built.\n",
            "W0908 20:59:50.622948 140395984021376 save_impl.py:72] Skipping full serialization of Keras layer <object_detection.core.freezable_batch_norm.FreezableBatchNorm object at 0x7faf59f7c2d0>, because it is not built.\n",
            "WARNING:tensorflow:Skipping full serialization of Keras layer <keras.layers.core.lambda_layer.Lambda object at 0x7faf59f7cb10>, because it is not built.\n",
            "W0908 20:59:50.623064 140395984021376 save_impl.py:72] Skipping full serialization of Keras layer <keras.layers.core.lambda_layer.Lambda object at 0x7faf59f7cb10>, because it is not built.\n",
            "WARNING:tensorflow:Skipping full serialization of Keras layer <object_detection.core.freezable_batch_norm.FreezableBatchNorm object at 0x7faf59f7c190>, because it is not built.\n",
            "W0908 20:59:50.623178 140395984021376 save_impl.py:72] Skipping full serialization of Keras layer <object_detection.core.freezable_batch_norm.FreezableBatchNorm object at 0x7faf59f7c190>, because it is not built.\n",
            "WARNING:tensorflow:Skipping full serialization of Keras layer <keras.layers.core.lambda_layer.Lambda object at 0x7faf5c7221d0>, because it is not built.\n",
            "W0908 20:59:50.623293 140395984021376 save_impl.py:72] Skipping full serialization of Keras layer <keras.layers.core.lambda_layer.Lambda object at 0x7faf5c7221d0>, because it is not built.\n",
            "WARNING:tensorflow:Skipping full serialization of Keras layer <object_detection.core.freezable_batch_norm.FreezableBatchNorm object at 0x7faf59e101d0>, because it is not built.\n",
            "W0908 20:59:50.623416 140395984021376 save_impl.py:72] Skipping full serialization of Keras layer <object_detection.core.freezable_batch_norm.FreezableBatchNorm object at 0x7faf59e101d0>, because it is not built.\n",
            "WARNING:tensorflow:Skipping full serialization of Keras layer <keras.layers.core.lambda_layer.Lambda object at 0x7faf59e21f50>, because it is not built.\n",
            "W0908 20:59:50.623547 140395984021376 save_impl.py:72] Skipping full serialization of Keras layer <keras.layers.core.lambda_layer.Lambda object at 0x7faf59e21f50>, because it is not built.\n",
            "WARNING:tensorflow:Skipping full serialization of Keras layer <object_detection.core.freezable_batch_norm.FreezableBatchNorm object at 0x7faf59fd0a50>, because it is not built.\n",
            "W0908 20:59:50.623661 140395984021376 save_impl.py:72] Skipping full serialization of Keras layer <object_detection.core.freezable_batch_norm.FreezableBatchNorm object at 0x7faf59fd0a50>, because it is not built.\n",
            "WARNING:tensorflow:Skipping full serialization of Keras layer <keras.layers.core.lambda_layer.Lambda object at 0x7faf5c0b2d10>, because it is not built.\n",
            "W0908 20:59:50.623801 140395984021376 save_impl.py:72] Skipping full serialization of Keras layer <keras.layers.core.lambda_layer.Lambda object at 0x7faf5c0b2d10>, because it is not built.\n",
            "WARNING:tensorflow:Skipping full serialization of Keras layer <object_detection.core.freezable_batch_norm.FreezableBatchNorm object at 0x7faf5c0b2450>, because it is not built.\n",
            "W0908 20:59:50.623919 140395984021376 save_impl.py:72] Skipping full serialization of Keras layer <object_detection.core.freezable_batch_norm.FreezableBatchNorm object at 0x7faf5c0b2450>, because it is not built.\n",
            "WARNING:tensorflow:Skipping full serialization of Keras layer <keras.layers.core.lambda_layer.Lambda object at 0x7faf5c09ab50>, because it is not built.\n",
            "W0908 20:59:50.624025 140395984021376 save_impl.py:72] Skipping full serialization of Keras layer <keras.layers.core.lambda_layer.Lambda object at 0x7faf5c09ab50>, because it is not built.\n",
            "WARNING:tensorflow:Skipping full serialization of Keras layer <object_detection.core.freezable_batch_norm.FreezableBatchNorm object at 0x7faf5c3bd910>, because it is not built.\n",
            "W0908 20:59:50.624144 140395984021376 save_impl.py:72] Skipping full serialization of Keras layer <object_detection.core.freezable_batch_norm.FreezableBatchNorm object at 0x7faf5c3bd910>, because it is not built.\n",
            "WARNING:tensorflow:Skipping full serialization of Keras layer <keras.layers.core.lambda_layer.Lambda object at 0x7faf59dcb7d0>, because it is not built.\n",
            "W0908 20:59:50.624256 140395984021376 save_impl.py:72] Skipping full serialization of Keras layer <keras.layers.core.lambda_layer.Lambda object at 0x7faf59dcb7d0>, because it is not built.\n",
            "WARNING:tensorflow:Skipping full serialization of Keras layer <object_detection.core.freezable_batch_norm.FreezableBatchNorm object at 0x7faf70241c50>, because it is not built.\n",
            "W0908 20:59:50.624379 140395984021376 save_impl.py:72] Skipping full serialization of Keras layer <object_detection.core.freezable_batch_norm.FreezableBatchNorm object at 0x7faf70241c50>, because it is not built.\n",
            "WARNING:tensorflow:Skipping full serialization of Keras layer <keras.layers.core.lambda_layer.Lambda object at 0x7faf59f1ecd0>, because it is not built.\n",
            "W0908 20:59:50.624505 140395984021376 save_impl.py:72] Skipping full serialization of Keras layer <keras.layers.core.lambda_layer.Lambda object at 0x7faf59f1ecd0>, because it is not built.\n",
            "WARNING:tensorflow:Skipping full serialization of Keras layer <object_detection.core.freezable_batch_norm.FreezableBatchNorm object at 0x7faf59f93210>, because it is not built.\n",
            "W0908 20:59:50.624628 140395984021376 save_impl.py:72] Skipping full serialization of Keras layer <object_detection.core.freezable_batch_norm.FreezableBatchNorm object at 0x7faf59f93210>, because it is not built.\n",
            "WARNING:tensorflow:Skipping full serialization of Keras layer <keras.layers.core.lambda_layer.Lambda object at 0x7faf59f936d0>, because it is not built.\n",
            "W0908 20:59:50.624762 140395984021376 save_impl.py:72] Skipping full serialization of Keras layer <keras.layers.core.lambda_layer.Lambda object at 0x7faf59f936d0>, because it is not built.\n",
            "WARNING:tensorflow:Skipping full serialization of Keras layer <object_detection.core.freezable_batch_norm.FreezableBatchNorm object at 0x7faf59fa8850>, because it is not built.\n",
            "W0908 20:59:50.624889 140395984021376 save_impl.py:72] Skipping full serialization of Keras layer <object_detection.core.freezable_batch_norm.FreezableBatchNorm object at 0x7faf59fa8850>, because it is not built.\n",
            "WARNING:tensorflow:Skipping full serialization of Keras layer <keras.layers.core.lambda_layer.Lambda object at 0x7faf59fa8c90>, because it is not built.\n",
            "W0908 20:59:50.625014 140395984021376 save_impl.py:72] Skipping full serialization of Keras layer <keras.layers.core.lambda_layer.Lambda object at 0x7faf59fa8c90>, because it is not built.\n",
            "WARNING:tensorflow:Skipping full serialization of Keras layer <object_detection.core.freezable_batch_norm.FreezableBatchNorm object at 0x7faf59fa8650>, because it is not built.\n",
            "W0908 20:59:50.625152 140395984021376 save_impl.py:72] Skipping full serialization of Keras layer <object_detection.core.freezable_batch_norm.FreezableBatchNorm object at 0x7faf59fa8650>, because it is not built.\n",
            "WARNING:tensorflow:Skipping full serialization of Keras layer <keras.layers.core.lambda_layer.Lambda object at 0x7faf59fa8ad0>, because it is not built.\n",
            "W0908 20:59:50.625276 140395984021376 save_impl.py:72] Skipping full serialization of Keras layer <keras.layers.core.lambda_layer.Lambda object at 0x7faf59fa8ad0>, because it is not built.\n",
            "W0908 21:00:07.047210 140395984021376 save.py:265] Found untraced functions such as WeightSharedConvolutionalBoxPredictor_layer_call_fn, WeightSharedConvolutionalBoxPredictor_layer_call_and_return_conditional_losses, WeightSharedConvolutionalBoxHead_layer_call_fn, WeightSharedConvolutionalBoxHead_layer_call_and_return_conditional_losses, WeightSharedConvolutionalClassHead_layer_call_fn while saving (showing 5 of 104). These functions will not be directly callable after loading.\n",
            "INFO:tensorflow:Assets written to: Tensorflow/workspace/models/my_ssd_mobilenet_v2/export/saved_model/assets\n",
            "I0908 21:00:12.897922 140395984021376 builder_impl.py:780] Assets written to: Tensorflow/workspace/models/my_ssd_mobilenet_v2/export/saved_model/assets\n",
            "INFO:tensorflow:Writing pipeline config file to Tensorflow/workspace/models/my_ssd_mobilenet_v2/export/pipeline.config\n",
            "I0908 21:00:13.830915 140395984021376 config_util.py:254] Writing pipeline config file to Tensorflow/workspace/models/my_ssd_mobilenet_v2/export/pipeline.config\n"
          ]
        }
      ],
      "source": [
        "!{command}"
      ]
    },
    {
      "cell_type": "markdown",
      "metadata": {
        "id": "wTPmdqaXpfDK"
      },
      "source": [
        "# 11. Conversion to TFJS"
      ]
    },
    {
      "cell_type": "code",
      "execution_count": null,
      "metadata": {
        "id": "gZ6UzY_fpfDK",
        "scrolled": true
      },
      "outputs": [],
      "source": [
        "!pip install tensorflowjs"
      ]
    },
    {
      "cell_type": "code",
      "execution_count": null,
      "metadata": {
        "id": "0oxbVynHpfDK"
      },
      "outputs": [],
      "source": [
        "command = \"tensorflowjs_converter --input_format=tf_saved_model --output_node_names='detection_boxes,detection_classes,detection_features,detection_multiclass_scores,detection_scores,num_detections,raw_detection_boxes,raw_detection_scores' --output_format=tfjs_graph_model --signature_name=serving_default {} {}\".format(os.path.join(paths['OUTPUT_PATH'], 'saved_model'), paths['TFJS_PATH'])"
      ]
    },
    {
      "cell_type": "code",
      "execution_count": null,
      "metadata": {
        "id": "DB2AGNmJpfDK"
      },
      "outputs": [],
      "source": [
        "print(command)"
      ]
    },
    {
      "cell_type": "code",
      "execution_count": null,
      "metadata": {
        "id": "K7rfT4-hpfDK"
      },
      "outputs": [],
      "source": [
        "!{command}"
      ]
    },
    {
      "cell_type": "code",
      "execution_count": null,
      "metadata": {
        "id": "o8_hm-itpfDK"
      },
      "outputs": [],
      "source": [
        "# Test Code: https://github.com/nicknochnack/RealTimeSignLanguageDetectionwithTFJS"
      ]
    },
    {
      "cell_type": "markdown",
      "metadata": {
        "id": "VtUw73FHpfDK"
      },
      "source": [
        "# 12. Conversion to TFLite"
      ]
    },
    {
      "cell_type": "code",
      "execution_count": 88,
      "metadata": {
        "id": "XviMtewLpfDK"
      },
      "outputs": [],
      "source": [
        "TFLITE_SCRIPT = os.path.join(paths['APIMODEL_PATH'], 'research', 'object_detection', 'export_tflite_graph_tf2.py ')"
      ]
    },
    {
      "cell_type": "code",
      "execution_count": 89,
      "metadata": {
        "id": "us86cjC4pfDL"
      },
      "outputs": [],
      "source": [
        "command = \"python {} --pipeline_config_path={} --trained_checkpoint_dir={} --output_directory={}\".format(TFLITE_SCRIPT ,files['PIPELINE_CONFIG'], paths['CHECKPOINT_PATH'], paths['TFLITE_PATH'])"
      ]
    },
    {
      "cell_type": "code",
      "execution_count": 90,
      "metadata": {
        "colab": {
          "base_uri": "https://localhost:8080/"
        },
        "id": "n1r5YO3rpfDL",
        "outputId": "4de16c25-fbd5-42c1-fb38-9946ac551e64"
      },
      "outputs": [
        {
          "output_type": "stream",
          "name": "stdout",
          "text": [
            "python Tensorflow/models/research/object_detection/export_tflite_graph_tf2.py  --pipeline_config_path=Tensorflow/workspace/models/my_ssd_mobilenet_v2/pipeline.config --trained_checkpoint_dir=Tensorflow/workspace/models/my_ssd_mobilenet_v2 --output_directory=Tensorflow/workspace/models/my_ssd_mobilenet_v2/tfliteexport\n"
          ]
        }
      ],
      "source": [
        "print(command)"
      ]
    },
    {
      "cell_type": "code",
      "execution_count": 91,
      "metadata": {
        "colab": {
          "base_uri": "https://localhost:8080/"
        },
        "id": "I-xWpHN8pfDL",
        "outputId": "1f66730f-00ab-4093-8a4f-a2b9e0a39bbe"
      },
      "outputs": [
        {
          "output_type": "stream",
          "name": "stdout",
          "text": [
            "2022-09-08 21:00:19.288646: W tensorflow/core/common_runtime/gpu/gpu_bfc_allocator.cc:39] Overriding allow_growth setting because the TF_FORCE_GPU_ALLOW_GROWTH environment variable is set. Original config value was 0.\n",
            "2022-09-08 21:00:28.229869: W tensorflow/python/util/util.cc:368] Sets are not currently considered sequences, but this may change in the future, so consider avoiding using them.\n",
            "WARNING:tensorflow:Skipping full serialization of Keras layer <object_detection.meta_architectures.ssd_meta_arch.SSDMetaArch object at 0x7f9a0e2dcbd0>, because it is not built.\n",
            "W0908 21:00:30.318610 140304152987520 save_impl.py:72] Skipping full serialization of Keras layer <object_detection.meta_architectures.ssd_meta_arch.SSDMetaArch object at 0x7f9a0e2dcbd0>, because it is not built.\n",
            "WARNING:tensorflow:Skipping full serialization of Keras layer <keras.layers.convolutional.SeparableConv2D object at 0x7f9a0e1a2fd0>, because it is not built.\n",
            "W0908 21:00:30.578806 140304152987520 save_impl.py:72] Skipping full serialization of Keras layer <keras.layers.convolutional.SeparableConv2D object at 0x7f9a0e1a2fd0>, because it is not built.\n",
            "WARNING:tensorflow:Skipping full serialization of Keras layer <object_detection.core.freezable_batch_norm.FreezableBatchNorm object at 0x7f99faedbd50>, because it is not built.\n",
            "W0908 21:00:30.579031 140304152987520 save_impl.py:72] Skipping full serialization of Keras layer <object_detection.core.freezable_batch_norm.FreezableBatchNorm object at 0x7f99faedbd50>, because it is not built.\n",
            "WARNING:tensorflow:Skipping full serialization of Keras layer <keras.layers.core.lambda_layer.Lambda object at 0x7f99fabb2950>, because it is not built.\n",
            "W0908 21:00:30.579151 140304152987520 save_impl.py:72] Skipping full serialization of Keras layer <keras.layers.core.lambda_layer.Lambda object at 0x7f99fabb2950>, because it is not built.\n",
            "WARNING:tensorflow:Skipping full serialization of Keras layer <keras.layers.convolutional.SeparableConv2D object at 0x7f99fa904890>, because it is not built.\n",
            "W0908 21:00:30.579242 140304152987520 save_impl.py:72] Skipping full serialization of Keras layer <keras.layers.convolutional.SeparableConv2D object at 0x7f99fa904890>, because it is not built.\n",
            "WARNING:tensorflow:Skipping full serialization of Keras layer <object_detection.core.freezable_batch_norm.FreezableBatchNorm object at 0x7f9a0e1c9450>, because it is not built.\n",
            "W0908 21:00:30.579332 140304152987520 save_impl.py:72] Skipping full serialization of Keras layer <object_detection.core.freezable_batch_norm.FreezableBatchNorm object at 0x7f9a0e1c9450>, because it is not built.\n",
            "WARNING:tensorflow:Skipping full serialization of Keras layer <keras.layers.core.lambda_layer.Lambda object at 0x7f99fa9d0050>, because it is not built.\n",
            "W0908 21:00:30.579417 140304152987520 save_impl.py:72] Skipping full serialization of Keras layer <keras.layers.core.lambda_layer.Lambda object at 0x7f99fa9d0050>, because it is not built.\n",
            "WARNING:tensorflow:Skipping full serialization of Keras layer <keras.layers.convolutional.SeparableConv2D object at 0x7f99fa92b450>, because it is not built.\n",
            "W0908 21:00:30.579504 140304152987520 save_impl.py:72] Skipping full serialization of Keras layer <keras.layers.convolutional.SeparableConv2D object at 0x7f99fa92b450>, because it is not built.\n",
            "WARNING:tensorflow:Skipping full serialization of Keras layer <object_detection.core.freezable_batch_norm.FreezableBatchNorm object at 0x7f99faf34210>, because it is not built.\n",
            "W0908 21:00:30.579582 140304152987520 save_impl.py:72] Skipping full serialization of Keras layer <object_detection.core.freezable_batch_norm.FreezableBatchNorm object at 0x7f99faf34210>, because it is not built.\n",
            "WARNING:tensorflow:Skipping full serialization of Keras layer <keras.layers.core.lambda_layer.Lambda object at 0x7f99fa8f98d0>, because it is not built.\n",
            "W0908 21:00:30.579665 140304152987520 save_impl.py:72] Skipping full serialization of Keras layer <keras.layers.core.lambda_layer.Lambda object at 0x7f99fa8f98d0>, because it is not built.\n",
            "WARNING:tensorflow:Skipping full serialization of Keras layer <keras.layers.convolutional.SeparableConv2D object at 0x7f99faf34510>, because it is not built.\n",
            "W0908 21:00:30.579755 140304152987520 save_impl.py:72] Skipping full serialization of Keras layer <keras.layers.convolutional.SeparableConv2D object at 0x7f99faf34510>, because it is not built.\n",
            "WARNING:tensorflow:Skipping full serialization of Keras layer <object_detection.core.freezable_batch_norm.FreezableBatchNorm object at 0x7f99faed2650>, because it is not built.\n",
            "W0908 21:00:30.579853 140304152987520 save_impl.py:72] Skipping full serialization of Keras layer <object_detection.core.freezable_batch_norm.FreezableBatchNorm object at 0x7f99faed2650>, because it is not built.\n",
            "WARNING:tensorflow:Skipping full serialization of Keras layer <keras.layers.core.lambda_layer.Lambda object at 0x7f99fae69a10>, because it is not built.\n",
            "W0908 21:00:30.579952 140304152987520 save_impl.py:72] Skipping full serialization of Keras layer <keras.layers.core.lambda_layer.Lambda object at 0x7f99fae69a10>, because it is not built.\n",
            "WARNING:tensorflow:Skipping full serialization of Keras layer <object_detection.core.freezable_batch_norm.FreezableBatchNorm object at 0x7f9a0e1acad0>, because it is not built.\n",
            "W0908 21:00:30.580040 140304152987520 save_impl.py:72] Skipping full serialization of Keras layer <object_detection.core.freezable_batch_norm.FreezableBatchNorm object at 0x7f9a0e1acad0>, because it is not built.\n",
            "WARNING:tensorflow:Skipping full serialization of Keras layer <keras.layers.core.lambda_layer.Lambda object at 0x7f99fabce1d0>, because it is not built.\n",
            "W0908 21:00:30.580169 140304152987520 save_impl.py:72] Skipping full serialization of Keras layer <keras.layers.core.lambda_layer.Lambda object at 0x7f99fabce1d0>, because it is not built.\n",
            "WARNING:tensorflow:Skipping full serialization of Keras layer <object_detection.core.freezable_batch_norm.FreezableBatchNorm object at 0x7f99fabcec50>, because it is not built.\n",
            "W0908 21:00:30.580259 140304152987520 save_impl.py:72] Skipping full serialization of Keras layer <object_detection.core.freezable_batch_norm.FreezableBatchNorm object at 0x7f99fabcec50>, because it is not built.\n",
            "WARNING:tensorflow:Skipping full serialization of Keras layer <keras.layers.core.lambda_layer.Lambda object at 0x7f99fac7abd0>, because it is not built.\n",
            "W0908 21:00:30.580353 140304152987520 save_impl.py:72] Skipping full serialization of Keras layer <keras.layers.core.lambda_layer.Lambda object at 0x7f99fac7abd0>, because it is not built.\n",
            "WARNING:tensorflow:Skipping full serialization of Keras layer <object_detection.core.freezable_batch_norm.FreezableBatchNorm object at 0x7f99fa936c10>, because it is not built.\n",
            "W0908 21:00:30.580468 140304152987520 save_impl.py:72] Skipping full serialization of Keras layer <object_detection.core.freezable_batch_norm.FreezableBatchNorm object at 0x7f99fa936c10>, because it is not built.\n",
            "WARNING:tensorflow:Skipping full serialization of Keras layer <keras.layers.core.lambda_layer.Lambda object at 0x7f99faeabbd0>, because it is not built.\n",
            "W0908 21:00:30.580560 140304152987520 save_impl.py:72] Skipping full serialization of Keras layer <keras.layers.core.lambda_layer.Lambda object at 0x7f99faeabbd0>, because it is not built.\n",
            "WARNING:tensorflow:Skipping full serialization of Keras layer <object_detection.core.freezable_batch_norm.FreezableBatchNorm object at 0x7f99fa67f850>, because it is not built.\n",
            "W0908 21:00:30.580655 140304152987520 save_impl.py:72] Skipping full serialization of Keras layer <object_detection.core.freezable_batch_norm.FreezableBatchNorm object at 0x7f99fa67f850>, because it is not built.\n",
            "WARNING:tensorflow:Skipping full serialization of Keras layer <keras.layers.core.lambda_layer.Lambda object at 0x7f9a0e0d5910>, because it is not built.\n",
            "W0908 21:00:30.580771 140304152987520 save_impl.py:72] Skipping full serialization of Keras layer <keras.layers.core.lambda_layer.Lambda object at 0x7f9a0e0d5910>, because it is not built.\n",
            "WARNING:tensorflow:Skipping full serialization of Keras layer <object_detection.core.freezable_batch_norm.FreezableBatchNorm object at 0x7f9a0e1acb10>, because it is not built.\n",
            "W0908 21:00:30.580876 140304152987520 save_impl.py:72] Skipping full serialization of Keras layer <object_detection.core.freezable_batch_norm.FreezableBatchNorm object at 0x7f9a0e1acb10>, because it is not built.\n",
            "WARNING:tensorflow:Skipping full serialization of Keras layer <keras.layers.core.lambda_layer.Lambda object at 0x7f99faedf390>, because it is not built.\n",
            "W0908 21:00:30.580979 140304152987520 save_impl.py:72] Skipping full serialization of Keras layer <keras.layers.core.lambda_layer.Lambda object at 0x7f99faedf390>, because it is not built.\n",
            "WARNING:tensorflow:Skipping full serialization of Keras layer <object_detection.core.freezable_batch_norm.FreezableBatchNorm object at 0x7f99fafbb550>, because it is not built.\n",
            "W0908 21:00:30.581075 140304152987520 save_impl.py:72] Skipping full serialization of Keras layer <object_detection.core.freezable_batch_norm.FreezableBatchNorm object at 0x7f99fafbb550>, because it is not built.\n",
            "WARNING:tensorflow:Skipping full serialization of Keras layer <keras.layers.core.lambda_layer.Lambda object at 0x7f99faedf690>, because it is not built.\n",
            "W0908 21:00:30.581169 140304152987520 save_impl.py:72] Skipping full serialization of Keras layer <keras.layers.core.lambda_layer.Lambda object at 0x7f99faedf690>, because it is not built.\n",
            "WARNING:tensorflow:Skipping full serialization of Keras layer <object_detection.core.freezable_batch_norm.FreezableBatchNorm object at 0x7f99fab89450>, because it is not built.\n",
            "W0908 21:00:30.581265 140304152987520 save_impl.py:72] Skipping full serialization of Keras layer <object_detection.core.freezable_batch_norm.FreezableBatchNorm object at 0x7f99fab89450>, because it is not built.\n",
            "WARNING:tensorflow:Skipping full serialization of Keras layer <keras.layers.core.lambda_layer.Lambda object at 0x7f99faf85f90>, because it is not built.\n",
            "W0908 21:00:30.581380 140304152987520 save_impl.py:72] Skipping full serialization of Keras layer <keras.layers.core.lambda_layer.Lambda object at 0x7f99faf85f90>, because it is not built.\n",
            "WARNING:tensorflow:Skipping full serialization of Keras layer <object_detection.core.freezable_batch_norm.FreezableBatchNorm object at 0x7f99fa9ffe10>, because it is not built.\n",
            "W0908 21:00:30.581469 140304152987520 save_impl.py:72] Skipping full serialization of Keras layer <object_detection.core.freezable_batch_norm.FreezableBatchNorm object at 0x7f99fa9ffe10>, because it is not built.\n",
            "WARNING:tensorflow:Skipping full serialization of Keras layer <keras.layers.core.lambda_layer.Lambda object at 0x7f99faa2b610>, because it is not built.\n",
            "W0908 21:00:30.581554 140304152987520 save_impl.py:72] Skipping full serialization of Keras layer <keras.layers.core.lambda_layer.Lambda object at 0x7f99faa2b610>, because it is not built.\n",
            "WARNING:tensorflow:Skipping full serialization of Keras layer <object_detection.core.freezable_batch_norm.FreezableBatchNorm object at 0x7f99faff63d0>, because it is not built.\n",
            "W0908 21:00:30.581633 140304152987520 save_impl.py:72] Skipping full serialization of Keras layer <object_detection.core.freezable_batch_norm.FreezableBatchNorm object at 0x7f99faff63d0>, because it is not built.\n",
            "WARNING:tensorflow:Skipping full serialization of Keras layer <keras.layers.core.lambda_layer.Lambda object at 0x7f99fae88a90>, because it is not built.\n",
            "W0908 21:00:30.581719 140304152987520 save_impl.py:72] Skipping full serialization of Keras layer <keras.layers.core.lambda_layer.Lambda object at 0x7f99fae88a90>, because it is not built.\n",
            "WARNING:tensorflow:Skipping full serialization of Keras layer <object_detection.core.freezable_batch_norm.FreezableBatchNorm object at 0x7f99faf57750>, because it is not built.\n",
            "W0908 21:00:30.581803 140304152987520 save_impl.py:72] Skipping full serialization of Keras layer <object_detection.core.freezable_batch_norm.FreezableBatchNorm object at 0x7f99faf57750>, because it is not built.\n",
            "WARNING:tensorflow:Skipping full serialization of Keras layer <keras.layers.core.lambda_layer.Lambda object at 0x7f99fab88190>, because it is not built.\n",
            "W0908 21:00:30.581884 140304152987520 save_impl.py:72] Skipping full serialization of Keras layer <keras.layers.core.lambda_layer.Lambda object at 0x7f99fab88190>, because it is not built.\n",
            "WARNING:tensorflow:Skipping full serialization of Keras layer <object_detection.core.freezable_batch_norm.FreezableBatchNorm object at 0x7f9a0e0a63d0>, because it is not built.\n",
            "W0908 21:00:30.581961 140304152987520 save_impl.py:72] Skipping full serialization of Keras layer <object_detection.core.freezable_batch_norm.FreezableBatchNorm object at 0x7f9a0e0a63d0>, because it is not built.\n",
            "WARNING:tensorflow:Skipping full serialization of Keras layer <keras.layers.core.lambda_layer.Lambda object at 0x7f99fad6dd90>, because it is not built.\n",
            "W0908 21:00:30.582038 140304152987520 save_impl.py:72] Skipping full serialization of Keras layer <keras.layers.core.lambda_layer.Lambda object at 0x7f99fad6dd90>, because it is not built.\n",
            "WARNING:tensorflow:Skipping full serialization of Keras layer <object_detection.core.freezable_batch_norm.FreezableBatchNorm object at 0x7f99faa21450>, because it is not built.\n",
            "W0908 21:00:30.582114 140304152987520 save_impl.py:72] Skipping full serialization of Keras layer <object_detection.core.freezable_batch_norm.FreezableBatchNorm object at 0x7f99faa21450>, because it is not built.\n",
            "WARNING:tensorflow:Skipping full serialization of Keras layer <keras.layers.core.lambda_layer.Lambda object at 0x7f99fae61350>, because it is not built.\n",
            "W0908 21:00:30.582193 140304152987520 save_impl.py:72] Skipping full serialization of Keras layer <keras.layers.core.lambda_layer.Lambda object at 0x7f99fae61350>, because it is not built.\n",
            "WARNING:tensorflow:Skipping full serialization of Keras layer <object_detection.core.freezable_batch_norm.FreezableBatchNorm object at 0x7f9a0e1acb50>, because it is not built.\n",
            "W0908 21:00:30.582269 140304152987520 save_impl.py:72] Skipping full serialization of Keras layer <object_detection.core.freezable_batch_norm.FreezableBatchNorm object at 0x7f9a0e1acb50>, because it is not built.\n",
            "WARNING:tensorflow:Skipping full serialization of Keras layer <keras.layers.core.lambda_layer.Lambda object at 0x7f9a0e144d50>, because it is not built.\n",
            "W0908 21:00:30.582348 140304152987520 save_impl.py:72] Skipping full serialization of Keras layer <keras.layers.core.lambda_layer.Lambda object at 0x7f9a0e144d50>, because it is not built.\n",
            "WARNING:tensorflow:Skipping full serialization of Keras layer <object_detection.core.freezable_batch_norm.FreezableBatchNorm object at 0x7f99fac27150>, because it is not built.\n",
            "W0908 21:00:30.582424 140304152987520 save_impl.py:72] Skipping full serialization of Keras layer <object_detection.core.freezable_batch_norm.FreezableBatchNorm object at 0x7f99fac27150>, because it is not built.\n",
            "WARNING:tensorflow:Skipping full serialization of Keras layer <keras.layers.core.lambda_layer.Lambda object at 0x7f99fa960f90>, because it is not built.\n",
            "W0908 21:00:30.582505 140304152987520 save_impl.py:72] Skipping full serialization of Keras layer <keras.layers.core.lambda_layer.Lambda object at 0x7f99fa960f90>, because it is not built.\n",
            "WARNING:tensorflow:Skipping full serialization of Keras layer <object_detection.core.freezable_batch_norm.FreezableBatchNorm object at 0x7f99fa960190>, because it is not built.\n",
            "W0908 21:00:30.582582 140304152987520 save_impl.py:72] Skipping full serialization of Keras layer <object_detection.core.freezable_batch_norm.FreezableBatchNorm object at 0x7f99fa960190>, because it is not built.\n",
            "WARNING:tensorflow:Skipping full serialization of Keras layer <keras.layers.core.lambda_layer.Lambda object at 0x7f99fa960e50>, because it is not built.\n",
            "W0908 21:00:30.582659 140304152987520 save_impl.py:72] Skipping full serialization of Keras layer <keras.layers.core.lambda_layer.Lambda object at 0x7f99fa960e50>, because it is not built.\n",
            "WARNING:tensorflow:Skipping full serialization of Keras layer <object_detection.core.freezable_batch_norm.FreezableBatchNorm object at 0x7f99fa960f50>, because it is not built.\n",
            "W0908 21:00:30.582750 140304152987520 save_impl.py:72] Skipping full serialization of Keras layer <object_detection.core.freezable_batch_norm.FreezableBatchNorm object at 0x7f99fa960f50>, because it is not built.\n",
            "WARNING:tensorflow:Skipping full serialization of Keras layer <keras.layers.core.lambda_layer.Lambda object at 0x7f99fa8ebe90>, because it is not built.\n",
            "W0908 21:00:30.637548 140304152987520 save_impl.py:72] Skipping full serialization of Keras layer <keras.layers.core.lambda_layer.Lambda object at 0x7f99fa8ebe90>, because it is not built.\n",
            "W0908 21:00:46.945827 140304152987520 save.py:265] Found untraced functions such as WeightSharedConvolutionalBoxPredictor_layer_call_fn, WeightSharedConvolutionalBoxPredictor_layer_call_and_return_conditional_losses, WeightSharedConvolutionalBoxHead_layer_call_fn, WeightSharedConvolutionalBoxHead_layer_call_and_return_conditional_losses, WeightSharedConvolutionalClassHead_layer_call_fn while saving (showing 5 of 104). These functions will not be directly callable after loading.\n",
            "INFO:tensorflow:Assets written to: Tensorflow/workspace/models/my_ssd_mobilenet_v2/tfliteexport/saved_model/assets\n",
            "I0908 21:00:51.975223 140304152987520 builder_impl.py:780] Assets written to: Tensorflow/workspace/models/my_ssd_mobilenet_v2/tfliteexport/saved_model/assets\n"
          ]
        }
      ],
      "source": [
        "!{command}"
      ]
    },
    {
      "cell_type": "code",
      "execution_count": 92,
      "metadata": {
        "id": "iJfYMbN6pfDL"
      },
      "outputs": [],
      "source": [
        "FROZEN_TFLITE_PATH = os.path.join(paths['TFLITE_PATH'], 'saved_model')\n",
        "TFLITE_MODEL = os.path.join(paths['TFLITE_PATH'], 'saved_model', 'detect.tflite')"
      ]
    },
    {
      "cell_type": "code",
      "execution_count": 93,
      "metadata": {
        "id": "Me7HX0Wj4fY0"
      },
      "outputs": [],
      "source": [
        "command = \"tflite_convert \\\n",
        "--saved_model_dir={} \\\n",
        "--output_file={} \\\n",
        "--input_shapes=1,300,300,3 \\\n",
        "--input_arrays=normalized_input_image_tensor \\\n",
        "--output_arrays='TFLite_Detection_PostProcess','TFLite_Detection_PostProcess:1','TFLite_Detection_PostProcess:2','TFLite_Detection_PostProcess:3' \\\n",
        "--inference_type=FLOAT \\\n",
        "--allow_custom_ops\".format(FROZEN_TFLITE_PATH, TFLITE_MODEL, )"
      ]
    },
    {
      "cell_type": "code",
      "execution_count": 94,
      "metadata": {
        "colab": {
          "base_uri": "https://localhost:8080/"
        },
        "id": "E8GwUeoFpfDL",
        "outputId": "e13a2d1b-bd41-41eb-acfd-d2fdc48c160a"
      },
      "outputs": [
        {
          "output_type": "stream",
          "name": "stdout",
          "text": [
            "tflite_convert --saved_model_dir=Tensorflow/workspace/models/my_ssd_mobilenet_v2/tfliteexport/saved_model --output_file=Tensorflow/workspace/models/my_ssd_mobilenet_v2/tfliteexport/saved_model/detect.tflite --input_shapes=1,300,300,3 --input_arrays=normalized_input_image_tensor --output_arrays='TFLite_Detection_PostProcess','TFLite_Detection_PostProcess:1','TFLite_Detection_PostProcess:2','TFLite_Detection_PostProcess:3' --inference_type=FLOAT --allow_custom_ops\n"
          ]
        }
      ],
      "source": [
        "print(command)"
      ]
    },
    {
      "cell_type": "code",
      "execution_count": 95,
      "metadata": {
        "colab": {
          "base_uri": "https://localhost:8080/"
        },
        "id": "Nbd7gqHMpfDL",
        "outputId": "b799b06f-9698-4df1-ea60-7af55871c2ee"
      },
      "outputs": [
        {
          "output_type": "stream",
          "name": "stdout",
          "text": [
            "2022-09-08 21:00:57.897305: W tensorflow/core/common_runtime/gpu/gpu_bfc_allocator.cc:39] Overriding allow_growth setting because the TF_FORCE_GPU_ALLOW_GROWTH environment variable is set. Original config value was 0.\n",
            "2022-09-08 21:01:07.538455: W tensorflow/compiler/mlir/lite/python/tf_tfl_flatbuffer_helpers.cc:357] Ignored output_format.\n",
            "2022-09-08 21:01:07.538519: W tensorflow/compiler/mlir/lite/python/tf_tfl_flatbuffer_helpers.cc:360] Ignored drop_control_dependency.\n",
            "Estimated count of arithmetic ops: 6.806 G  ops, equivalently 3.403 G  MACs\n"
          ]
        }
      ],
      "source": [
        "!{command}"
      ]
    },
    {
      "cell_type": "markdown",
      "source": [
        "**Meta DATA WRITER API** "
      ],
      "metadata": {
        "id": "TCEKtAMyjlah"
      }
    },
    {
      "cell_type": "code",
      "source": [
        "!pip install tflite-support-nightly"
      ],
      "metadata": {
        "colab": {
          "base_uri": "https://localhost:8080/",
          "height": 453
        },
        "id": "7rbba1Z1jxAb",
        "outputId": "931efe5b-4d8a-4c8c-af12-84ffbf4c4e8f"
      },
      "execution_count": 99,
      "outputs": [
        {
          "output_type": "stream",
          "name": "stdout",
          "text": [
            "Looking in indexes: https://pypi.org/simple, https://us-python.pkg.dev/colab-wheels/public/simple/\n",
            "Requirement already satisfied: tflite-support-nightly in /usr/local/lib/python3.7/dist-packages (0.4.0.dev20220816)\n",
            "Collecting flatbuffers>=2.0\n",
            "  Using cached flatbuffers-2.0.7-py2.py3-none-any.whl (26 kB)\n",
            "Requirement already satisfied: protobuf<4,>=3.18.0 in /usr/local/lib/python3.7/dist-packages (from tflite-support-nightly) (3.19.4)\n",
            "Requirement already satisfied: absl-py>=0.7.0 in /usr/local/lib/python3.7/dist-packages (from tflite-support-nightly) (1.2.0)\n",
            "Requirement already satisfied: numpy>=1.20.0 in /usr/local/lib/python3.7/dist-packages (from tflite-support-nightly) (1.21.6)\n",
            "Requirement already satisfied: pybind11>=2.6.0 in /usr/local/lib/python3.7/dist-packages (from tflite-support-nightly) (2.10.0)\n",
            "Requirement already satisfied: sounddevice>=0.4.4 in /usr/local/lib/python3.7/dist-packages (from tflite-support-nightly) (0.4.5)\n",
            "Requirement already satisfied: CFFI>=1.0 in /usr/local/lib/python3.7/dist-packages (from sounddevice>=0.4.4->tflite-support-nightly) (1.15.1)\n",
            "Requirement already satisfied: pycparser in /usr/local/lib/python3.7/dist-packages (from CFFI>=1.0->sounddevice>=0.4.4->tflite-support-nightly) (2.21)\n",
            "Installing collected packages: flatbuffers\n",
            "  Attempting uninstall: flatbuffers\n",
            "    Found existing installation: flatbuffers 1.12\n",
            "    Uninstalling flatbuffers-1.12:\n",
            "      Successfully uninstalled flatbuffers-1.12\n",
            "\u001b[31mERROR: pip's dependency resolver does not currently take into account all the packages that are installed. This behaviour is the source of the following dependency conflicts.\n",
            "tensorflow-text 2.9.0 requires tensorflow<2.10,>=2.9.0; platform_machine != \"arm64\" or platform_system != \"Darwin\", but you have tensorflow 2.8.0+zzzcolab20220506162203 which is incompatible.\u001b[0m\n",
            "Successfully installed flatbuffers-2.0.7\n"
          ]
        },
        {
          "output_type": "display_data",
          "data": {
            "application/vnd.colab-display-data+json": {
              "pip_warning": {
                "packages": [
                  "flatbuffers"
                ]
              }
            }
          },
          "metadata": {}
        }
      ]
    },
    {
      "cell_type": "code",
      "source": [
        "from tflite_support.metadata_writers import object_detector\n",
        "from tflite_support.metadata_writers import writer_utils"
      ],
      "metadata": {
        "id": "K712DIC4j6ls"
      },
      "execution_count": 1,
      "outputs": []
    },
    {
      "cell_type": "code",
      "source": [
        "ObjectDetectorWriter = object_detector.MetadataWriter\n",
        "_MODEL_PATH = \"/content/Tensorflow/workspace/models/my_ssd_mobilenet_v2/tfliteexport/saved_model/detect.tflite\"\n",
        "# Task Library expects label files that are in the same format as the one below.\n",
        "_LABEL_FILE = \"/content/drive/MyDrive/models/labelv2.txt\"\n",
        "_SAVE_TO_PATH = \"/content/drive/MyDrive/models/detectmetav4_640x640.tflite\"\n",
        "# Normalization parameters is required when reprocessing the image. It is\n",
        "# optional if the image pixel values are in range of [0, 255] and the input\n",
        "# tensor is quantized to uint8. See the introduction for normalization and\n",
        "# quantization parameters below for more details.\n",
        "# https://www.tensorflow.org/lite/models/convert/metadata#normalization_and_quantization_parameters)\n",
        "_INPUT_NORM_MEAN = 127.5\n",
        "_INPUT_NORM_STD = 127.5\n",
        "\n",
        "# Create the metadata writer.\n",
        "writer = ObjectDetectorWriter.create_for_inference(\n",
        "    writer_utils.load_file(_MODEL_PATH), [_INPUT_NORM_MEAN], [_INPUT_NORM_STD],\n",
        "    [_LABEL_FILE])\n",
        "\n",
        "# Verify the metadata generated by metadata writer.\n",
        "print(writer.get_metadata_json())\n",
        "\n",
        "# Populate the metadata into the model.\n",
        "writer_utils.save_file(writer.populate(), _SAVE_TO_PATH)"
      ],
      "metadata": {
        "colab": {
          "base_uri": "https://localhost:8080/"
        },
        "id": "XC_osXYykPt3",
        "outputId": "2f551694-6a51-4c7a-d07d-54dc96ff584a"
      },
      "execution_count": 2,
      "outputs": [
        {
          "output_type": "stream",
          "name": "stdout",
          "text": [
            "{\n",
            "  \"name\": \"ObjectDetector\",\n",
            "  \"description\": \"Identify which of a known set of objects might be present and provide information about their positions within the given image or a video stream.\",\n",
            "  \"subgraph_metadata\": [\n",
            "    {\n",
            "      \"input_tensor_metadata\": [\n",
            "        {\n",
            "          \"name\": \"image\",\n",
            "          \"description\": \"Input image to be detected.\",\n",
            "          \"content\": {\n",
            "            \"content_properties_type\": \"ImageProperties\",\n",
            "            \"content_properties\": {\n",
            "              \"color_space\": \"RGB\"\n",
            "            }\n",
            "          },\n",
            "          \"process_units\": [\n",
            "            {\n",
            "              \"options_type\": \"NormalizationOptions\",\n",
            "              \"options\": {\n",
            "                \"mean\": [\n",
            "                  127.5\n",
            "                ],\n",
            "                \"std\": [\n",
            "                  127.5\n",
            "                ]\n",
            "              }\n",
            "            }\n",
            "          ],\n",
            "          \"stats\": {\n",
            "            \"max\": [\n",
            "              1.0\n",
            "            ],\n",
            "            \"min\": [\n",
            "              -1.0\n",
            "            ]\n",
            "          }\n",
            "        }\n",
            "      ],\n",
            "      \"output_tensor_metadata\": [\n",
            "        {\n",
            "          \"name\": \"score\",\n",
            "          \"description\": \"The scores of the detected boxes.\",\n",
            "          \"content\": {\n",
            "            \"content_properties_type\": \"FeatureProperties\",\n",
            "            \"content_properties\": {\n",
            "            },\n",
            "            \"range\": {\n",
            "              \"min\": 2,\n",
            "              \"max\": 2\n",
            "            }\n",
            "          },\n",
            "          \"stats\": {\n",
            "          }\n",
            "        },\n",
            "        {\n",
            "          \"name\": \"location\",\n",
            "          \"description\": \"The locations of the detected boxes.\",\n",
            "          \"content\": {\n",
            "            \"content_properties_type\": \"BoundingBoxProperties\",\n",
            "            \"content_properties\": {\n",
            "              \"index\": [\n",
            "                1,\n",
            "                0,\n",
            "                3,\n",
            "                2\n",
            "              ],\n",
            "              \"type\": \"BOUNDARIES\"\n",
            "            },\n",
            "            \"range\": {\n",
            "              \"min\": 2,\n",
            "              \"max\": 2\n",
            "            }\n",
            "          },\n",
            "          \"stats\": {\n",
            "          }\n",
            "        },\n",
            "        {\n",
            "          \"name\": \"number of detections\",\n",
            "          \"description\": \"The number of the detected boxes.\",\n",
            "          \"content\": {\n",
            "            \"content_properties_type\": \"FeatureProperties\",\n",
            "            \"content_properties\": {\n",
            "            }\n",
            "          },\n",
            "          \"stats\": {\n",
            "          }\n",
            "        },\n",
            "        {\n",
            "          \"name\": \"category\",\n",
            "          \"description\": \"The categories of the detected boxes.\",\n",
            "          \"content\": {\n",
            "            \"content_properties_type\": \"FeatureProperties\",\n",
            "            \"content_properties\": {\n",
            "            },\n",
            "            \"range\": {\n",
            "              \"min\": 2,\n",
            "              \"max\": 2\n",
            "            }\n",
            "          },\n",
            "          \"stats\": {\n",
            "          },\n",
            "          \"associated_files\": [\n",
            "            {\n",
            "              \"name\": \"labelv2.txt\",\n",
            "              \"description\": \"Labels for categories that the model can recognize.\",\n",
            "              \"type\": \"TENSOR_VALUE_LABELS\"\n",
            "            }\n",
            "          ]\n",
            "        }\n",
            "      ],\n",
            "      \"output_tensor_groups\": [\n",
            "        {\n",
            "          \"name\": \"detection_result\",\n",
            "          \"tensor_names\": [\n",
            "            \"location\",\n",
            "            \"category\",\n",
            "            \"score\"\n",
            "          ]\n",
            "        }\n",
            "      ]\n",
            "    }\n",
            "  ]\n",
            "}\n",
            "\n"
          ]
        }
      ]
    },
    {
      "cell_type": "markdown",
      "metadata": {
        "id": "5NQqZRdA21Uc"
      },
      "source": [
        "# 13. Zip and Export Models "
      ]
    },
    {
      "cell_type": "code",
      "execution_count": null,
      "metadata": {
        "id": "tTVTGCQp2ZJJ"
      },
      "outputs": [],
      "source": [
        "!tar -czf models.tar.gz {paths['CHECKPOINT_PATH']}"
      ]
    },
    {
      "cell_type": "code",
      "execution_count": 1,
      "metadata": {
        "colab": {
          "base_uri": "https://localhost:8080/"
        },
        "id": "u37IhP499I5M",
        "outputId": "2d29ab34-d55d-4b24-df9b-a744821ddd32"
      },
      "outputs": [
        {
          "output_type": "stream",
          "name": "stdout",
          "text": [
            "/usr/local/lib/python3.7/dist-packages/gdown/cli.py:131: FutureWarning: Option `--id` was deprecated in version 4.3.1 and will be removed in 5.0. You don't need to pass it anymore to use a file ID.\n",
            "  category=FutureWarning,\n",
            "Downloading...\n",
            "From: https://drive.google.com/uc?id=1xZdj5xGkbMfMT7H9tW0oHADjiutDj6Yw\n",
            "To: /content/archive.tar.gz\n",
            "100% 183M/183M [00:05<00:00, 36.5MB/s]\n"
          ]
        }
      ],
      "source": [
        "!gdown --id 1xZdj5xGkbMfMT7H9tW0oHADjiutDj6Yw"
      ]
    },
    {
      "cell_type": "code",
      "source": [
        "from google.colab import drive\n",
        "drive.mount('/content/drive')"
      ],
      "metadata": {
        "colab": {
          "base_uri": "https://localhost:8080/"
        },
        "id": "gA1m6dGVkCCj",
        "outputId": "77a5d908-f819-4b42-8c40-1b96275f3b3d"
      },
      "execution_count": 50,
      "outputs": [
        {
          "output_type": "stream",
          "name": "stdout",
          "text": [
            "Mounted at /content/drive\n"
          ]
        }
      ]
    }
  ],
  "metadata": {
    "accelerator": "GPU",
    "colab": {
      "collapsed_sections": [
        "orvRk02UpfDI",
        "0EmsmbBZpfDI",
        "IsNAaYAo0WVL",
        "rzlM4jt0pfDJ",
        "wTPmdqaXpfDK",
        "VtUw73FHpfDK"
      ],
      "provenance": [],
      "include_colab_link": true
    },
    "gpuClass": "standard",
    "kernelspec": {
      "display_name": "tfod",
      "language": "python",
      "name": "tfod"
    },
    "language_info": {
      "codemirror_mode": {
        "name": "ipython",
        "version": 3
      },
      "file_extension": ".py",
      "mimetype": "text/x-python",
      "name": "python",
      "nbconvert_exporter": "python",
      "pygments_lexer": "ipython3",
      "version": "3.7.3"
    }
  },
  "nbformat": 4,
  "nbformat_minor": 0
}